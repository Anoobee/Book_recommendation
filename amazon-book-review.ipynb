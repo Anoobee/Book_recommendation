{
 "cells": [
  {
   "cell_type": "code",
   "execution_count": 1,
   "id": "699ba715",
   "metadata": {
    "_cell_guid": "b1076dfc-b9ad-4769-8c92-a6c4dae69d19",
    "_uuid": "8f2839f25d086af736a60e9eeb907d3b93b6e0e5",
    "execution": {
     "iopub.execute_input": "2024-04-19T04:20:37.887327Z",
     "iopub.status.busy": "2024-04-19T04:20:37.885982Z",
     "iopub.status.idle": "2024-04-19T04:20:38.810996Z",
     "shell.execute_reply": "2024-04-19T04:20:38.809504Z"
    },
    "papermill": {
     "duration": 0.943464,
     "end_time": "2024-04-19T04:20:38.813753",
     "exception": false,
     "start_time": "2024-04-19T04:20:37.870289",
     "status": "completed"
    },
    "tags": []
   },
   "outputs": [
    {
     "name": "stdout",
     "output_type": "stream",
     "text": [
      "/kaggle/input/amazon-books-dataset/Amazon_Books_Scraping/Genre_df.csv\n",
      "/kaggle/input/amazon-books-dataset/Amazon_Books_Scraping/Books_df.csv\n",
      "/kaggle/input/amazon-books-dataset/Amazon_Books_Scraping/Sub_Genre_df.csv\n"
     ]
    }
   ],
   "source": [
    "\n",
    "import numpy as np # linear algebra\n",
    "import pandas as pd # data processing, CSV file I/O (e.g. pd.read_csv)\n",
    "\n",
    "import os\n",
    "for dirname, _, filenames in os.walk('/kaggle/input'):\n",
    "    for filename in filenames:\n",
    "        print(os.path.join(dirname, filename))\n",
    "\n",
    "import matplotlib.pyplot as plt"
   ]
  },
  {
   "cell_type": "code",
   "execution_count": 2,
   "id": "b08d18ba",
   "metadata": {
    "execution": {
     "iopub.execute_input": "2024-04-19T04:20:38.843693Z",
     "iopub.status.busy": "2024-04-19T04:20:38.842602Z",
     "iopub.status.idle": "2024-04-19T04:20:38.996640Z",
     "shell.execute_reply": "2024-04-19T04:20:38.995578Z"
    },
    "papermill": {
     "duration": 0.171609,
     "end_time": "2024-04-19T04:20:38.999228",
     "exception": false,
     "start_time": "2024-04-19T04:20:38.827619",
     "status": "completed"
    },
    "tags": []
   },
   "outputs": [],
   "source": [
    "df_books = pd.read_csv('/kaggle/input/amazon-books-dataset/Amazon_Books_Scraping/Books_df.csv')\n",
    "df_genre= pd.read_csv('/kaggle/input/amazon-books-dataset/Amazon_Books_Scraping/Genre_df.csv')\n",
    "df_sub_genre= pd.read_csv('/kaggle/input/amazon-books-dataset/Amazon_Books_Scraping/Sub_Genre_df.csv')"
   ]
  },
  {
   "cell_type": "code",
   "execution_count": null,
   "id": "b1eff2c0",
   "metadata": {
    "execution": {
     "iopub.execute_input": "2024-04-17T10:02:55.295863Z",
     "iopub.status.busy": "2024-04-17T10:02:55.295413Z",
     "iopub.status.idle": "2024-04-17T10:02:55.319420Z",
     "shell.execute_reply": "2024-04-17T10:02:55.318249Z",
     "shell.execute_reply.started": "2024-04-17T10:02:55.295832Z"
    },
    "papermill": {
     "duration": 0.013241,
     "end_time": "2024-04-19T04:20:39.026224",
     "exception": false,
     "start_time": "2024-04-19T04:20:39.012983",
     "status": "completed"
    },
    "tags": []
   },
   "outputs": [],
   "source": [
    "\n",
    "    "
   ]
  },
  {
   "cell_type": "code",
   "execution_count": 3,
   "id": "0571d849",
   "metadata": {
    "execution": {
     "iopub.execute_input": "2024-04-19T04:20:39.056386Z",
     "iopub.status.busy": "2024-04-19T04:20:39.055840Z",
     "iopub.status.idle": "2024-04-19T04:20:39.089140Z",
     "shell.execute_reply": "2024-04-19T04:20:39.088002Z"
    },
    "papermill": {
     "duration": 0.051579,
     "end_time": "2024-04-19T04:20:39.091415",
     "exception": false,
     "start_time": "2024-04-19T04:20:39.039836",
     "status": "completed"
    },
    "tags": []
   },
   "outputs": [
    {
     "name": "stdout",
     "output_type": "stream",
     "text": [
      "<class 'pandas.core.frame.DataFrame'>\n",
      "RangeIndex: 7928 entries, 0 to 7927\n",
      "Data columns (total 10 columns):\n",
      " #   Column               Non-Null Count  Dtype  \n",
      "---  ------               --------------  -----  \n",
      " 0   Unnamed: 0           7928 non-null   int64  \n",
      " 1   Title                7928 non-null   object \n",
      " 2   Author               7907 non-null   object \n",
      " 3   Main Genre           7928 non-null   object \n",
      " 4   Sub Genre            7928 non-null   object \n",
      " 5   Type                 7928 non-null   object \n",
      " 6   Price                7928 non-null   object \n",
      " 7   Rating               7928 non-null   float64\n",
      " 8   No. of People rated  7928 non-null   float64\n",
      " 9   URLs                 7928 non-null   object \n",
      "dtypes: float64(2), int64(1), object(7)\n",
      "memory usage: 619.5+ KB\n"
     ]
    }
   ],
   "source": [
    "df_books.info()"
   ]
  },
  {
   "cell_type": "code",
   "execution_count": 4,
   "id": "c455c731",
   "metadata": {
    "execution": {
     "iopub.execute_input": "2024-04-19T04:20:39.120787Z",
     "iopub.status.busy": "2024-04-19T04:20:39.119959Z",
     "iopub.status.idle": "2024-04-19T04:20:39.130209Z",
     "shell.execute_reply": "2024-04-19T04:20:39.128968Z"
    },
    "papermill": {
     "duration": 0.027639,
     "end_time": "2024-04-19T04:20:39.132716",
     "exception": false,
     "start_time": "2024-04-19T04:20:39.105077",
     "status": "completed"
    },
    "tags": []
   },
   "outputs": [
    {
     "name": "stdout",
     "output_type": "stream",
     "text": [
      "<class 'pandas.core.frame.DataFrame'>\n",
      "RangeIndex: 35 entries, 0 to 34\n",
      "Data columns (total 3 columns):\n",
      " #   Column                Non-Null Count  Dtype \n",
      "---  ------                --------------  ----- \n",
      " 0   Title                 35 non-null     object\n",
      " 1   Number of Sub-genres  35 non-null     int64 \n",
      " 2   URL                   35 non-null     object\n",
      "dtypes: int64(1), object(2)\n",
      "memory usage: 968.0+ bytes\n"
     ]
    }
   ],
   "source": [
    "df_genre.info()"
   ]
  },
  {
   "cell_type": "code",
   "execution_count": 5,
   "id": "3ee0e9ea",
   "metadata": {
    "execution": {
     "iopub.execute_input": "2024-04-19T04:20:39.161990Z",
     "iopub.status.busy": "2024-04-19T04:20:39.161581Z",
     "iopub.status.idle": "2024-04-19T04:20:39.172565Z",
     "shell.execute_reply": "2024-04-19T04:20:39.171555Z"
    },
    "papermill": {
     "duration": 0.028564,
     "end_time": "2024-04-19T04:20:39.174996",
     "exception": false,
     "start_time": "2024-04-19T04:20:39.146432",
     "status": "completed"
    },
    "tags": []
   },
   "outputs": [
    {
     "name": "stdout",
     "output_type": "stream",
     "text": [
      "<class 'pandas.core.frame.DataFrame'>\n",
      "RangeIndex: 329 entries, 0 to 328\n",
      "Data columns (total 4 columns):\n",
      " #   Column        Non-Null Count  Dtype  \n",
      "---  ------        --------------  -----  \n",
      " 0   Title         329 non-null    object \n",
      " 1   Main Genre    329 non-null    object \n",
      " 2   No. of Books  329 non-null    float64\n",
      " 3   URLs          329 non-null    object \n",
      "dtypes: float64(1), object(3)\n",
      "memory usage: 10.4+ KB\n"
     ]
    }
   ],
   "source": [
    "df_sub_genre.info()"
   ]
  },
  {
   "cell_type": "code",
   "execution_count": 6,
   "id": "a840d61c",
   "metadata": {
    "execution": {
     "iopub.execute_input": "2024-04-19T04:20:39.204845Z",
     "iopub.status.busy": "2024-04-19T04:20:39.204470Z",
     "iopub.status.idle": "2024-04-19T04:20:39.218593Z",
     "shell.execute_reply": "2024-04-19T04:20:39.217513Z"
    },
    "papermill": {
     "duration": 0.032539,
     "end_time": "2024-04-19T04:20:39.221406",
     "exception": false,
     "start_time": "2024-04-19T04:20:39.188867",
     "status": "completed"
    },
    "tags": []
   },
   "outputs": [
    {
     "data": {
      "text/html": [
       "<div>\n",
       "<style scoped>\n",
       "    .dataframe tbody tr th:only-of-type {\n",
       "        vertical-align: middle;\n",
       "    }\n",
       "\n",
       "    .dataframe tbody tr th {\n",
       "        vertical-align: top;\n",
       "    }\n",
       "\n",
       "    .dataframe thead th {\n",
       "        text-align: right;\n",
       "    }\n",
       "</style>\n",
       "<table border=\"1\" class=\"dataframe\">\n",
       "  <thead>\n",
       "    <tr style=\"text-align: right;\">\n",
       "      <th></th>\n",
       "      <th>Title</th>\n",
       "      <th>Number of Sub-genres</th>\n",
       "      <th>URL</th>\n",
       "    </tr>\n",
       "  </thead>\n",
       "  <tbody>\n",
       "    <tr>\n",
       "      <th>0</th>\n",
       "      <td>Action &amp; Adventure</td>\n",
       "      <td>0</td>\n",
       "      <td>https://www.amazon.in/gp/bestsellers/books/131...</td>\n",
       "    </tr>\n",
       "    <tr>\n",
       "      <th>1</th>\n",
       "      <td>Arts, Film &amp; Photography</td>\n",
       "      <td>11</td>\n",
       "      <td>https://www.amazon.in/gp/bestsellers/books/131...</td>\n",
       "    </tr>\n",
       "    <tr>\n",
       "      <th>2</th>\n",
       "      <td>Biographies, Diaries &amp; True Accounts</td>\n",
       "      <td>3</td>\n",
       "      <td>https://www.amazon.in/gp/bestsellers/books/131...</td>\n",
       "    </tr>\n",
       "    <tr>\n",
       "      <th>3</th>\n",
       "      <td>Business &amp; Economics</td>\n",
       "      <td>4</td>\n",
       "      <td>https://www.amazon.in/gp/bestsellers/books/131...</td>\n",
       "    </tr>\n",
       "    <tr>\n",
       "      <th>4</th>\n",
       "      <td>Children's Books</td>\n",
       "      <td>34</td>\n",
       "      <td>https://www.amazon.in/gp/bestsellers/books/646...</td>\n",
       "    </tr>\n",
       "  </tbody>\n",
       "</table>\n",
       "</div>"
      ],
      "text/plain": [
       "                                  Title  Number of Sub-genres  \\\n",
       "0                    Action & Adventure                     0   \n",
       "1              Arts, Film & Photography                    11   \n",
       "2  Biographies, Diaries & True Accounts                     3   \n",
       "3                  Business & Economics                     4   \n",
       "4                      Children's Books                    34   \n",
       "\n",
       "                                                 URL  \n",
       "0  https://www.amazon.in/gp/bestsellers/books/131...  \n",
       "1  https://www.amazon.in/gp/bestsellers/books/131...  \n",
       "2  https://www.amazon.in/gp/bestsellers/books/131...  \n",
       "3  https://www.amazon.in/gp/bestsellers/books/131...  \n",
       "4  https://www.amazon.in/gp/bestsellers/books/646...  "
      ]
     },
     "execution_count": 6,
     "metadata": {},
     "output_type": "execute_result"
    }
   ],
   "source": [
    "df_genre.head()"
   ]
  },
  {
   "cell_type": "code",
   "execution_count": 7,
   "id": "647ef3ed",
   "metadata": {
    "execution": {
     "iopub.execute_input": "2024-04-19T04:20:39.252451Z",
     "iopub.status.busy": "2024-04-19T04:20:39.252050Z",
     "iopub.status.idle": "2024-04-19T04:20:39.266426Z",
     "shell.execute_reply": "2024-04-19T04:20:39.265320Z"
    },
    "papermill": {
     "duration": 0.03215,
     "end_time": "2024-04-19T04:20:39.268807",
     "exception": false,
     "start_time": "2024-04-19T04:20:39.236657",
     "status": "completed"
    },
    "tags": []
   },
   "outputs": [
    {
     "data": {
      "text/html": [
       "<div>\n",
       "<style scoped>\n",
       "    .dataframe tbody tr th:only-of-type {\n",
       "        vertical-align: middle;\n",
       "    }\n",
       "\n",
       "    .dataframe tbody tr th {\n",
       "        vertical-align: top;\n",
       "    }\n",
       "\n",
       "    .dataframe thead th {\n",
       "        text-align: right;\n",
       "    }\n",
       "</style>\n",
       "<table border=\"1\" class=\"dataframe\">\n",
       "  <thead>\n",
       "    <tr style=\"text-align: right;\">\n",
       "      <th></th>\n",
       "      <th>Title</th>\n",
       "      <th>Main Genre</th>\n",
       "      <th>No. of Books</th>\n",
       "      <th>URLs</th>\n",
       "    </tr>\n",
       "  </thead>\n",
       "  <tbody>\n",
       "    <tr>\n",
       "      <th>0</th>\n",
       "      <td>Architecture</td>\n",
       "      <td>Arts, Film &amp; Photography</td>\n",
       "      <td>100.0</td>\n",
       "      <td>https://www.amazon.in/gp/bestsellers/books/131...</td>\n",
       "    </tr>\n",
       "    <tr>\n",
       "      <th>1</th>\n",
       "      <td>Cinema &amp; Broadcast</td>\n",
       "      <td>Arts, Film &amp; Photography</td>\n",
       "      <td>100.0</td>\n",
       "      <td>https://www.amazon.in/gp/bestsellers/books/131...</td>\n",
       "    </tr>\n",
       "    <tr>\n",
       "      <th>2</th>\n",
       "      <td>Dance</td>\n",
       "      <td>Arts, Film &amp; Photography</td>\n",
       "      <td>100.0</td>\n",
       "      <td>https://www.amazon.in/gp/bestsellers/books/131...</td>\n",
       "    </tr>\n",
       "    <tr>\n",
       "      <th>3</th>\n",
       "      <td>Design &amp; Fashion</td>\n",
       "      <td>Arts, Film &amp; Photography</td>\n",
       "      <td>100.0</td>\n",
       "      <td>https://www.amazon.in/gp/bestsellers/books/131...</td>\n",
       "    </tr>\n",
       "    <tr>\n",
       "      <th>4</th>\n",
       "      <td>Museums &amp; Museology</td>\n",
       "      <td>Arts, Film &amp; Photography</td>\n",
       "      <td>100.0</td>\n",
       "      <td>https://www.amazon.in/gp/bestsellers/books/131...</td>\n",
       "    </tr>\n",
       "  </tbody>\n",
       "</table>\n",
       "</div>"
      ],
      "text/plain": [
       "                 Title                Main Genre  No. of Books  \\\n",
       "0         Architecture  Arts, Film & Photography         100.0   \n",
       "1   Cinema & Broadcast  Arts, Film & Photography         100.0   \n",
       "2                Dance  Arts, Film & Photography         100.0   \n",
       "3     Design & Fashion  Arts, Film & Photography         100.0   \n",
       "4  Museums & Museology  Arts, Film & Photography         100.0   \n",
       "\n",
       "                                                URLs  \n",
       "0  https://www.amazon.in/gp/bestsellers/books/131...  \n",
       "1  https://www.amazon.in/gp/bestsellers/books/131...  \n",
       "2  https://www.amazon.in/gp/bestsellers/books/131...  \n",
       "3  https://www.amazon.in/gp/bestsellers/books/131...  \n",
       "4  https://www.amazon.in/gp/bestsellers/books/131...  "
      ]
     },
     "execution_count": 7,
     "metadata": {},
     "output_type": "execute_result"
    }
   ],
   "source": [
    "df_sub_genre.head()"
   ]
  },
  {
   "cell_type": "markdown",
   "id": "a9ebcc3a",
   "metadata": {
    "papermill": {
     "duration": 0.014447,
     "end_time": "2024-04-19T04:20:39.297774",
     "exception": false,
     "start_time": "2024-04-19T04:20:39.283327",
     "status": "completed"
    },
    "tags": []
   },
   "source": [
    "### We here work with Books_df.csv only"
   ]
  },
  {
   "cell_type": "code",
   "execution_count": 8,
   "id": "0463545b",
   "metadata": {
    "execution": {
     "iopub.execute_input": "2024-04-19T04:20:39.328633Z",
     "iopub.status.busy": "2024-04-19T04:20:39.328214Z",
     "iopub.status.idle": "2024-04-19T04:20:39.335108Z",
     "shell.execute_reply": "2024-04-19T04:20:39.334041Z"
    },
    "papermill": {
     "duration": 0.025322,
     "end_time": "2024-04-19T04:20:39.337717",
     "exception": false,
     "start_time": "2024-04-19T04:20:39.312395",
     "status": "completed"
    },
    "tags": []
   },
   "outputs": [
    {
     "data": {
      "text/plain": [
       "Index(['Unnamed: 0', 'Title', 'Author', 'Main Genre', 'Sub Genre', 'Type',\n",
       "       'Price', 'Rating', 'No. of People rated', 'URLs'],\n",
       "      dtype='object')"
      ]
     },
     "execution_count": 8,
     "metadata": {},
     "output_type": "execute_result"
    }
   ],
   "source": [
    "df_books.columns\n",
    "\n"
   ]
  },
  {
   "cell_type": "code",
   "execution_count": 9,
   "id": "210c577e",
   "metadata": {
    "execution": {
     "iopub.execute_input": "2024-04-19T04:20:39.369392Z",
     "iopub.status.busy": "2024-04-19T04:20:39.368170Z",
     "iopub.status.idle": "2024-04-19T04:20:39.377626Z",
     "shell.execute_reply": "2024-04-19T04:20:39.376241Z"
    },
    "papermill": {
     "duration": 0.027662,
     "end_time": "2024-04-19T04:20:39.379922",
     "exception": false,
     "start_time": "2024-04-19T04:20:39.352260",
     "status": "completed"
    },
    "tags": []
   },
   "outputs": [
    {
     "name": "stdout",
     "output_type": "stream",
     "text": [
      "['Arts, Film & Photography' 'Biographies, Diaries & True Accounts'\n",
      " 'Business & Economics' \"Children's Books\" 'Comics & Mangas'\n",
      " 'Computing, Internet & Digital Media' 'Crafts, Home & Lifestyle'\n",
      " 'Crime, Thriller & Mystery' 'Engineering' 'Exam Preparation'\n",
      " 'Fantasy, Horror & Science Fiction'\n",
      " 'Health, Family & Personal Development' 'Higher Education Textbooks'\n",
      " 'History' 'Language, Linguistics & Writing' 'Law' 'Literature & Fiction'\n",
      " 'Medicine & Health Sciences' 'Politics' 'Reference' 'Religion' 'Romance'\n",
      " 'School Books' 'Science & Mathematics' 'Sciences, Technology & Medicine'\n",
      " 'Society & Social Sciences' 'Sports' 'Teen & Young Adult'\n",
      " 'Textbooks & Study Guides' 'Travel']\n"
     ]
    }
   ],
   "source": [
    "unique_elements = df_books[\"Main Genre\"].unique()\n",
    "print(unique_elements)"
   ]
  },
  {
   "cell_type": "markdown",
   "id": "f42137e1",
   "metadata": {
    "papermill": {
     "duration": 0.014358,
     "end_time": "2024-04-19T04:20:39.409076",
     "exception": false,
     "start_time": "2024-04-19T04:20:39.394718",
     "status": "completed"
    },
    "tags": []
   },
   "source": []
  },
  {
   "cell_type": "markdown",
   "id": "479b959a",
   "metadata": {
    "papermill": {
     "duration": 0.014893,
     "end_time": "2024-04-19T04:20:39.438810",
     "exception": false,
     "start_time": "2024-04-19T04:20:39.423917",
     "status": "completed"
    },
    "tags": []
   },
   "source": [
    "## Missing values\n"
   ]
  },
  {
   "cell_type": "code",
   "execution_count": 10,
   "id": "8d6d98d2",
   "metadata": {
    "execution": {
     "iopub.execute_input": "2024-04-19T04:20:39.470632Z",
     "iopub.status.busy": "2024-04-19T04:20:39.469938Z",
     "iopub.status.idle": "2024-04-19T04:20:39.485140Z",
     "shell.execute_reply": "2024-04-19T04:20:39.483766Z"
    },
    "papermill": {
     "duration": 0.034146,
     "end_time": "2024-04-19T04:20:39.487897",
     "exception": false,
     "start_time": "2024-04-19T04:20:39.453751",
     "status": "completed"
    },
    "tags": []
   },
   "outputs": [
    {
     "data": {
      "text/plain": [
       "Unnamed: 0             False\n",
       "Title                  False\n",
       "Author                  True\n",
       "Main Genre             False\n",
       "Sub Genre              False\n",
       "Type                   False\n",
       "Price                  False\n",
       "Rating                 False\n",
       "No. of People rated    False\n",
       "URLs                   False\n",
       "dtype: bool"
      ]
     },
     "execution_count": 10,
     "metadata": {},
     "output_type": "execute_result"
    }
   ],
   "source": [
    "df_books.isna().any()"
   ]
  },
  {
   "cell_type": "code",
   "execution_count": 11,
   "id": "2931dc97",
   "metadata": {
    "execution": {
     "iopub.execute_input": "2024-04-19T04:20:39.520489Z",
     "iopub.status.busy": "2024-04-19T04:20:39.519478Z",
     "iopub.status.idle": "2024-04-19T04:20:39.534750Z",
     "shell.execute_reply": "2024-04-19T04:20:39.533635Z"
    },
    "papermill": {
     "duration": 0.034144,
     "end_time": "2024-04-19T04:20:39.536999",
     "exception": false,
     "start_time": "2024-04-19T04:20:39.502855",
     "status": "completed"
    },
    "tags": []
   },
   "outputs": [
    {
     "data": {
      "text/plain": [
       "Unnamed: 0              0\n",
       "Title                   0\n",
       "Author                 21\n",
       "Main Genre              0\n",
       "Sub Genre               0\n",
       "Type                    0\n",
       "Price                   0\n",
       "Rating                  0\n",
       "No. of People rated     0\n",
       "URLs                    0\n",
       "dtype: int64"
      ]
     },
     "execution_count": 11,
     "metadata": {},
     "output_type": "execute_result"
    }
   ],
   "source": [
    "df_books.isna().sum()"
   ]
  },
  {
   "cell_type": "code",
   "execution_count": 12,
   "id": "857a77b4",
   "metadata": {
    "execution": {
     "iopub.execute_input": "2024-04-19T04:20:39.569218Z",
     "iopub.status.busy": "2024-04-19T04:20:39.568520Z",
     "iopub.status.idle": "2024-04-19T04:20:39.908499Z",
     "shell.execute_reply": "2024-04-19T04:20:39.907307Z"
    },
    "papermill": {
     "duration": 0.359112,
     "end_time": "2024-04-19T04:20:39.911111",
     "exception": false,
     "start_time": "2024-04-19T04:20:39.551999",
     "status": "completed"
    },
    "tags": []
   },
   "outputs": [
    {
     "data": {
      "image/png": "[encoded data removed]",
      "text/plain": [
       "<Figure size 640x480 with 1 Axes>"
      ]
     },
     "metadata": {},
     "output_type": "display_data"
    }
   ],
   "source": [
    "df_books.isna().sum().plot(kind=\"bar\")\n",
    "plt.show()"
   ]
  },
  {
   "cell_type": "code",
   "execution_count": 13,
   "id": "d70dd435",
   "metadata": {
    "execution": {
     "iopub.execute_input": "2024-04-19T04:20:39.943560Z",
     "iopub.status.busy": "2024-04-19T04:20:39.943147Z",
     "iopub.status.idle": "2024-04-19T04:20:39.949715Z",
     "shell.execute_reply": "2024-04-19T04:20:39.948742Z"
    },
    "papermill": {
     "duration": 0.025424,
     "end_time": "2024-04-19T04:20:39.951951",
     "exception": false,
     "start_time": "2024-04-19T04:20:39.926527",
     "status": "completed"
    },
    "tags": []
   },
   "outputs": [
    {
     "data": {
      "text/plain": [
       "(7928, 10)"
      ]
     },
     "execution_count": 13,
     "metadata": {},
     "output_type": "execute_result"
    }
   ],
   "source": [
    "df_books.shape"
   ]
  },
  {
   "cell_type": "code",
   "execution_count": 14,
   "id": "1ae31513",
   "metadata": {
    "execution": {
     "iopub.execute_input": "2024-04-19T04:20:39.985597Z",
     "iopub.status.busy": "2024-04-19T04:20:39.985161Z",
     "iopub.status.idle": "2024-04-19T04:20:40.001788Z",
     "shell.execute_reply": "2024-04-19T04:20:40.000933Z"
    },
    "papermill": {
     "duration": 0.036129,
     "end_time": "2024-04-19T04:20:40.004063",
     "exception": false,
     "start_time": "2024-04-19T04:20:39.967934",
     "status": "completed"
    },
    "tags": []
   },
   "outputs": [],
   "source": [
    "df_books_dropped = df_books.dropna()"
   ]
  },
  {
   "cell_type": "markdown",
   "id": "56ab0fe8",
   "metadata": {
    "papermill": {
     "duration": 0.015357,
     "end_time": "2024-04-19T04:20:40.035273",
     "exception": false,
     "start_time": "2024-04-19T04:20:40.019916",
     "status": "completed"
    },
    "tags": []
   },
   "source": [
    "### HotEncoding\n"
   ]
  },
  {
   "cell_type": "code",
   "execution_count": 15,
   "id": "0130d870",
   "metadata": {
    "execution": {
     "iopub.execute_input": "2024-04-19T04:20:40.068616Z",
     "iopub.status.busy": "2024-04-19T04:20:40.068164Z",
     "iopub.status.idle": "2024-04-19T04:20:40.076196Z",
     "shell.execute_reply": "2024-04-19T04:20:40.075090Z"
    },
    "papermill": {
     "duration": 0.027644,
     "end_time": "2024-04-19T04:20:40.078588",
     "exception": false,
     "start_time": "2024-04-19T04:20:40.050944",
     "status": "completed"
    },
    "tags": []
   },
   "outputs": [],
   "source": [
    "hot_encoded = pd.get_dummies(df_books_dropped['Main Genre'],dtype= int) "
   ]
  },
  {
   "cell_type": "code",
   "execution_count": 16,
   "id": "f855ac18",
   "metadata": {
    "execution": {
     "iopub.execute_input": "2024-04-19T04:20:40.112388Z",
     "iopub.status.busy": "2024-04-19T04:20:40.111437Z",
     "iopub.status.idle": "2024-04-19T04:20:40.136257Z",
     "shell.execute_reply": "2024-04-19T04:20:40.135398Z"
    },
    "papermill": {
     "duration": 0.043962,
     "end_time": "2024-04-19T04:20:40.138406",
     "exception": false,
     "start_time": "2024-04-19T04:20:40.094444",
     "status": "completed"
    },
    "tags": []
   },
   "outputs": [
    {
     "data": {
      "text/html": [
       "<div>\n",
       "<style scoped>\n",
       "    .dataframe tbody tr th:only-of-type {\n",
       "        vertical-align: middle;\n",
       "    }\n",
       "\n",
       "    .dataframe tbody tr th {\n",
       "        vertical-align: top;\n",
       "    }\n",
       "\n",
       "    .dataframe thead th {\n",
       "        text-align: right;\n",
       "    }\n",
       "</style>\n",
       "<table border=\"1\" class=\"dataframe\">\n",
       "  <thead>\n",
       "    <tr style=\"text-align: right;\">\n",
       "      <th></th>\n",
       "      <th>Arts, Film &amp; Photography</th>\n",
       "      <th>Biographies, Diaries &amp; True Accounts</th>\n",
       "      <th>Business &amp; Economics</th>\n",
       "      <th>Children's Books</th>\n",
       "      <th>Comics &amp; Mangas</th>\n",
       "      <th>Computing, Internet &amp; Digital Media</th>\n",
       "      <th>Crafts, Home &amp; Lifestyle</th>\n",
       "      <th>Crime, Thriller &amp; Mystery</th>\n",
       "      <th>Engineering</th>\n",
       "      <th>Exam Preparation</th>\n",
       "      <th>...</th>\n",
       "      <th>Religion</th>\n",
       "      <th>Romance</th>\n",
       "      <th>School Books</th>\n",
       "      <th>Science &amp; Mathematics</th>\n",
       "      <th>Sciences, Technology &amp; Medicine</th>\n",
       "      <th>Society &amp; Social Sciences</th>\n",
       "      <th>Sports</th>\n",
       "      <th>Teen &amp; Young Adult</th>\n",
       "      <th>Textbooks &amp; Study Guides</th>\n",
       "      <th>Travel</th>\n",
       "    </tr>\n",
       "  </thead>\n",
       "  <tbody>\n",
       "    <tr>\n",
       "      <th>0</th>\n",
       "      <td>1</td>\n",
       "      <td>0</td>\n",
       "      <td>0</td>\n",
       "      <td>0</td>\n",
       "      <td>0</td>\n",
       "      <td>0</td>\n",
       "      <td>0</td>\n",
       "      <td>0</td>\n",
       "      <td>0</td>\n",
       "      <td>0</td>\n",
       "      <td>...</td>\n",
       "      <td>0</td>\n",
       "      <td>0</td>\n",
       "      <td>0</td>\n",
       "      <td>0</td>\n",
       "      <td>0</td>\n",
       "      <td>0</td>\n",
       "      <td>0</td>\n",
       "      <td>0</td>\n",
       "      <td>0</td>\n",
       "      <td>0</td>\n",
       "    </tr>\n",
       "    <tr>\n",
       "      <th>1</th>\n",
       "      <td>1</td>\n",
       "      <td>0</td>\n",
       "      <td>0</td>\n",
       "      <td>0</td>\n",
       "      <td>0</td>\n",
       "      <td>0</td>\n",
       "      <td>0</td>\n",
       "      <td>0</td>\n",
       "      <td>0</td>\n",
       "      <td>0</td>\n",
       "      <td>...</td>\n",
       "      <td>0</td>\n",
       "      <td>0</td>\n",
       "      <td>0</td>\n",
       "      <td>0</td>\n",
       "      <td>0</td>\n",
       "      <td>0</td>\n",
       "      <td>0</td>\n",
       "      <td>0</td>\n",
       "      <td>0</td>\n",
       "      <td>0</td>\n",
       "    </tr>\n",
       "    <tr>\n",
       "      <th>2</th>\n",
       "      <td>1</td>\n",
       "      <td>0</td>\n",
       "      <td>0</td>\n",
       "      <td>0</td>\n",
       "      <td>0</td>\n",
       "      <td>0</td>\n",
       "      <td>0</td>\n",
       "      <td>0</td>\n",
       "      <td>0</td>\n",
       "      <td>0</td>\n",
       "      <td>...</td>\n",
       "      <td>0</td>\n",
       "      <td>0</td>\n",
       "      <td>0</td>\n",
       "      <td>0</td>\n",
       "      <td>0</td>\n",
       "      <td>0</td>\n",
       "      <td>0</td>\n",
       "      <td>0</td>\n",
       "      <td>0</td>\n",
       "      <td>0</td>\n",
       "    </tr>\n",
       "    <tr>\n",
       "      <th>3</th>\n",
       "      <td>1</td>\n",
       "      <td>0</td>\n",
       "      <td>0</td>\n",
       "      <td>0</td>\n",
       "      <td>0</td>\n",
       "      <td>0</td>\n",
       "      <td>0</td>\n",
       "      <td>0</td>\n",
       "      <td>0</td>\n",
       "      <td>0</td>\n",
       "      <td>...</td>\n",
       "      <td>0</td>\n",
       "      <td>0</td>\n",
       "      <td>0</td>\n",
       "      <td>0</td>\n",
       "      <td>0</td>\n",
       "      <td>0</td>\n",
       "      <td>0</td>\n",
       "      <td>0</td>\n",
       "      <td>0</td>\n",
       "      <td>0</td>\n",
       "    </tr>\n",
       "    <tr>\n",
       "      <th>4</th>\n",
       "      <td>1</td>\n",
       "      <td>0</td>\n",
       "      <td>0</td>\n",
       "      <td>0</td>\n",
       "      <td>0</td>\n",
       "      <td>0</td>\n",
       "      <td>0</td>\n",
       "      <td>0</td>\n",
       "      <td>0</td>\n",
       "      <td>0</td>\n",
       "      <td>...</td>\n",
       "      <td>0</td>\n",
       "      <td>0</td>\n",
       "      <td>0</td>\n",
       "      <td>0</td>\n",
       "      <td>0</td>\n",
       "      <td>0</td>\n",
       "      <td>0</td>\n",
       "      <td>0</td>\n",
       "      <td>0</td>\n",
       "      <td>0</td>\n",
       "    </tr>\n",
       "    <tr>\n",
       "      <th>...</th>\n",
       "      <td>...</td>\n",
       "      <td>...</td>\n",
       "      <td>...</td>\n",
       "      <td>...</td>\n",
       "      <td>...</td>\n",
       "      <td>...</td>\n",
       "      <td>...</td>\n",
       "      <td>...</td>\n",
       "      <td>...</td>\n",
       "      <td>...</td>\n",
       "      <td>...</td>\n",
       "      <td>...</td>\n",
       "      <td>...</td>\n",
       "      <td>...</td>\n",
       "      <td>...</td>\n",
       "      <td>...</td>\n",
       "      <td>...</td>\n",
       "      <td>...</td>\n",
       "      <td>...</td>\n",
       "      <td>...</td>\n",
       "      <td>...</td>\n",
       "    </tr>\n",
       "    <tr>\n",
       "      <th>7923</th>\n",
       "      <td>0</td>\n",
       "      <td>0</td>\n",
       "      <td>0</td>\n",
       "      <td>0</td>\n",
       "      <td>0</td>\n",
       "      <td>0</td>\n",
       "      <td>0</td>\n",
       "      <td>0</td>\n",
       "      <td>0</td>\n",
       "      <td>0</td>\n",
       "      <td>...</td>\n",
       "      <td>0</td>\n",
       "      <td>0</td>\n",
       "      <td>0</td>\n",
       "      <td>0</td>\n",
       "      <td>0</td>\n",
       "      <td>0</td>\n",
       "      <td>0</td>\n",
       "      <td>0</td>\n",
       "      <td>0</td>\n",
       "      <td>1</td>\n",
       "    </tr>\n",
       "    <tr>\n",
       "      <th>7924</th>\n",
       "      <td>0</td>\n",
       "      <td>0</td>\n",
       "      <td>0</td>\n",
       "      <td>0</td>\n",
       "      <td>0</td>\n",
       "      <td>0</td>\n",
       "      <td>0</td>\n",
       "      <td>0</td>\n",
       "      <td>0</td>\n",
       "      <td>0</td>\n",
       "      <td>...</td>\n",
       "      <td>0</td>\n",
       "      <td>0</td>\n",
       "      <td>0</td>\n",
       "      <td>0</td>\n",
       "      <td>0</td>\n",
       "      <td>0</td>\n",
       "      <td>0</td>\n",
       "      <td>0</td>\n",
       "      <td>0</td>\n",
       "      <td>1</td>\n",
       "    </tr>\n",
       "    <tr>\n",
       "      <th>7925</th>\n",
       "      <td>0</td>\n",
       "      <td>0</td>\n",
       "      <td>0</td>\n",
       "      <td>0</td>\n",
       "      <td>0</td>\n",
       "      <td>0</td>\n",
       "      <td>0</td>\n",
       "      <td>0</td>\n",
       "      <td>0</td>\n",
       "      <td>0</td>\n",
       "      <td>...</td>\n",
       "      <td>0</td>\n",
       "      <td>0</td>\n",
       "      <td>0</td>\n",
       "      <td>0</td>\n",
       "      <td>0</td>\n",
       "      <td>0</td>\n",
       "      <td>0</td>\n",
       "      <td>0</td>\n",
       "      <td>0</td>\n",
       "      <td>1</td>\n",
       "    </tr>\n",
       "    <tr>\n",
       "      <th>7926</th>\n",
       "      <td>0</td>\n",
       "      <td>0</td>\n",
       "      <td>0</td>\n",
       "      <td>0</td>\n",
       "      <td>0</td>\n",
       "      <td>0</td>\n",
       "      <td>0</td>\n",
       "      <td>0</td>\n",
       "      <td>0</td>\n",
       "      <td>0</td>\n",
       "      <td>...</td>\n",
       "      <td>0</td>\n",
       "      <td>0</td>\n",
       "      <td>0</td>\n",
       "      <td>0</td>\n",
       "      <td>0</td>\n",
       "      <td>0</td>\n",
       "      <td>0</td>\n",
       "      <td>0</td>\n",
       "      <td>0</td>\n",
       "      <td>1</td>\n",
       "    </tr>\n",
       "    <tr>\n",
       "      <th>7927</th>\n",
       "      <td>0</td>\n",
       "      <td>0</td>\n",
       "      <td>0</td>\n",
       "      <td>0</td>\n",
       "      <td>0</td>\n",
       "      <td>0</td>\n",
       "      <td>0</td>\n",
       "      <td>0</td>\n",
       "      <td>0</td>\n",
       "      <td>0</td>\n",
       "      <td>...</td>\n",
       "      <td>0</td>\n",
       "      <td>0</td>\n",
       "      <td>0</td>\n",
       "      <td>0</td>\n",
       "      <td>0</td>\n",
       "      <td>0</td>\n",
       "      <td>0</td>\n",
       "      <td>0</td>\n",
       "      <td>0</td>\n",
       "      <td>1</td>\n",
       "    </tr>\n",
       "  </tbody>\n",
       "</table>\n",
       "<p>7907 rows × 30 columns</p>\n",
       "</div>"
      ],
      "text/plain": [
       "      Arts, Film & Photography  Biographies, Diaries & True Accounts  \\\n",
       "0                            1                                     0   \n",
       "1                            1                                     0   \n",
       "2                            1                                     0   \n",
       "3                            1                                     0   \n",
       "4                            1                                     0   \n",
       "...                        ...                                   ...   \n",
       "7923                         0                                     0   \n",
       "7924                         0                                     0   \n",
       "7925                         0                                     0   \n",
       "7926                         0                                     0   \n",
       "7927                         0                                     0   \n",
       "\n",
       "      Business & Economics  Children's Books  Comics & Mangas  \\\n",
       "0                        0                 0                0   \n",
       "1                        0                 0                0   \n",
       "2                        0                 0                0   \n",
       "3                        0                 0                0   \n",
       "4                        0                 0                0   \n",
       "...                    ...               ...              ...   \n",
       "7923                     0                 0                0   \n",
       "7924                     0                 0                0   \n",
       "7925                     0                 0                0   \n",
       "7926                     0                 0                0   \n",
       "7927                     0                 0                0   \n",
       "\n",
       "      Computing, Internet & Digital Media  Crafts, Home & Lifestyle  \\\n",
       "0                                       0                         0   \n",
       "1                                       0                         0   \n",
       "2                                       0                         0   \n",
       "3                                       0                         0   \n",
       "4                                       0                         0   \n",
       "...                                   ...                       ...   \n",
       "7923                                    0                         0   \n",
       "7924                                    0                         0   \n",
       "7925                                    0                         0   \n",
       "7926                                    0                         0   \n",
       "7927                                    0                         0   \n",
       "\n",
       "      Crime, Thriller & Mystery  Engineering  Exam Preparation  ...  Religion  \\\n",
       "0                             0            0                 0  ...         0   \n",
       "1                             0            0                 0  ...         0   \n",
       "2                             0            0                 0  ...         0   \n",
       "3                             0            0                 0  ...         0   \n",
       "4                             0            0                 0  ...         0   \n",
       "...                         ...          ...               ...  ...       ...   \n",
       "7923                          0            0                 0  ...         0   \n",
       "7924                          0            0                 0  ...         0   \n",
       "7925                          0            0                 0  ...         0   \n",
       "7926                          0            0                 0  ...         0   \n",
       "7927                          0            0                 0  ...         0   \n",
       "\n",
       "      Romance  School Books  Science & Mathematics  \\\n",
       "0           0             0                      0   \n",
       "1           0             0                      0   \n",
       "2           0             0                      0   \n",
       "3           0             0                      0   \n",
       "4           0             0                      0   \n",
       "...       ...           ...                    ...   \n",
       "7923        0             0                      0   \n",
       "7924        0             0                      0   \n",
       "7925        0             0                      0   \n",
       "7926        0             0                      0   \n",
       "7927        0             0                      0   \n",
       "\n",
       "      Sciences, Technology & Medicine  Society & Social Sciences  Sports  \\\n",
       "0                                   0                          0       0   \n",
       "1                                   0                          0       0   \n",
       "2                                   0                          0       0   \n",
       "3                                   0                          0       0   \n",
       "4                                   0                          0       0   \n",
       "...                               ...                        ...     ...   \n",
       "7923                                0                          0       0   \n",
       "7924                                0                          0       0   \n",
       "7925                                0                          0       0   \n",
       "7926                                0                          0       0   \n",
       "7927                                0                          0       0   \n",
       "\n",
       "      Teen & Young Adult  Textbooks & Study Guides  Travel  \n",
       "0                      0                         0       0  \n",
       "1                      0                         0       0  \n",
       "2                      0                         0       0  \n",
       "3                      0                         0       0  \n",
       "4                      0                         0       0  \n",
       "...                  ...                       ...     ...  \n",
       "7923                   0                         0       1  \n",
       "7924                   0                         0       1  \n",
       "7925                   0                         0       1  \n",
       "7926                   0                         0       1  \n",
       "7927                   0                         0       1  \n",
       "\n",
       "[7907 rows x 30 columns]"
      ]
     },
     "execution_count": 16,
     "metadata": {},
     "output_type": "execute_result"
    }
   ],
   "source": [
    "hot_encoded "
   ]
  },
  {
   "cell_type": "code",
   "execution_count": 17,
   "id": "bb8349a0",
   "metadata": {
    "execution": {
     "iopub.execute_input": "2024-04-19T04:20:40.173445Z",
     "iopub.status.busy": "2024-04-19T04:20:40.172748Z",
     "iopub.status.idle": "2024-04-19T04:20:40.181484Z",
     "shell.execute_reply": "2024-04-19T04:20:40.180398Z"
    },
    "papermill": {
     "duration": 0.028887,
     "end_time": "2024-04-19T04:20:40.183716",
     "exception": false,
     "start_time": "2024-04-19T04:20:40.154829",
     "status": "completed"
    },
    "tags": []
   },
   "outputs": [
    {
     "data": {
      "text/plain": [
       "Index(['ID', 'Title', 'Author', 'Main Genre', 'Sub Genre', 'Type', 'Price',\n",
       "       'Rating', 'No. of People rated', 'URLs'],\n",
       "      dtype='object')"
      ]
     },
     "execution_count": 17,
     "metadata": {},
     "output_type": "execute_result"
    }
   ],
   "source": [
    "df_books_dropped = df_books_dropped.rename(columns={'Unnamed: 0': 'ID'})\n",
    "\n",
    "df_books_dropped.columns\n"
   ]
  },
  {
   "cell_type": "code",
   "execution_count": 18,
   "id": "4bdc599d",
   "metadata": {
    "execution": {
     "iopub.execute_input": "2024-04-19T04:20:40.218402Z",
     "iopub.status.busy": "2024-04-19T04:20:40.217990Z",
     "iopub.status.idle": "2024-04-19T04:20:40.247614Z",
     "shell.execute_reply": "2024-04-19T04:20:40.246375Z"
    },
    "papermill": {
     "duration": 0.049966,
     "end_time": "2024-04-19T04:20:40.250142",
     "exception": false,
     "start_time": "2024-04-19T04:20:40.200176",
     "status": "completed"
    },
    "tags": []
   },
   "outputs": [
    {
     "data": {
      "text/html": [
       "<div>\n",
       "<style scoped>\n",
       "    .dataframe tbody tr th:only-of-type {\n",
       "        vertical-align: middle;\n",
       "    }\n",
       "\n",
       "    .dataframe tbody tr th {\n",
       "        vertical-align: top;\n",
       "    }\n",
       "\n",
       "    .dataframe thead th {\n",
       "        text-align: right;\n",
       "    }\n",
       "</style>\n",
       "<table border=\"1\" class=\"dataframe\">\n",
       "  <thead>\n",
       "    <tr style=\"text-align: right;\">\n",
       "      <th></th>\n",
       "      <th>Rating</th>\n",
       "      <th>Arts, Film &amp; Photography</th>\n",
       "      <th>Biographies, Diaries &amp; True Accounts</th>\n",
       "      <th>Business &amp; Economics</th>\n",
       "      <th>Children's Books</th>\n",
       "      <th>Comics &amp; Mangas</th>\n",
       "      <th>Computing, Internet &amp; Digital Media</th>\n",
       "      <th>Crafts, Home &amp; Lifestyle</th>\n",
       "      <th>Crime, Thriller &amp; Mystery</th>\n",
       "      <th>Engineering</th>\n",
       "      <th>...</th>\n",
       "      <th>Religion</th>\n",
       "      <th>Romance</th>\n",
       "      <th>School Books</th>\n",
       "      <th>Science &amp; Mathematics</th>\n",
       "      <th>Sciences, Technology &amp; Medicine</th>\n",
       "      <th>Society &amp; Social Sciences</th>\n",
       "      <th>Sports</th>\n",
       "      <th>Teen &amp; Young Adult</th>\n",
       "      <th>Textbooks &amp; Study Guides</th>\n",
       "      <th>Travel</th>\n",
       "    </tr>\n",
       "  </thead>\n",
       "  <tbody>\n",
       "    <tr>\n",
       "      <th>0</th>\n",
       "      <td>4.4</td>\n",
       "      <td>1</td>\n",
       "      <td>0</td>\n",
       "      <td>0</td>\n",
       "      <td>0</td>\n",
       "      <td>0</td>\n",
       "      <td>0</td>\n",
       "      <td>0</td>\n",
       "      <td>0</td>\n",
       "      <td>0</td>\n",
       "      <td>...</td>\n",
       "      <td>0</td>\n",
       "      <td>0</td>\n",
       "      <td>0</td>\n",
       "      <td>0</td>\n",
       "      <td>0</td>\n",
       "      <td>0</td>\n",
       "      <td>0</td>\n",
       "      <td>0</td>\n",
       "      <td>0</td>\n",
       "      <td>0</td>\n",
       "    </tr>\n",
       "    <tr>\n",
       "      <th>1</th>\n",
       "      <td>4.5</td>\n",
       "      <td>1</td>\n",
       "      <td>0</td>\n",
       "      <td>0</td>\n",
       "      <td>0</td>\n",
       "      <td>0</td>\n",
       "      <td>0</td>\n",
       "      <td>0</td>\n",
       "      <td>0</td>\n",
       "      <td>0</td>\n",
       "      <td>...</td>\n",
       "      <td>0</td>\n",
       "      <td>0</td>\n",
       "      <td>0</td>\n",
       "      <td>0</td>\n",
       "      <td>0</td>\n",
       "      <td>0</td>\n",
       "      <td>0</td>\n",
       "      <td>0</td>\n",
       "      <td>0</td>\n",
       "      <td>0</td>\n",
       "    </tr>\n",
       "    <tr>\n",
       "      <th>2</th>\n",
       "      <td>4.6</td>\n",
       "      <td>1</td>\n",
       "      <td>0</td>\n",
       "      <td>0</td>\n",
       "      <td>0</td>\n",
       "      <td>0</td>\n",
       "      <td>0</td>\n",
       "      <td>0</td>\n",
       "      <td>0</td>\n",
       "      <td>0</td>\n",
       "      <td>...</td>\n",
       "      <td>0</td>\n",
       "      <td>0</td>\n",
       "      <td>0</td>\n",
       "      <td>0</td>\n",
       "      <td>0</td>\n",
       "      <td>0</td>\n",
       "      <td>0</td>\n",
       "      <td>0</td>\n",
       "      <td>0</td>\n",
       "      <td>0</td>\n",
       "    </tr>\n",
       "    <tr>\n",
       "      <th>3</th>\n",
       "      <td>4.6</td>\n",
       "      <td>1</td>\n",
       "      <td>0</td>\n",
       "      <td>0</td>\n",
       "      <td>0</td>\n",
       "      <td>0</td>\n",
       "      <td>0</td>\n",
       "      <td>0</td>\n",
       "      <td>0</td>\n",
       "      <td>0</td>\n",
       "      <td>...</td>\n",
       "      <td>0</td>\n",
       "      <td>0</td>\n",
       "      <td>0</td>\n",
       "      <td>0</td>\n",
       "      <td>0</td>\n",
       "      <td>0</td>\n",
       "      <td>0</td>\n",
       "      <td>0</td>\n",
       "      <td>0</td>\n",
       "      <td>0</td>\n",
       "    </tr>\n",
       "    <tr>\n",
       "      <th>4</th>\n",
       "      <td>4.5</td>\n",
       "      <td>1</td>\n",
       "      <td>0</td>\n",
       "      <td>0</td>\n",
       "      <td>0</td>\n",
       "      <td>0</td>\n",
       "      <td>0</td>\n",
       "      <td>0</td>\n",
       "      <td>0</td>\n",
       "      <td>0</td>\n",
       "      <td>...</td>\n",
       "      <td>0</td>\n",
       "      <td>0</td>\n",
       "      <td>0</td>\n",
       "      <td>0</td>\n",
       "      <td>0</td>\n",
       "      <td>0</td>\n",
       "      <td>0</td>\n",
       "      <td>0</td>\n",
       "      <td>0</td>\n",
       "      <td>0</td>\n",
       "    </tr>\n",
       "    <tr>\n",
       "      <th>...</th>\n",
       "      <td>...</td>\n",
       "      <td>...</td>\n",
       "      <td>...</td>\n",
       "      <td>...</td>\n",
       "      <td>...</td>\n",
       "      <td>...</td>\n",
       "      <td>...</td>\n",
       "      <td>...</td>\n",
       "      <td>...</td>\n",
       "      <td>...</td>\n",
       "      <td>...</td>\n",
       "      <td>...</td>\n",
       "      <td>...</td>\n",
       "      <td>...</td>\n",
       "      <td>...</td>\n",
       "      <td>...</td>\n",
       "      <td>...</td>\n",
       "      <td>...</td>\n",
       "      <td>...</td>\n",
       "      <td>...</td>\n",
       "      <td>...</td>\n",
       "    </tr>\n",
       "    <tr>\n",
       "      <th>7923</th>\n",
       "      <td>4.7</td>\n",
       "      <td>0</td>\n",
       "      <td>0</td>\n",
       "      <td>0</td>\n",
       "      <td>0</td>\n",
       "      <td>0</td>\n",
       "      <td>0</td>\n",
       "      <td>0</td>\n",
       "      <td>0</td>\n",
       "      <td>0</td>\n",
       "      <td>...</td>\n",
       "      <td>0</td>\n",
       "      <td>0</td>\n",
       "      <td>0</td>\n",
       "      <td>0</td>\n",
       "      <td>0</td>\n",
       "      <td>0</td>\n",
       "      <td>0</td>\n",
       "      <td>0</td>\n",
       "      <td>0</td>\n",
       "      <td>1</td>\n",
       "    </tr>\n",
       "    <tr>\n",
       "      <th>7924</th>\n",
       "      <td>4.4</td>\n",
       "      <td>0</td>\n",
       "      <td>0</td>\n",
       "      <td>0</td>\n",
       "      <td>0</td>\n",
       "      <td>0</td>\n",
       "      <td>0</td>\n",
       "      <td>0</td>\n",
       "      <td>0</td>\n",
       "      <td>0</td>\n",
       "      <td>...</td>\n",
       "      <td>0</td>\n",
       "      <td>0</td>\n",
       "      <td>0</td>\n",
       "      <td>0</td>\n",
       "      <td>0</td>\n",
       "      <td>0</td>\n",
       "      <td>0</td>\n",
       "      <td>0</td>\n",
       "      <td>0</td>\n",
       "      <td>1</td>\n",
       "    </tr>\n",
       "    <tr>\n",
       "      <th>7925</th>\n",
       "      <td>4.5</td>\n",
       "      <td>0</td>\n",
       "      <td>0</td>\n",
       "      <td>0</td>\n",
       "      <td>0</td>\n",
       "      <td>0</td>\n",
       "      <td>0</td>\n",
       "      <td>0</td>\n",
       "      <td>0</td>\n",
       "      <td>0</td>\n",
       "      <td>...</td>\n",
       "      <td>0</td>\n",
       "      <td>0</td>\n",
       "      <td>0</td>\n",
       "      <td>0</td>\n",
       "      <td>0</td>\n",
       "      <td>0</td>\n",
       "      <td>0</td>\n",
       "      <td>0</td>\n",
       "      <td>0</td>\n",
       "      <td>1</td>\n",
       "    </tr>\n",
       "    <tr>\n",
       "      <th>7926</th>\n",
       "      <td>4.7</td>\n",
       "      <td>0</td>\n",
       "      <td>0</td>\n",
       "      <td>0</td>\n",
       "      <td>0</td>\n",
       "      <td>0</td>\n",
       "      <td>0</td>\n",
       "      <td>0</td>\n",
       "      <td>0</td>\n",
       "      <td>0</td>\n",
       "      <td>...</td>\n",
       "      <td>0</td>\n",
       "      <td>0</td>\n",
       "      <td>0</td>\n",
       "      <td>0</td>\n",
       "      <td>0</td>\n",
       "      <td>0</td>\n",
       "      <td>0</td>\n",
       "      <td>0</td>\n",
       "      <td>0</td>\n",
       "      <td>1</td>\n",
       "    </tr>\n",
       "    <tr>\n",
       "      <th>7927</th>\n",
       "      <td>3.9</td>\n",
       "      <td>0</td>\n",
       "      <td>0</td>\n",
       "      <td>0</td>\n",
       "      <td>0</td>\n",
       "      <td>0</td>\n",
       "      <td>0</td>\n",
       "      <td>0</td>\n",
       "      <td>0</td>\n",
       "      <td>0</td>\n",
       "      <td>...</td>\n",
       "      <td>0</td>\n",
       "      <td>0</td>\n",
       "      <td>0</td>\n",
       "      <td>0</td>\n",
       "      <td>0</td>\n",
       "      <td>0</td>\n",
       "      <td>0</td>\n",
       "      <td>0</td>\n",
       "      <td>0</td>\n",
       "      <td>1</td>\n",
       "    </tr>\n",
       "  </tbody>\n",
       "</table>\n",
       "<p>7907 rows × 31 columns</p>\n",
       "</div>"
      ],
      "text/plain": [
       "      Rating  Arts, Film & Photography  Biographies, Diaries & True Accounts  \\\n",
       "0        4.4                         1                                     0   \n",
       "1        4.5                         1                                     0   \n",
       "2        4.6                         1                                     0   \n",
       "3        4.6                         1                                     0   \n",
       "4        4.5                         1                                     0   \n",
       "...      ...                       ...                                   ...   \n",
       "7923     4.7                         0                                     0   \n",
       "7924     4.4                         0                                     0   \n",
       "7925     4.5                         0                                     0   \n",
       "7926     4.7                         0                                     0   \n",
       "7927     3.9                         0                                     0   \n",
       "\n",
       "      Business & Economics  Children's Books  Comics & Mangas  \\\n",
       "0                        0                 0                0   \n",
       "1                        0                 0                0   \n",
       "2                        0                 0                0   \n",
       "3                        0                 0                0   \n",
       "4                        0                 0                0   \n",
       "...                    ...               ...              ...   \n",
       "7923                     0                 0                0   \n",
       "7924                     0                 0                0   \n",
       "7925                     0                 0                0   \n",
       "7926                     0                 0                0   \n",
       "7927                     0                 0                0   \n",
       "\n",
       "      Computing, Internet & Digital Media  Crafts, Home & Lifestyle  \\\n",
       "0                                       0                         0   \n",
       "1                                       0                         0   \n",
       "2                                       0                         0   \n",
       "3                                       0                         0   \n",
       "4                                       0                         0   \n",
       "...                                   ...                       ...   \n",
       "7923                                    0                         0   \n",
       "7924                                    0                         0   \n",
       "7925                                    0                         0   \n",
       "7926                                    0                         0   \n",
       "7927                                    0                         0   \n",
       "\n",
       "      Crime, Thriller & Mystery  Engineering  ...  Religion  Romance  \\\n",
       "0                             0            0  ...         0        0   \n",
       "1                             0            0  ...         0        0   \n",
       "2                             0            0  ...         0        0   \n",
       "3                             0            0  ...         0        0   \n",
       "4                             0            0  ...         0        0   \n",
       "...                         ...          ...  ...       ...      ...   \n",
       "7923                          0            0  ...         0        0   \n",
       "7924                          0            0  ...         0        0   \n",
       "7925                          0            0  ...         0        0   \n",
       "7926                          0            0  ...         0        0   \n",
       "7927                          0            0  ...         0        0   \n",
       "\n",
       "      School Books  Science & Mathematics  Sciences, Technology & Medicine  \\\n",
       "0                0                      0                                0   \n",
       "1                0                      0                                0   \n",
       "2                0                      0                                0   \n",
       "3                0                      0                                0   \n",
       "4                0                      0                                0   \n",
       "...            ...                    ...                              ...   \n",
       "7923             0                      0                                0   \n",
       "7924             0                      0                                0   \n",
       "7925             0                      0                                0   \n",
       "7926             0                      0                                0   \n",
       "7927             0                      0                                0   \n",
       "\n",
       "      Society & Social Sciences  Sports  Teen & Young Adult  \\\n",
       "0                             0       0                   0   \n",
       "1                             0       0                   0   \n",
       "2                             0       0                   0   \n",
       "3                             0       0                   0   \n",
       "4                             0       0                   0   \n",
       "...                         ...     ...                 ...   \n",
       "7923                          0       0                   0   \n",
       "7924                          0       0                   0   \n",
       "7925                          0       0                   0   \n",
       "7926                          0       0                   0   \n",
       "7927                          0       0                   0   \n",
       "\n",
       "      Textbooks & Study Guides  Travel  \n",
       "0                            0       0  \n",
       "1                            0       0  \n",
       "2                            0       0  \n",
       "3                            0       0  \n",
       "4                            0       0  \n",
       "...                        ...     ...  \n",
       "7923                         0       1  \n",
       "7924                         0       1  \n",
       "7925                         0       1  \n",
       "7926                         0       1  \n",
       "7927                         0       1  \n",
       "\n",
       "[7907 rows x 31 columns]"
      ]
     },
     "execution_count": 18,
     "metadata": {},
     "output_type": "execute_result"
    }
   ],
   "source": [
    "df =df_books_dropped.loc[:, ['Rating']] \n",
    "df= pd.concat([df, hot_encoded], axis=1)\n",
    "df"
   ]
  },
  {
   "cell_type": "code",
   "execution_count": null,
   "id": "4bc26ee1",
   "metadata": {
    "papermill": {
     "duration": 0.01704,
     "end_time": "2024-04-19T04:20:40.284692",
     "exception": false,
     "start_time": "2024-04-19T04:20:40.267652",
     "status": "completed"
    },
    "tags": []
   },
   "outputs": [],
   "source": [
    "\n"
   ]
  },
  {
   "cell_type": "markdown",
   "id": "084b47cb",
   "metadata": {
    "papermill": {
     "duration": 0.017012,
     "end_time": "2024-04-19T04:20:40.378370",
     "exception": false,
     "start_time": "2024-04-19T04:20:40.361358",
     "status": "completed"
    },
    "tags": []
   },
   "source": [
    "### Scaling and Spliting"
   ]
  },
  {
   "cell_type": "code",
   "execution_count": 19,
   "id": "5c438c8a",
   "metadata": {
    "execution": {
     "iopub.execute_input": "2024-04-19T04:20:40.415288Z",
     "iopub.status.busy": "2024-04-19T04:20:40.414615Z",
     "iopub.status.idle": "2024-04-19T04:20:41.818655Z",
     "shell.execute_reply": "2024-04-19T04:20:41.817436Z"
    },
    "papermill": {
     "duration": 1.425707,
     "end_time": "2024-04-19T04:20:41.821434",
     "exception": false,
     "start_time": "2024-04-19T04:20:40.395727",
     "status": "completed"
    },
    "tags": []
   },
   "outputs": [],
   "source": [
    "from sklearn.preprocessing import StandardScaler, MinMaxScaler\n",
    "from sklearn.model_selection import train_test_split"
   ]
  },
  {
   "cell_type": "code",
   "execution_count": 20,
   "id": "fa14c8fe",
   "metadata": {
    "execution": {
     "iopub.execute_input": "2024-04-19T04:20:41.859127Z",
     "iopub.status.busy": "2024-04-19T04:20:41.858727Z",
     "iopub.status.idle": "2024-04-19T04:20:41.904668Z",
     "shell.execute_reply": "2024-04-19T04:20:41.903589Z"
    },
    "papermill": {
     "duration": 0.068189,
     "end_time": "2024-04-19T04:20:41.907618",
     "exception": false,
     "start_time": "2024-04-19T04:20:41.839429",
     "status": "completed"
    },
    "tags": []
   },
   "outputs": [
    {
     "data": {
      "text/html": [
       "<div>\n",
       "<style scoped>\n",
       "    .dataframe tbody tr th:only-of-type {\n",
       "        vertical-align: middle;\n",
       "    }\n",
       "\n",
       "    .dataframe tbody tr th {\n",
       "        vertical-align: top;\n",
       "    }\n",
       "\n",
       "    .dataframe thead th {\n",
       "        text-align: right;\n",
       "    }\n",
       "</style>\n",
       "<table border=\"1\" class=\"dataframe\">\n",
       "  <thead>\n",
       "    <tr style=\"text-align: right;\">\n",
       "      <th></th>\n",
       "      <th>Rating</th>\n",
       "      <th>Arts, Film &amp; Photography</th>\n",
       "      <th>Biographies, Diaries &amp; True Accounts</th>\n",
       "      <th>Business &amp; Economics</th>\n",
       "      <th>Children's Books</th>\n",
       "      <th>Comics &amp; Mangas</th>\n",
       "      <th>Computing, Internet &amp; Digital Media</th>\n",
       "      <th>Crafts, Home &amp; Lifestyle</th>\n",
       "      <th>Crime, Thriller &amp; Mystery</th>\n",
       "      <th>Engineering</th>\n",
       "      <th>...</th>\n",
       "      <th>Religion</th>\n",
       "      <th>Romance</th>\n",
       "      <th>School Books</th>\n",
       "      <th>Science &amp; Mathematics</th>\n",
       "      <th>Sciences, Technology &amp; Medicine</th>\n",
       "      <th>Society &amp; Social Sciences</th>\n",
       "      <th>Sports</th>\n",
       "      <th>Teen &amp; Young Adult</th>\n",
       "      <th>Textbooks &amp; Study Guides</th>\n",
       "      <th>Travel</th>\n",
       "    </tr>\n",
       "  </thead>\n",
       "  <tbody>\n",
       "    <tr>\n",
       "      <th>0</th>\n",
       "      <td>0.153511</td>\n",
       "      <td>6.207657</td>\n",
       "      <td>-0.113177</td>\n",
       "      <td>-0.139059</td>\n",
       "      <td>-0.470475</td>\n",
       "      <td>-0.113177</td>\n",
       "      <td>-0.215208</td>\n",
       "      <td>-0.198588</td>\n",
       "      <td>-0.079773</td>\n",
       "      <td>-0.079773</td>\n",
       "      <td>...</td>\n",
       "      <td>-0.198588</td>\n",
       "      <td>-0.407073</td>\n",
       "      <td>-0.113177</td>\n",
       "      <td>-0.139059</td>\n",
       "      <td>-0.161091</td>\n",
       "      <td>-0.161091</td>\n",
       "      <td>-0.34797</td>\n",
       "      <td>-0.214887</td>\n",
       "      <td>-0.079773</td>\n",
       "      <td>-0.079773</td>\n",
       "    </tr>\n",
       "    <tr>\n",
       "      <th>1</th>\n",
       "      <td>0.263199</td>\n",
       "      <td>6.207657</td>\n",
       "      <td>-0.113177</td>\n",
       "      <td>-0.139059</td>\n",
       "      <td>-0.470475</td>\n",
       "      <td>-0.113177</td>\n",
       "      <td>-0.215208</td>\n",
       "      <td>-0.198588</td>\n",
       "      <td>-0.079773</td>\n",
       "      <td>-0.079773</td>\n",
       "      <td>...</td>\n",
       "      <td>-0.198588</td>\n",
       "      <td>-0.407073</td>\n",
       "      <td>-0.113177</td>\n",
       "      <td>-0.139059</td>\n",
       "      <td>-0.161091</td>\n",
       "      <td>-0.161091</td>\n",
       "      <td>-0.34797</td>\n",
       "      <td>-0.214887</td>\n",
       "      <td>-0.079773</td>\n",
       "      <td>-0.079773</td>\n",
       "    </tr>\n",
       "    <tr>\n",
       "      <th>2</th>\n",
       "      <td>0.372887</td>\n",
       "      <td>6.207657</td>\n",
       "      <td>-0.113177</td>\n",
       "      <td>-0.139059</td>\n",
       "      <td>-0.470475</td>\n",
       "      <td>-0.113177</td>\n",
       "      <td>-0.215208</td>\n",
       "      <td>-0.198588</td>\n",
       "      <td>-0.079773</td>\n",
       "      <td>-0.079773</td>\n",
       "      <td>...</td>\n",
       "      <td>-0.198588</td>\n",
       "      <td>-0.407073</td>\n",
       "      <td>-0.113177</td>\n",
       "      <td>-0.139059</td>\n",
       "      <td>-0.161091</td>\n",
       "      <td>-0.161091</td>\n",
       "      <td>-0.34797</td>\n",
       "      <td>-0.214887</td>\n",
       "      <td>-0.079773</td>\n",
       "      <td>-0.079773</td>\n",
       "    </tr>\n",
       "    <tr>\n",
       "      <th>3</th>\n",
       "      <td>0.372887</td>\n",
       "      <td>6.207657</td>\n",
       "      <td>-0.113177</td>\n",
       "      <td>-0.139059</td>\n",
       "      <td>-0.470475</td>\n",
       "      <td>-0.113177</td>\n",
       "      <td>-0.215208</td>\n",
       "      <td>-0.198588</td>\n",
       "      <td>-0.079773</td>\n",
       "      <td>-0.079773</td>\n",
       "      <td>...</td>\n",
       "      <td>-0.198588</td>\n",
       "      <td>-0.407073</td>\n",
       "      <td>-0.113177</td>\n",
       "      <td>-0.139059</td>\n",
       "      <td>-0.161091</td>\n",
       "      <td>-0.161091</td>\n",
       "      <td>-0.34797</td>\n",
       "      <td>-0.214887</td>\n",
       "      <td>-0.079773</td>\n",
       "      <td>-0.079773</td>\n",
       "    </tr>\n",
       "    <tr>\n",
       "      <th>4</th>\n",
       "      <td>0.263199</td>\n",
       "      <td>6.207657</td>\n",
       "      <td>-0.113177</td>\n",
       "      <td>-0.139059</td>\n",
       "      <td>-0.470475</td>\n",
       "      <td>-0.113177</td>\n",
       "      <td>-0.215208</td>\n",
       "      <td>-0.198588</td>\n",
       "      <td>-0.079773</td>\n",
       "      <td>-0.079773</td>\n",
       "      <td>...</td>\n",
       "      <td>-0.198588</td>\n",
       "      <td>-0.407073</td>\n",
       "      <td>-0.113177</td>\n",
       "      <td>-0.139059</td>\n",
       "      <td>-0.161091</td>\n",
       "      <td>-0.161091</td>\n",
       "      <td>-0.34797</td>\n",
       "      <td>-0.214887</td>\n",
       "      <td>-0.079773</td>\n",
       "      <td>-0.079773</td>\n",
       "    </tr>\n",
       "    <tr>\n",
       "      <th>...</th>\n",
       "      <td>...</td>\n",
       "      <td>...</td>\n",
       "      <td>...</td>\n",
       "      <td>...</td>\n",
       "      <td>...</td>\n",
       "      <td>...</td>\n",
       "      <td>...</td>\n",
       "      <td>...</td>\n",
       "      <td>...</td>\n",
       "      <td>...</td>\n",
       "      <td>...</td>\n",
       "      <td>...</td>\n",
       "      <td>...</td>\n",
       "      <td>...</td>\n",
       "      <td>...</td>\n",
       "      <td>...</td>\n",
       "      <td>...</td>\n",
       "      <td>...</td>\n",
       "      <td>...</td>\n",
       "      <td>...</td>\n",
       "      <td>...</td>\n",
       "    </tr>\n",
       "    <tr>\n",
       "      <th>7902</th>\n",
       "      <td>0.482576</td>\n",
       "      <td>-0.161091</td>\n",
       "      <td>-0.113177</td>\n",
       "      <td>-0.139059</td>\n",
       "      <td>-0.470475</td>\n",
       "      <td>-0.113177</td>\n",
       "      <td>-0.215208</td>\n",
       "      <td>-0.198588</td>\n",
       "      <td>-0.079773</td>\n",
       "      <td>-0.079773</td>\n",
       "      <td>...</td>\n",
       "      <td>-0.198588</td>\n",
       "      <td>-0.407073</td>\n",
       "      <td>-0.113177</td>\n",
       "      <td>-0.139059</td>\n",
       "      <td>-0.161091</td>\n",
       "      <td>-0.161091</td>\n",
       "      <td>-0.34797</td>\n",
       "      <td>-0.214887</td>\n",
       "      <td>-0.079773</td>\n",
       "      <td>12.535549</td>\n",
       "    </tr>\n",
       "    <tr>\n",
       "      <th>7903</th>\n",
       "      <td>0.153511</td>\n",
       "      <td>-0.161091</td>\n",
       "      <td>-0.113177</td>\n",
       "      <td>-0.139059</td>\n",
       "      <td>-0.470475</td>\n",
       "      <td>-0.113177</td>\n",
       "      <td>-0.215208</td>\n",
       "      <td>-0.198588</td>\n",
       "      <td>-0.079773</td>\n",
       "      <td>-0.079773</td>\n",
       "      <td>...</td>\n",
       "      <td>-0.198588</td>\n",
       "      <td>-0.407073</td>\n",
       "      <td>-0.113177</td>\n",
       "      <td>-0.139059</td>\n",
       "      <td>-0.161091</td>\n",
       "      <td>-0.161091</td>\n",
       "      <td>-0.34797</td>\n",
       "      <td>-0.214887</td>\n",
       "      <td>-0.079773</td>\n",
       "      <td>12.535549</td>\n",
       "    </tr>\n",
       "    <tr>\n",
       "      <th>7904</th>\n",
       "      <td>0.263199</td>\n",
       "      <td>-0.161091</td>\n",
       "      <td>-0.113177</td>\n",
       "      <td>-0.139059</td>\n",
       "      <td>-0.470475</td>\n",
       "      <td>-0.113177</td>\n",
       "      <td>-0.215208</td>\n",
       "      <td>-0.198588</td>\n",
       "      <td>-0.079773</td>\n",
       "      <td>-0.079773</td>\n",
       "      <td>...</td>\n",
       "      <td>-0.198588</td>\n",
       "      <td>-0.407073</td>\n",
       "      <td>-0.113177</td>\n",
       "      <td>-0.139059</td>\n",
       "      <td>-0.161091</td>\n",
       "      <td>-0.161091</td>\n",
       "      <td>-0.34797</td>\n",
       "      <td>-0.214887</td>\n",
       "      <td>-0.079773</td>\n",
       "      <td>12.535549</td>\n",
       "    </tr>\n",
       "    <tr>\n",
       "      <th>7905</th>\n",
       "      <td>0.482576</td>\n",
       "      <td>-0.161091</td>\n",
       "      <td>-0.113177</td>\n",
       "      <td>-0.139059</td>\n",
       "      <td>-0.470475</td>\n",
       "      <td>-0.113177</td>\n",
       "      <td>-0.215208</td>\n",
       "      <td>-0.198588</td>\n",
       "      <td>-0.079773</td>\n",
       "      <td>-0.079773</td>\n",
       "      <td>...</td>\n",
       "      <td>-0.198588</td>\n",
       "      <td>-0.407073</td>\n",
       "      <td>-0.113177</td>\n",
       "      <td>-0.139059</td>\n",
       "      <td>-0.161091</td>\n",
       "      <td>-0.161091</td>\n",
       "      <td>-0.34797</td>\n",
       "      <td>-0.214887</td>\n",
       "      <td>-0.079773</td>\n",
       "      <td>12.535549</td>\n",
       "    </tr>\n",
       "    <tr>\n",
       "      <th>7906</th>\n",
       "      <td>-0.394930</td>\n",
       "      <td>-0.161091</td>\n",
       "      <td>-0.113177</td>\n",
       "      <td>-0.139059</td>\n",
       "      <td>-0.470475</td>\n",
       "      <td>-0.113177</td>\n",
       "      <td>-0.215208</td>\n",
       "      <td>-0.198588</td>\n",
       "      <td>-0.079773</td>\n",
       "      <td>-0.079773</td>\n",
       "      <td>...</td>\n",
       "      <td>-0.198588</td>\n",
       "      <td>-0.407073</td>\n",
       "      <td>-0.113177</td>\n",
       "      <td>-0.139059</td>\n",
       "      <td>-0.161091</td>\n",
       "      <td>-0.161091</td>\n",
       "      <td>-0.34797</td>\n",
       "      <td>-0.214887</td>\n",
       "      <td>-0.079773</td>\n",
       "      <td>12.535549</td>\n",
       "    </tr>\n",
       "  </tbody>\n",
       "</table>\n",
       "<p>7907 rows × 31 columns</p>\n",
       "</div>"
      ],
      "text/plain": [
       "        Rating  Arts, Film & Photography  \\\n",
       "0     0.153511                  6.207657   \n",
       "1     0.263199                  6.207657   \n",
       "2     0.372887                  6.207657   \n",
       "3     0.372887                  6.207657   \n",
       "4     0.263199                  6.207657   \n",
       "...        ...                       ...   \n",
       "7902  0.482576                 -0.161091   \n",
       "7903  0.153511                 -0.161091   \n",
       "7904  0.263199                 -0.161091   \n",
       "7905  0.482576                 -0.161091   \n",
       "7906 -0.394930                 -0.161091   \n",
       "\n",
       "      Biographies, Diaries & True Accounts  Business & Economics  \\\n",
       "0                                -0.113177             -0.139059   \n",
       "1                                -0.113177             -0.139059   \n",
       "2                                -0.113177             -0.139059   \n",
       "3                                -0.113177             -0.139059   \n",
       "4                                -0.113177             -0.139059   \n",
       "...                                    ...                   ...   \n",
       "7902                             -0.113177             -0.139059   \n",
       "7903                             -0.113177             -0.139059   \n",
       "7904                             -0.113177             -0.139059   \n",
       "7905                             -0.113177             -0.139059   \n",
       "7906                             -0.113177             -0.139059   \n",
       "\n",
       "      Children's Books  Comics & Mangas  Computing, Internet & Digital Media  \\\n",
       "0            -0.470475        -0.113177                            -0.215208   \n",
       "1            -0.470475        -0.113177                            -0.215208   \n",
       "2            -0.470475        -0.113177                            -0.215208   \n",
       "3            -0.470475        -0.113177                            -0.215208   \n",
       "4            -0.470475        -0.113177                            -0.215208   \n",
       "...                ...              ...                                  ...   \n",
       "7902         -0.470475        -0.113177                            -0.215208   \n",
       "7903         -0.470475        -0.113177                            -0.215208   \n",
       "7904         -0.470475        -0.113177                            -0.215208   \n",
       "7905         -0.470475        -0.113177                            -0.215208   \n",
       "7906         -0.470475        -0.113177                            -0.215208   \n",
       "\n",
       "      Crafts, Home & Lifestyle  Crime, Thriller & Mystery  Engineering  ...  \\\n",
       "0                    -0.198588                  -0.079773    -0.079773  ...   \n",
       "1                    -0.198588                  -0.079773    -0.079773  ...   \n",
       "2                    -0.198588                  -0.079773    -0.079773  ...   \n",
       "3                    -0.198588                  -0.079773    -0.079773  ...   \n",
       "4                    -0.198588                  -0.079773    -0.079773  ...   \n",
       "...                        ...                        ...          ...  ...   \n",
       "7902                 -0.198588                  -0.079773    -0.079773  ...   \n",
       "7903                 -0.198588                  -0.079773    -0.079773  ...   \n",
       "7904                 -0.198588                  -0.079773    -0.079773  ...   \n",
       "7905                 -0.198588                  -0.079773    -0.079773  ...   \n",
       "7906                 -0.198588                  -0.079773    -0.079773  ...   \n",
       "\n",
       "      Religion   Romance  School Books  Science & Mathematics  \\\n",
       "0    -0.198588 -0.407073     -0.113177              -0.139059   \n",
       "1    -0.198588 -0.407073     -0.113177              -0.139059   \n",
       "2    -0.198588 -0.407073     -0.113177              -0.139059   \n",
       "3    -0.198588 -0.407073     -0.113177              -0.139059   \n",
       "4    -0.198588 -0.407073     -0.113177              -0.139059   \n",
       "...        ...       ...           ...                    ...   \n",
       "7902 -0.198588 -0.407073     -0.113177              -0.139059   \n",
       "7903 -0.198588 -0.407073     -0.113177              -0.139059   \n",
       "7904 -0.198588 -0.407073     -0.113177              -0.139059   \n",
       "7905 -0.198588 -0.407073     -0.113177              -0.139059   \n",
       "7906 -0.198588 -0.407073     -0.113177              -0.139059   \n",
       "\n",
       "      Sciences, Technology & Medicine  Society & Social Sciences   Sports  \\\n",
       "0                           -0.161091                  -0.161091 -0.34797   \n",
       "1                           -0.161091                  -0.161091 -0.34797   \n",
       "2                           -0.161091                  -0.161091 -0.34797   \n",
       "3                           -0.161091                  -0.161091 -0.34797   \n",
       "4                           -0.161091                  -0.161091 -0.34797   \n",
       "...                               ...                        ...      ...   \n",
       "7902                        -0.161091                  -0.161091 -0.34797   \n",
       "7903                        -0.161091                  -0.161091 -0.34797   \n",
       "7904                        -0.161091                  -0.161091 -0.34797   \n",
       "7905                        -0.161091                  -0.161091 -0.34797   \n",
       "7906                        -0.161091                  -0.161091 -0.34797   \n",
       "\n",
       "      Teen & Young Adult  Textbooks & Study Guides     Travel  \n",
       "0              -0.214887                 -0.079773  -0.079773  \n",
       "1              -0.214887                 -0.079773  -0.079773  \n",
       "2              -0.214887                 -0.079773  -0.079773  \n",
       "3              -0.214887                 -0.079773  -0.079773  \n",
       "4              -0.214887                 -0.079773  -0.079773  \n",
       "...                  ...                       ...        ...  \n",
       "7902           -0.214887                 -0.079773  12.535549  \n",
       "7903           -0.214887                 -0.079773  12.535549  \n",
       "7904           -0.214887                 -0.079773  12.535549  \n",
       "7905           -0.214887                 -0.079773  12.535549  \n",
       "7906           -0.214887                 -0.079773  12.535549  \n",
       "\n",
       "[7907 rows x 31 columns]"
      ]
     },
     "execution_count": 20,
     "metadata": {},
     "output_type": "execute_result"
    }
   ],
   "source": [
    "scalerItem = StandardScaler()\n",
    "scalerItem.fit(df)\n",
    "df_scaled = scalerItem.transform(df)\n",
    "df_scaled = pd.DataFrame(df_scaled, columns=df.columns) # ndarry to dataframe\n",
    "df_scaled\n"
   ]
  },
  {
   "cell_type": "code",
   "execution_count": 21,
   "id": "1ead8a83",
   "metadata": {
    "execution": {
     "iopub.execute_input": "2024-04-19T04:20:41.946191Z",
     "iopub.status.busy": "2024-04-19T04:20:41.945013Z",
     "iopub.status.idle": "2024-04-19T04:20:41.955514Z",
     "shell.execute_reply": "2024-04-19T04:20:41.954445Z"
    },
    "papermill": {
     "duration": 0.032203,
     "end_time": "2024-04-19T04:20:41.957858",
     "exception": false,
     "start_time": "2024-04-19T04:20:41.925655",
     "status": "completed"
    },
    "tags": []
   },
   "outputs": [
    {
     "data": {
      "text/plain": [
       "0       0.153511\n",
       "1       0.263199\n",
       "2       0.372887\n",
       "3       0.372887\n",
       "4       0.263199\n",
       "          ...   \n",
       "7902    0.482576\n",
       "7903    0.153511\n",
       "7904    0.263199\n",
       "7905    0.482576\n",
       "7906   -0.394930\n",
       "Name: Rating, Length: 7907, dtype: float64"
      ]
     },
     "execution_count": 21,
     "metadata": {},
     "output_type": "execute_result"
    }
   ],
   "source": [
    "X = df_scaled.drop(columns=['Rating'])\n",
    "y = df_scaled['Rating']\n",
    "y"
   ]
  },
  {
   "cell_type": "code",
   "execution_count": 22,
   "id": "e43556d8",
   "metadata": {
    "execution": {
     "iopub.execute_input": "2024-04-19T04:20:41.996323Z",
     "iopub.status.busy": "2024-04-19T04:20:41.995908Z",
     "iopub.status.idle": "2024-04-19T04:20:42.008770Z",
     "shell.execute_reply": "2024-04-19T04:20:42.007483Z"
    },
    "papermill": {
     "duration": 0.03467,
     "end_time": "2024-04-19T04:20:42.011190",
     "exception": false,
     "start_time": "2024-04-19T04:20:41.976520",
     "status": "completed"
    },
    "tags": []
   },
   "outputs": [
    {
     "name": "stdout",
     "output_type": "stream",
     "text": [
      "(6325, 30)\n",
      "(1582, 30)\n"
     ]
    }
   ],
   "source": [
    "# spliting \n",
    "\n",
    "X_train,X_test, y_train, y_test = train_test_split(X,y, train_size=0.80, shuffle=True, random_state=1)\n",
    "\n",
    "print(X_train.shape)\n",
    "print(X_test.shape)"
   ]
  },
  {
   "cell_type": "markdown",
   "id": "f24c5f8e",
   "metadata": {
    "papermill": {
     "duration": 0.018071,
     "end_time": "2024-04-19T04:20:42.047449",
     "exception": false,
     "start_time": "2024-04-19T04:20:42.029378",
     "status": "completed"
    },
    "tags": []
   },
   "source": [
    "### Neural Network for content-based filtering"
   ]
  },
  {
   "cell_type": "code",
   "execution_count": 23,
   "id": "41022a7b",
   "metadata": {
    "execution": {
     "iopub.execute_input": "2024-04-19T04:20:42.086082Z",
     "iopub.status.busy": "2024-04-19T04:20:42.085655Z",
     "iopub.status.idle": "2024-04-19T04:20:55.451254Z",
     "shell.execute_reply": "2024-04-19T04:20:55.449873Z"
    },
    "papermill": {
     "duration": 13.388309,
     "end_time": "2024-04-19T04:20:55.453951",
     "exception": false,
     "start_time": "2024-04-19T04:20:42.065642",
     "status": "completed"
    },
    "tags": []
   },
   "outputs": [
    {
     "name": "stderr",
     "output_type": "stream",
     "text": [
      "2024-04-19 04:20:44.294794: E external/local_xla/xla/stream_executor/cuda/cuda_dnn.cc:9261] Unable to register cuDNN factory: Attempting to register factory for plugin cuDNN when one has already been registered\n",
      "2024-04-19 04:20:44.294920: E external/local_xla/xla/stream_executor/cuda/cuda_fft.cc:607] Unable to register cuFFT factory: Attempting to register factory for plugin cuFFT when one has already been registered\n",
      "2024-04-19 04:20:44.451151: E external/local_xla/xla/stream_executor/cuda/cuda_blas.cc:1515] Unable to register cuBLAS factory: Attempting to register factory for plugin cuBLAS when one has already been registered\n"
     ]
    }
   ],
   "source": [
    "import tensorflow as tf\n",
    "from tensorflow import keras"
   ]
  },
  {
   "cell_type": "code",
   "execution_count": 24,
   "id": "20933b84",
   "metadata": {
    "execution": {
     "iopub.execute_input": "2024-04-19T04:20:55.493593Z",
     "iopub.status.busy": "2024-04-19T04:20:55.492906Z",
     "iopub.status.idle": "2024-04-19T04:20:55.591731Z",
     "shell.execute_reply": "2024-04-19T04:20:55.590456Z"
    },
    "papermill": {
     "duration": 0.121218,
     "end_time": "2024-04-19T04:20:55.593948",
     "exception": false,
     "start_time": "2024-04-19T04:20:55.472730",
     "status": "completed"
    },
    "tags": []
   },
   "outputs": [
    {
     "name": "stderr",
     "output_type": "stream",
     "text": [
      "/opt/conda/lib/python3.10/site-packages/keras/src/layers/core/dense.py:88: UserWarning: Do not pass an `input_shape`/`input_dim` argument to a layer. When using Sequential models, prefer using an `Input(shape)` object as the first layer in the model instead.\n",
      "  super().__init__(activity_regularizer=activity_regularizer, **kwargs)\n"
     ]
    },
    {
     "data": {
      "text/html": [
       "<pre style=\"white-space:pre;overflow-x:auto;line-height:normal;font-family:Menlo,'DejaVu Sans Mono',consolas,'Courier New',monospace\"><span style=\"font-weight: bold\">Model: \"sequential\"</span>\n",
       "</pre>\n"
      ],
      "text/plain": [
       "\u001b[1mModel: \"sequential\"\u001b[0m\n"
      ]
     },
     "metadata": {},
     "output_type": "display_data"
    },
    {
     "data": {
      "text/html": [
       "<pre style=\"white-space:pre;overflow-x:auto;line-height:normal;font-family:Menlo,'DejaVu Sans Mono',consolas,'Courier New',monospace\">┏━━━━━━━━━━━━━━━━━━━━━━━━━━━━━━━━━┳━━━━━━━━━━━━━━━━━━━━━━━━┳━━━━━━━━━━━━━━━┓\n",
       "┃<span style=\"font-weight: bold\"> Layer (type)                    </span>┃<span style=\"font-weight: bold\"> Output Shape           </span>┃<span style=\"font-weight: bold\">       Param # </span>┃\n",
       "┡━━━━━━━━━━━━━━━━━━━━━━━━━━━━━━━━━╇━━━━━━━━━━━━━━━━━━━━━━━━╇━━━━━━━━━━━━━━━┩\n",
       "│ dense (<span style=\"color: #0087ff; text-decoration-color: #0087ff\">Dense</span>)                   │ (<span style=\"color: #00d7ff; text-decoration-color: #00d7ff\">None</span>, <span style=\"color: #00af00; text-decoration-color: #00af00\">256</span>)            │         <span style=\"color: #00af00; text-decoration-color: #00af00\">7,936</span> │\n",
       "├─────────────────────────────────┼────────────────────────┼───────────────┤\n",
       "│ dense_1 (<span style=\"color: #0087ff; text-decoration-color: #0087ff\">Dense</span>)                 │ (<span style=\"color: #00d7ff; text-decoration-color: #00d7ff\">None</span>, <span style=\"color: #00af00; text-decoration-color: #00af00\">128</span>)            │        <span style=\"color: #00af00; text-decoration-color: #00af00\">32,896</span> │\n",
       "├─────────────────────────────────┼────────────────────────┼───────────────┤\n",
       "│ dense_2 (<span style=\"color: #0087ff; text-decoration-color: #0087ff\">Dense</span>)                 │ (<span style=\"color: #00d7ff; text-decoration-color: #00d7ff\">None</span>, <span style=\"color: #00af00; text-decoration-color: #00af00\">32</span>)             │         <span style=\"color: #00af00; text-decoration-color: #00af00\">4,128</span> │\n",
       "└─────────────────────────────────┴────────────────────────┴───────────────┘\n",
       "</pre>\n"
      ],
      "text/plain": [
       "┏━━━━━━━━━━━━━━━━━━━━━━━━━━━━━━━━━┳━━━━━━━━━━━━━━━━━━━━━━━━┳━━━━━━━━━━━━━━━┓\n",
       "┃\u001b[1m \u001b[0m\u001b[1mLayer (type)                   \u001b[0m\u001b[1m \u001b[0m┃\u001b[1m \u001b[0m\u001b[1mOutput Shape          \u001b[0m\u001b[1m \u001b[0m┃\u001b[1m \u001b[0m\u001b[1m      Param #\u001b[0m\u001b[1m \u001b[0m┃\n",
       "┡━━━━━━━━━━━━━━━━━━━━━━━━━━━━━━━━━╇━━━━━━━━━━━━━━━━━━━━━━━━╇━━━━━━━━━━━━━━━┩\n",
       "│ dense (\u001b[38;5;33mDense\u001b[0m)                   │ (\u001b[38;5;45mNone\u001b[0m, \u001b[38;5;34m256\u001b[0m)            │         \u001b[38;5;34m7,936\u001b[0m │\n",
       "├─────────────────────────────────┼────────────────────────┼───────────────┤\n",
       "│ dense_1 (\u001b[38;5;33mDense\u001b[0m)                 │ (\u001b[38;5;45mNone\u001b[0m, \u001b[38;5;34m128\u001b[0m)            │        \u001b[38;5;34m32,896\u001b[0m │\n",
       "├─────────────────────────────────┼────────────────────────┼───────────────┤\n",
       "│ dense_2 (\u001b[38;5;33mDense\u001b[0m)                 │ (\u001b[38;5;45mNone\u001b[0m, \u001b[38;5;34m32\u001b[0m)             │         \u001b[38;5;34m4,128\u001b[0m │\n",
       "└─────────────────────────────────┴────────────────────────┴───────────────┘\n"
      ]
     },
     "metadata": {},
     "output_type": "display_data"
    },
    {
     "data": {
      "text/html": [
       "<pre style=\"white-space:pre;overflow-x:auto;line-height:normal;font-family:Menlo,'DejaVu Sans Mono',consolas,'Courier New',monospace\"><span style=\"font-weight: bold\"> Total params: </span><span style=\"color: #00af00; text-decoration-color: #00af00\">44,960</span> (175.62 KB)\n",
       "</pre>\n"
      ],
      "text/plain": [
       "\u001b[1m Total params: \u001b[0m\u001b[38;5;34m44,960\u001b[0m (175.62 KB)\n"
      ]
     },
     "metadata": {},
     "output_type": "display_data"
    },
    {
     "data": {
      "text/html": [
       "<pre style=\"white-space:pre;overflow-x:auto;line-height:normal;font-family:Menlo,'DejaVu Sans Mono',consolas,'Courier New',monospace\"><span style=\"font-weight: bold\"> Trainable params: </span><span style=\"color: #00af00; text-decoration-color: #00af00\">44,960</span> (175.62 KB)\n",
       "</pre>\n"
      ],
      "text/plain": [
       "\u001b[1m Trainable params: \u001b[0m\u001b[38;5;34m44,960\u001b[0m (175.62 KB)\n"
      ]
     },
     "metadata": {},
     "output_type": "display_data"
    },
    {
     "data": {
      "text/html": [
       "<pre style=\"white-space:pre;overflow-x:auto;line-height:normal;font-family:Menlo,'DejaVu Sans Mono',consolas,'Courier New',monospace\"><span style=\"font-weight: bold\"> Non-trainable params: </span><span style=\"color: #00af00; text-decoration-color: #00af00\">0</span> (0.00 B)\n",
       "</pre>\n"
      ],
      "text/plain": [
       "\u001b[1m Non-trainable params: \u001b[0m\u001b[38;5;34m0\u001b[0m (0.00 B)\n"
      ]
     },
     "metadata": {},
     "output_type": "display_data"
    },
    {
     "name": "stdout",
     "output_type": "stream",
     "text": [
      "None\n"
     ]
    }
   ],
   "source": [
    "num_outputs = 32\n",
    "\n",
    "input_shape = X_train.shape[1]\n",
    "\n",
    "NN = tf.keras.models.Sequential([\n",
    "    tf.keras.layers.Dense(units=256, activation=\"relu\", input_shape=(input_shape,)),\n",
    "    tf.keras.layers.Dense(units=128, activation=\"relu\"),\n",
    "    tf.keras.layers.Dense(units=num_outputs, activation=\"linear\")\n",
    "])\n",
    "\n",
    "print(NN.summary())"
   ]
  },
  {
   "cell_type": "code",
   "execution_count": 25,
   "id": "5a40908e",
   "metadata": {
    "execution": {
     "iopub.execute_input": "2024-04-19T04:20:55.634750Z",
     "iopub.status.busy": "2024-04-19T04:20:55.634341Z",
     "iopub.status.idle": "2024-04-19T04:21:08.163634Z",
     "shell.execute_reply": "2024-04-19T04:21:08.162386Z"
    },
    "papermill": {
     "duration": 12.552953,
     "end_time": "2024-04-19T04:21:08.166493",
     "exception": false,
     "start_time": "2024-04-19T04:20:55.613540",
     "status": "completed"
    },
    "tags": []
   },
   "outputs": [
    {
     "name": "stdout",
     "output_type": "stream",
     "text": [
      "Epoch 1/20\n",
      "\u001b[1m253/253\u001b[0m \u001b[32m━━━━━━━━━━━━━━━━━━━━\u001b[0m\u001b[37m\u001b[0m \u001b[1m2s\u001b[0m 3ms/step - loss: 0.9847 - val_loss: 0.8321\n",
      "Epoch 2/20\n",
      "\u001b[1m253/253\u001b[0m \u001b[32m━━━━━━━━━━━━━━━━━━━━\u001b[0m\u001b[37m\u001b[0m \u001b[1m1s\u001b[0m 2ms/step - loss: 0.9169 - val_loss: 0.8179\n",
      "Epoch 3/20\n",
      "\u001b[1m253/253\u001b[0m \u001b[32m━━━━━━━━━━━━━━━━━━━━\u001b[0m\u001b[37m\u001b[0m \u001b[1m0s\u001b[0m 2ms/step - loss: 0.9287 - val_loss: 0.8179\n",
      "Epoch 4/20\n",
      "\u001b[1m253/253\u001b[0m \u001b[32m━━━━━━━━━━━━━━━━━━━━\u001b[0m\u001b[37m\u001b[0m \u001b[1m1s\u001b[0m 2ms/step - loss: 0.9207 - val_loss: 0.8248\n",
      "Epoch 5/20\n",
      "\u001b[1m253/253\u001b[0m \u001b[32m━━━━━━━━━━━━━━━━━━━━\u001b[0m\u001b[37m\u001b[0m \u001b[1m1s\u001b[0m 2ms/step - loss: 0.8678 - val_loss: 0.8298\n",
      "Epoch 6/20\n",
      "\u001b[1m253/253\u001b[0m \u001b[32m━━━━━━━━━━━━━━━━━━━━\u001b[0m\u001b[37m\u001b[0m \u001b[1m1s\u001b[0m 2ms/step - loss: 0.9921 - val_loss: 0.8237\n",
      "Epoch 7/20\n",
      "\u001b[1m253/253\u001b[0m \u001b[32m━━━━━━━━━━━━━━━━━━━━\u001b[0m\u001b[37m\u001b[0m \u001b[1m1s\u001b[0m 2ms/step - loss: 0.9449 - val_loss: 0.8220\n",
      "Epoch 8/20\n",
      "\u001b[1m253/253\u001b[0m \u001b[32m━━━━━━━━━━━━━━━━━━━━\u001b[0m\u001b[37m\u001b[0m \u001b[1m1s\u001b[0m 2ms/step - loss: 0.8325 - val_loss: 0.8365\n",
      "Epoch 9/20\n",
      "\u001b[1m253/253\u001b[0m \u001b[32m━━━━━━━━━━━━━━━━━━━━\u001b[0m\u001b[37m\u001b[0m \u001b[1m1s\u001b[0m 2ms/step - loss: 0.9391 - val_loss: 0.8194\n",
      "Epoch 10/20\n",
      "\u001b[1m253/253\u001b[0m \u001b[32m━━━━━━━━━━━━━━━━━━━━\u001b[0m\u001b[37m\u001b[0m \u001b[1m1s\u001b[0m 2ms/step - loss: 0.9448 - val_loss: 0.8244\n",
      "Epoch 11/20\n",
      "\u001b[1m253/253\u001b[0m \u001b[32m━━━━━━━━━━━━━━━━━━━━\u001b[0m\u001b[37m\u001b[0m \u001b[1m1s\u001b[0m 2ms/step - loss: 0.9992 - val_loss: 0.8203\n",
      "Epoch 12/20\n",
      "\u001b[1m253/253\u001b[0m \u001b[32m━━━━━━━━━━━━━━━━━━━━\u001b[0m\u001b[37m\u001b[0m \u001b[1m1s\u001b[0m 2ms/step - loss: 0.8704 - val_loss: 0.8168\n",
      "Epoch 13/20\n",
      "\u001b[1m253/253\u001b[0m \u001b[32m━━━━━━━━━━━━━━━━━━━━\u001b[0m\u001b[37m\u001b[0m \u001b[1m0s\u001b[0m 2ms/step - loss: 0.8766 - val_loss: 0.8231\n",
      "Epoch 14/20\n",
      "\u001b[1m253/253\u001b[0m \u001b[32m━━━━━━━━━━━━━━━━━━━━\u001b[0m\u001b[37m\u001b[0m \u001b[1m1s\u001b[0m 2ms/step - loss: 0.8738 - val_loss: 0.8207\n",
      "Epoch 15/20\n",
      "\u001b[1m253/253\u001b[0m \u001b[32m━━━━━━━━━━━━━━━━━━━━\u001b[0m\u001b[37m\u001b[0m \u001b[1m1s\u001b[0m 2ms/step - loss: 0.8798 - val_loss: 0.8227\n",
      "Epoch 16/20\n",
      "\u001b[1m253/253\u001b[0m \u001b[32m━━━━━━━━━━━━━━━━━━━━\u001b[0m\u001b[37m\u001b[0m \u001b[1m1s\u001b[0m 2ms/step - loss: 0.9177 - val_loss: 0.8181\n",
      "Epoch 17/20\n",
      "\u001b[1m253/253\u001b[0m \u001b[32m━━━━━━━━━━━━━━━━━━━━\u001b[0m\u001b[37m\u001b[0m \u001b[1m1s\u001b[0m 2ms/step - loss: 0.9474 - val_loss: 0.8166\n",
      "Epoch 18/20\n",
      "\u001b[1m253/253\u001b[0m \u001b[32m━━━━━━━━━━━━━━━━━━━━\u001b[0m\u001b[37m\u001b[0m \u001b[1m0s\u001b[0m 2ms/step - loss: 0.9907 - val_loss: 0.8192\n",
      "Epoch 19/20\n",
      "\u001b[1m253/253\u001b[0m \u001b[32m━━━━━━━━━━━━━━━━━━━━\u001b[0m\u001b[37m\u001b[0m \u001b[1m1s\u001b[0m 2ms/step - loss: 0.8224 - val_loss: 0.8250\n",
      "Epoch 20/20\n",
      "\u001b[1m253/253\u001b[0m \u001b[32m━━━━━━━━━━━━━━━━━━━━\u001b[0m\u001b[37m\u001b[0m \u001b[1m1s\u001b[0m 2ms/step - loss: 0.9629 - val_loss: 0.8198\n"
     ]
    }
   ],
   "source": [
    "NN.compile(loss= 'mean_squared_error', optimizer= 'adam')\n",
    "history = NN.fit(X_train,y_train, epochs = 20,batch_size= 20, validation_split= 0.2)"
   ]
  },
  {
   "cell_type": "code",
   "execution_count": 26,
   "id": "7e01c72e",
   "metadata": {
    "execution": {
     "iopub.execute_input": "2024-04-19T04:21:08.245083Z",
     "iopub.status.busy": "2024-04-19T04:21:08.244601Z",
     "iopub.status.idle": "2024-04-19T04:21:08.381756Z",
     "shell.execute_reply": "2024-04-19T04:21:08.380726Z"
    },
    "papermill": {
     "duration": 0.179003,
     "end_time": "2024-04-19T04:21:08.383958",
     "exception": false,
     "start_time": "2024-04-19T04:21:08.204955",
     "status": "completed"
    },
    "tags": []
   },
   "outputs": [
    {
     "name": "stdout",
     "output_type": "stream",
     "text": [
      "\u001b[1m50/50\u001b[0m \u001b[32m━━━━━━━━━━━━━━━━━━━━\u001b[0m\u001b[37m\u001b[0m \u001b[1m0s\u001b[0m 1ms/step - loss: 0.7490\n",
      "0.9555821418762207\n"
     ]
    }
   ],
   "source": [
    "test_loss = NN.evaluate(X_test, y_test)\n",
    "print(test_loss)"
   ]
  },
  {
   "cell_type": "markdown",
   "id": "5fb9fcc3",
   "metadata": {
    "papermill": {
     "duration": 0.038605,
     "end_time": "2024-04-19T04:21:08.461529",
     "exception": false,
     "start_time": "2024-04-19T04:21:08.422924",
     "status": "completed"
    },
    "tags": []
   },
   "source": [
    "### Similar Books"
   ]
  },
  {
   "cell_type": "code",
   "execution_count": 27,
   "id": "c187eb56",
   "metadata": {
    "execution": {
     "iopub.execute_input": "2024-04-19T04:21:08.540559Z",
     "iopub.status.busy": "2024-04-19T04:21:08.540167Z",
     "iopub.status.idle": "2024-04-19T04:21:08.568048Z",
     "shell.execute_reply": "2024-04-19T04:21:08.566952Z"
    },
    "papermill": {
     "duration": 0.070385,
     "end_time": "2024-04-19T04:21:08.570565",
     "exception": false,
     "start_time": "2024-04-19T04:21:08.500180",
     "status": "completed"
    },
    "tags": []
   },
   "outputs": [
    {
     "data": {
      "text/html": [
       "<pre style=\"white-space:pre;overflow-x:auto;line-height:normal;font-family:Menlo,'DejaVu Sans Mono',consolas,'Courier New',monospace\"><span style=\"font-weight: bold\">Model: \"functional_2\"</span>\n",
       "</pre>\n"
      ],
      "text/plain": [
       "\u001b[1mModel: \"functional_2\"\u001b[0m\n"
      ]
     },
     "metadata": {},
     "output_type": "display_data"
    },
    {
     "data": {
      "text/html": [
       "<pre style=\"white-space:pre;overflow-x:auto;line-height:normal;font-family:Menlo,'DejaVu Sans Mono',consolas,'Courier New',monospace\">┏━━━━━━━━━━━━━━━━━━━━━━━━━━━━━━━━━┳━━━━━━━━━━━━━━━━━━━━━━━━┳━━━━━━━━━━━━━━━┓\n",
       "┃<span style=\"font-weight: bold\"> Layer (type)                    </span>┃<span style=\"font-weight: bold\"> Output Shape           </span>┃<span style=\"font-weight: bold\">       Param # </span>┃\n",
       "┡━━━━━━━━━━━━━━━━━━━━━━━━━━━━━━━━━╇━━━━━━━━━━━━━━━━━━━━━━━━╇━━━━━━━━━━━━━━━┩\n",
       "│ input_layer_1 (<span style=\"color: #0087ff; text-decoration-color: #0087ff\">InputLayer</span>)      │ (<span style=\"color: #00d7ff; text-decoration-color: #00d7ff\">None</span>, <span style=\"color: #00af00; text-decoration-color: #00af00\">30</span>)             │             <span style=\"color: #00af00; text-decoration-color: #00af00\">0</span> │\n",
       "├─────────────────────────────────┼────────────────────────┼───────────────┤\n",
       "│ sequential (<span style=\"color: #0087ff; text-decoration-color: #0087ff\">Sequential</span>)         │ (<span style=\"color: #00d7ff; text-decoration-color: #00d7ff\">None</span>, <span style=\"color: #00af00; text-decoration-color: #00af00\">32</span>)             │        <span style=\"color: #00af00; text-decoration-color: #00af00\">44,960</span> │\n",
       "└─────────────────────────────────┴────────────────────────┴───────────────┘\n",
       "</pre>\n"
      ],
      "text/plain": [
       "┏━━━━━━━━━━━━━━━━━━━━━━━━━━━━━━━━━┳━━━━━━━━━━━━━━━━━━━━━━━━┳━━━━━━━━━━━━━━━┓\n",
       "┃\u001b[1m \u001b[0m\u001b[1mLayer (type)                   \u001b[0m\u001b[1m \u001b[0m┃\u001b[1m \u001b[0m\u001b[1mOutput Shape          \u001b[0m\u001b[1m \u001b[0m┃\u001b[1m \u001b[0m\u001b[1m      Param #\u001b[0m\u001b[1m \u001b[0m┃\n",
       "┡━━━━━━━━━━━━━━━━━━━━━━━━━━━━━━━━━╇━━━━━━━━━━━━━━━━━━━━━━━━╇━━━━━━━━━━━━━━━┩\n",
       "│ input_layer_1 (\u001b[38;5;33mInputLayer\u001b[0m)      │ (\u001b[38;5;45mNone\u001b[0m, \u001b[38;5;34m30\u001b[0m)             │             \u001b[38;5;34m0\u001b[0m │\n",
       "├─────────────────────────────────┼────────────────────────┼───────────────┤\n",
       "│ sequential (\u001b[38;5;33mSequential\u001b[0m)         │ (\u001b[38;5;45mNone\u001b[0m, \u001b[38;5;34m32\u001b[0m)             │        \u001b[38;5;34m44,960\u001b[0m │\n",
       "└─────────────────────────────────┴────────────────────────┴───────────────┘\n"
      ]
     },
     "metadata": {},
     "output_type": "display_data"
    },
    {
     "data": {
      "text/html": [
       "<pre style=\"white-space:pre;overflow-x:auto;line-height:normal;font-family:Menlo,'DejaVu Sans Mono',consolas,'Courier New',monospace\"><span style=\"font-weight: bold\"> Total params: </span><span style=\"color: #00af00; text-decoration-color: #00af00\">44,960</span> (175.62 KB)\n",
       "</pre>\n"
      ],
      "text/plain": [
       "\u001b[1m Total params: \u001b[0m\u001b[38;5;34m44,960\u001b[0m (175.62 KB)\n"
      ]
     },
     "metadata": {},
     "output_type": "display_data"
    },
    {
     "data": {
      "text/html": [
       "<pre style=\"white-space:pre;overflow-x:auto;line-height:normal;font-family:Menlo,'DejaVu Sans Mono',consolas,'Courier New',monospace\"><span style=\"font-weight: bold\"> Trainable params: </span><span style=\"color: #00af00; text-decoration-color: #00af00\">44,960</span> (175.62 KB)\n",
       "</pre>\n"
      ],
      "text/plain": [
       "\u001b[1m Trainable params: \u001b[0m\u001b[38;5;34m44,960\u001b[0m (175.62 KB)\n"
      ]
     },
     "metadata": {},
     "output_type": "display_data"
    },
    {
     "data": {
      "text/html": [
       "<pre style=\"white-space:pre;overflow-x:auto;line-height:normal;font-family:Menlo,'DejaVu Sans Mono',consolas,'Courier New',monospace\"><span style=\"font-weight: bold\"> Non-trainable params: </span><span style=\"color: #00af00; text-decoration-color: #00af00\">0</span> (0.00 B)\n",
       "</pre>\n"
      ],
      "text/plain": [
       "\u001b[1m Non-trainable params: \u001b[0m\u001b[38;5;34m0\u001b[0m (0.00 B)\n"
      ]
     },
     "metadata": {},
     "output_type": "display_data"
    },
    {
     "name": "stdout",
     "output_type": "stream",
     "text": [
      "None\n"
     ]
    }
   ],
   "source": [
    "\n",
    "input_item_b = tf.keras.layers.Input(shape=(input_shape,))\n",
    "vm_b = NN(input_item_b)\n",
    "model_b = tf.keras.Model(input_item_b, vm_b)\n",
    "\n",
    "print(model_b.summary())"
   ]
  },
  {
   "cell_type": "code",
   "execution_count": 28,
   "id": "4376d1a6",
   "metadata": {
    "execution": {
     "iopub.execute_input": "2024-04-19T04:21:08.650926Z",
     "iopub.status.busy": "2024-04-19T04:21:08.650547Z",
     "iopub.status.idle": "2024-04-19T04:21:09.351339Z",
     "shell.execute_reply": "2024-04-19T04:21:09.350128Z"
    },
    "papermill": {
     "duration": 0.743997,
     "end_time": "2024-04-19T04:21:09.353886",
     "exception": false,
     "start_time": "2024-04-19T04:21:08.609889",
     "status": "completed"
    },
    "tags": []
   },
   "outputs": [
    {
     "name": "stdout",
     "output_type": "stream",
     "text": [
      "\u001b[1m248/248\u001b[0m \u001b[32m━━━━━━━━━━━━━━━━━━━━\u001b[0m\u001b[37m\u001b[0m \u001b[1m0s\u001b[0m 1ms/step\n",
      "(7907, 32)\n",
      "(7907, 30)\n"
     ]
    }
   ],
   "source": [
    "books_vector = model_b.predict(X)\n",
    "print(books_vector.shape)\n",
    "print(X.shape)"
   ]
  },
  {
   "cell_type": "markdown",
   "id": "e32ed45f",
   "metadata": {
    "papermill": {
     "duration": 0.040172,
     "end_time": "2024-04-19T04:21:09.434599",
     "exception": false,
     "start_time": "2024-04-19T04:21:09.394427",
     "status": "completed"
    },
    "tags": []
   },
   "source": [
    "for finding similar movies we will calculate the distance between the movies , similar movies are nearer"
   ]
  },
  {
   "cell_type": "code",
   "execution_count": 29,
   "id": "28905e25",
   "metadata": {
    "execution": {
     "iopub.execute_input": "2024-04-19T04:21:09.517954Z",
     "iopub.status.busy": "2024-04-19T04:21:09.516828Z",
     "iopub.status.idle": "2024-04-19T04:21:09.523171Z",
     "shell.execute_reply": "2024-04-19T04:21:09.522013Z"
    },
    "papermill": {
     "duration": 0.050467,
     "end_time": "2024-04-19T04:21:09.525644",
     "exception": false,
     "start_time": "2024-04-19T04:21:09.475177",
     "status": "completed"
    },
    "tags": []
   },
   "outputs": [],
   "source": [
    "\n",
    "# funtion to caculte the distance between the vectors \n",
    "def sq_distance(a,b):\n",
    "    d = np.sum((a-b)**2)\n",
    "    return d\n",
    "\n",
    "#This didnot work took large comutation so we used vectorized computation instead of calling the function\n"
   ]
  },
  {
   "cell_type": "code",
   "execution_count": 30,
   "id": "08601929",
   "metadata": {
    "execution": {
     "iopub.execute_input": "2024-04-19T04:21:09.608782Z",
     "iopub.status.busy": "2024-04-19T04:21:09.608360Z",
     "iopub.status.idle": "2024-04-19T04:21:17.300647Z",
     "shell.execute_reply": "2024-04-19T04:21:17.299445Z"
    },
    "papermill": {
     "duration": 7.73703,
     "end_time": "2024-04-19T04:21:17.303422",
     "exception": false,
     "start_time": "2024-04-19T04:21:09.566392",
     "status": "completed"
    },
    "tags": []
   },
   "outputs": [],
   "source": [
    "num_books = len(books_vector)\n",
    "distance_matrix = np.zeros((num_books, num_books))\n",
    "# Vectorized computation of distance matrix\n",
    "distance_matrix = np.sum((books_vector[:, np.newaxis] - books_vector[np.newaxis, :]) ** 2, axis=-1)\n"
   ]
  },
  {
   "cell_type": "code",
   "execution_count": 31,
   "id": "f9523bc6",
   "metadata": {
    "execution": {
     "iopub.execute_input": "2024-04-19T04:21:17.386800Z",
     "iopub.status.busy": "2024-04-19T04:21:17.385648Z",
     "iopub.status.idle": "2024-04-19T04:21:17.391203Z",
     "shell.execute_reply": "2024-04-19T04:21:17.390077Z"
    },
    "papermill": {
     "duration": 0.05007,
     "end_time": "2024-04-19T04:21:17.393856",
     "exception": false,
     "start_time": "2024-04-19T04:21:17.343786",
     "status": "completed"
    },
    "tags": []
   },
   "outputs": [],
   "source": [
    "import numpy.ma as ma"
   ]
  },
  {
   "cell_type": "code",
   "execution_count": 32,
   "id": "947a6537",
   "metadata": {
    "execution": {
     "iopub.execute_input": "2024-04-19T04:21:17.478307Z",
     "iopub.status.busy": "2024-04-19T04:21:17.477855Z",
     "iopub.status.idle": "2024-04-19T04:21:17.753509Z",
     "shell.execute_reply": "2024-04-19T04:21:17.752224Z"
    },
    "papermill": {
     "duration": 0.321616,
     "end_time": "2024-04-19T04:21:17.756459",
     "exception": false,
     "start_time": "2024-04-19T04:21:17.434843",
     "status": "completed"
    },
    "tags": []
   },
   "outputs": [],
   "source": [
    "# now we need to mask the diagonal\n",
    "masked_dmat = ma.masked_array(distance_matrix, mask=np.identity(distance_matrix.shape[0]))  # mask the diagonal"
   ]
  },
  {
   "cell_type": "code",
   "execution_count": 33,
   "id": "f00a10c2",
   "metadata": {
    "execution": {
     "iopub.execute_input": "2024-04-19T04:21:17.839406Z",
     "iopub.status.busy": "2024-04-19T04:21:17.838952Z",
     "iopub.status.idle": "2024-04-19T04:21:20.531608Z",
     "shell.execute_reply": "2024-04-19T04:21:20.530415Z"
    },
    "papermill": {
     "duration": 2.737577,
     "end_time": "2024-04-19T04:21:20.534337",
     "exception": false,
     "start_time": "2024-04-19T04:21:17.796760",
     "status": "completed"
    },
    "tags": []
   },
   "outputs": [
    {
     "data": {
      "image/png": "[encoded data removed]",
      "text/plain": [
       "<Figure size 640x480 with 2 Axes>"
      ]
     },
     "metadata": {},
     "output_type": "display_data"
    }
   ],
   "source": [
    "# Plot the distance matrix\n",
    "plt.imshow(masked_dmat, cmap='viridis', interpolation='none', aspect='auto')\n",
    "plt.colorbar(label='Squared Distance')\n",
    "plt.title('Books Distance Matrix')\n",
    "plt.xlabel('Books Index')\n",
    "plt.ylabel('Books Index')\n",
    "plt.show()"
   ]
  },
  {
   "cell_type": "code",
   "execution_count": 34,
   "id": "e98c250b",
   "metadata": {
    "execution": {
     "iopub.execute_input": "2024-04-19T04:21:20.617770Z",
     "iopub.status.busy": "2024-04-19T04:21:20.617137Z",
     "iopub.status.idle": "2024-04-19T04:21:20.624119Z",
     "shell.execute_reply": "2024-04-19T04:21:20.623108Z"
    },
    "papermill": {
     "duration": 0.05142,
     "end_time": "2024-04-19T04:21:20.626530",
     "exception": false,
     "start_time": "2024-04-19T04:21:20.575110",
     "status": "completed"
    },
    "tags": []
   },
   "outputs": [],
   "source": [
    "def get_top_similar_books_names(book_name, book_names=df_books_dropped['Title'].tolist(), masked_distance_matrix=masked_dmat, top_n=10):\n",
    "    # Find index of the given book name\n",
    "    book_index = book_names.index(book_name)\n",
    "    \n",
    "    # Find indices of top similar books\n",
    "    top_similar_indices = np.argsort(masked_distance_matrix[book_index])[:top_n]\n",
    "    \n",
    "    # Get names of top similar books\n",
    "    similar_books = [book_names[idx] for idx in top_similar_indices]\n",
    "    \n",
    "    return  top_similar_indices ,similar_books\n"
   ]
  },
  {
   "cell_type": "code",
   "execution_count": 35,
   "id": "f2257ead",
   "metadata": {
    "execution": {
     "iopub.execute_input": "2024-04-19T04:21:20.711157Z",
     "iopub.status.busy": "2024-04-19T04:21:20.710395Z",
     "iopub.status.idle": "2024-04-19T04:21:20.718668Z",
     "shell.execute_reply": "2024-04-19T04:21:20.716997Z"
    },
    "papermill": {
     "duration": 0.053488,
     "end_time": "2024-04-19T04:21:20.720977",
     "exception": false,
     "start_time": "2024-04-19T04:21:20.667489",
     "status": "completed"
    },
    "tags": []
   },
   "outputs": [
    {
     "name": "stdout",
     "output_type": "stream",
     "text": [
      "Top 10 Similar Books to 'KING: Alliance Series Book Two':\n",
      "5792. Consolation (The Salvation Series Book 3)\n",
      "5418. The Mobster's Masseuse\n",
      "5417. A Dirty Business (Kings of New York)\n",
      "5416. Kingdom Of Sinners (Bitter Love Duet Series Book 1)\n",
      "5415. Bound By Vengeance (Born in Blood Mafia Chronicles Book 5)\n",
      "5414. Meera's Devil Mafia: A Curvy Girl Romance\n",
      "5413. Ashes (Smoke Series Book 10)\n",
      "5412. Stolen Vows: A Dark Mafia Romance\n",
      "5411. Code of Silence: A Mafia Romance (The Dark Kingdom Book 1)\n",
      "5410. Contracted to the Devil: Dark Mafia Arranged Marriage: Agostino Crime Family\n"
     ]
    }
   ],
   "source": [
    "book_name = 'KING: Alliance Series Book Two'  # Example book name\n",
    "top_similar_books_indices, top_similar_books_names = get_top_similar_books_names(book_name)\n",
    "\n",
    "print(f\"Top 10 Similar Books to '{book_name}':\")\n",
    "\n",
    "for i, similar_book in zip(top_similar_books_indices, top_similar_books_names):\n",
    "    print(f\"{i }. {similar_book}\")\n"
   ]
  },
  {
   "cell_type": "code",
   "execution_count": null,
   "id": "9e5bd5ee",
   "metadata": {
    "papermill": {
     "duration": 0.041501,
     "end_time": "2024-04-19T04:21:20.804233",
     "exception": false,
     "start_time": "2024-04-19T04:21:20.762732",
     "status": "completed"
    },
    "tags": []
   },
   "outputs": [],
   "source": []
  }
 ],
 "metadata": {
  "kaggle": {
   "accelerator": "none",
   "dataSources": [
    {
     "datasetId": 4454891,
     "sourceId": 7643170,
     "sourceType": "datasetVersion"
    }
   ],
   "dockerImageVersionId": 30684,
   "isGpuEnabled": false,
   "isInternetEnabled": true,
   "language": "python",
   "sourceType": "notebook"
  },
  "kernelspec": {
   "display_name": "Python 3",
   "language": "python",
   "name": "python3"
  },
  "language_info": {
   "codemirror_mode": {
    "name": "ipython",
    "version": 3
   },
   "file_extension": ".py",
   "mimetype": "text/x-python",
   "name": "python",
   "nbconvert_exporter": "python",
   "pygments_lexer": "ipython3",
   "version": "3.10.13"
  },
  "papermill": {
   "default_parameters": {},
   "duration": 47.528444,
   "end_time": "2024-04-19T04:21:22.371754",
   "environment_variables": {},
   "exception": null,
   "input_path": "__notebook__.ipynb",
   "output_path": "__notebook__.ipynb",
   "parameters": {},
   "start_time": "2024-04-19T04:20:34.843310",
   "version": "2.5.0"
  }
 },
 "nbformat": 4,
 "nbformat_minor": 5
}
