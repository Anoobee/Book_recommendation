{
 "cells": [
  {
   "cell_type": "code",
   "execution_count": 1,
   "id": "4eedfa77",
   "metadata": {
    "_cell_guid": "b1076dfc-b9ad-4769-8c92-a6c4dae69d19",
    "_uuid": "8f2839f25d086af736a60e9eeb907d3b93b6e0e5",
    "execution": {
     "iopub.execute_input": "2024-04-19T04:01:57.800572Z",
     "iopub.status.busy": "2024-04-19T04:01:57.799900Z",
     "iopub.status.idle": "2024-04-19T04:01:59.008161Z",
     "shell.execute_reply": "2024-04-19T04:01:59.006969Z"
    },
    "papermill": {
     "duration": 1.228398,
     "end_time": "2024-04-19T04:01:59.010888",
     "exception": false,
     "start_time": "2024-04-19T04:01:57.782490",
     "status": "completed"
    },
    "tags": []
   },
   "outputs": [
    {
     "name": "stdout",
     "output_type": "stream",
     "text": [
      "/kaggle/input/amazon-books-dataset/Amazon_Books_Scraping/Genre_df.csv\n",
      "/kaggle/input/amazon-books-dataset/Amazon_Books_Scraping/Books_df.csv\n",
      "/kaggle/input/amazon-books-dataset/Amazon_Books_Scraping/Sub_Genre_df.csv\n"
     ]
    }
   ],
   "source": [
    "# This Python 3 environment comes with many helpful analytics libraries installed\n",
    "# It is defined by the kaggle/python Docker image: https://github.com/kaggle/docker-python\n",
    "# For example, here's several helpful packages to load\n",
    "\n",
    "import numpy as np # linear algebra\n",
    "import pandas as pd # data processing, CSV file I/O (e.g. pd.read_csv)\n",
    "\n",
    "# Input data files are available in the read-only \"../input/\" directory\n",
    "# For example, running this (by clicking run or pressing Shift+Enter) will list all files under the input directory\n",
    "\n",
    "import os\n",
    "for dirname, _, filenames in os.walk('/kaggle/input'):\n",
    "    for filename in filenames:\n",
    "        print(os.path.join(dirname, filename))\n",
    "\n",
    "# You can write up to 20GB to the current directory (/kaggle/working/) that gets preserved as output when you create a version using \"Save & Run All\" \n",
    "# You can also write temporary files to /kaggle/temp/, but they won't be saved outside of the current session\n",
    "\n",
    "\n",
    "import matplotlib.pyplot as plt"
   ]
  },
  {
   "cell_type": "code",
   "execution_count": 2,
   "id": "75bd9047",
   "metadata": {
    "execution": {
     "iopub.execute_input": "2024-04-19T04:01:59.043265Z",
     "iopub.status.busy": "2024-04-19T04:01:59.041898Z",
     "iopub.status.idle": "2024-04-19T04:01:59.166559Z",
     "shell.execute_reply": "2024-04-19T04:01:59.165335Z"
    },
    "papermill": {
     "duration": 0.143742,
     "end_time": "2024-04-19T04:01:59.169499",
     "exception": false,
     "start_time": "2024-04-19T04:01:59.025757",
     "status": "completed"
    },
    "tags": []
   },
   "outputs": [],
   "source": [
    "df_books = pd.read_csv('/kaggle/input/amazon-books-dataset/Amazon_Books_Scraping/Books_df.csv')\n",
    "df_genre= pd.read_csv('/kaggle/input/amazon-books-dataset/Amazon_Books_Scraping/Genre_df.csv')\n",
    "df_sub_genre= pd.read_csv('/kaggle/input/amazon-books-dataset/Amazon_Books_Scraping/Sub_Genre_df.csv')"
   ]
  },
  {
   "cell_type": "code",
   "execution_count": 3,
   "id": "1c421c96",
   "metadata": {
    "execution": {
     "iopub.execute_input": "2024-04-19T04:01:59.202066Z",
     "iopub.status.busy": "2024-04-19T04:01:59.201252Z",
     "iopub.status.idle": "2024-04-19T04:01:59.238956Z",
     "shell.execute_reply": "2024-04-19T04:01:59.237800Z"
    },
    "papermill": {
     "duration": 0.056881,
     "end_time": "2024-04-19T04:01:59.241827",
     "exception": false,
     "start_time": "2024-04-19T04:01:59.184946",
     "status": "completed"
    },
    "tags": []
   },
   "outputs": [
    {
     "data": {
      "text/html": [
       "<div>\n",
       "<style scoped>\n",
       "    .dataframe tbody tr th:only-of-type {\n",
       "        vertical-align: middle;\n",
       "    }\n",
       "\n",
       "    .dataframe tbody tr th {\n",
       "        vertical-align: top;\n",
       "    }\n",
       "\n",
       "    .dataframe thead th {\n",
       "        text-align: right;\n",
       "    }\n",
       "</style>\n",
       "<table border=\"1\" class=\"dataframe\">\n",
       "  <thead>\n",
       "    <tr style=\"text-align: right;\">\n",
       "      <th></th>\n",
       "      <th>Unnamed: 0</th>\n",
       "      <th>Title</th>\n",
       "      <th>Author</th>\n",
       "      <th>Main Genre</th>\n",
       "      <th>Sub Genre</th>\n",
       "      <th>Type</th>\n",
       "      <th>Price</th>\n",
       "      <th>Rating</th>\n",
       "      <th>No. of People rated</th>\n",
       "      <th>URLs</th>\n",
       "    </tr>\n",
       "  </thead>\n",
       "  <tbody>\n",
       "    <tr>\n",
       "      <th>0</th>\n",
       "      <td>0</td>\n",
       "      <td>The Complete Novel of Sherlock Holmes</td>\n",
       "      <td>Arthur Conan Doyle</td>\n",
       "      <td>Arts, Film &amp; Photography</td>\n",
       "      <td>Cinema &amp; Broadcast</td>\n",
       "      <td>Paperback</td>\n",
       "      <td>₹169.00</td>\n",
       "      <td>4.4</td>\n",
       "      <td>19923.0</td>\n",
       "      <td>https://www.amazon.in/Complete-Novels-Sherlock...</td>\n",
       "    </tr>\n",
       "    <tr>\n",
       "      <th>1</th>\n",
       "      <td>1</td>\n",
       "      <td>Black Holes (L) : The Reith Lectures [Paperbac...</td>\n",
       "      <td>Stephen Hawking</td>\n",
       "      <td>Arts, Film &amp; Photography</td>\n",
       "      <td>Cinema &amp; Broadcast</td>\n",
       "      <td>Paperback</td>\n",
       "      <td>₹99.00</td>\n",
       "      <td>4.5</td>\n",
       "      <td>7686.0</td>\n",
       "      <td>https://www.amazon.in/Black-Holes-Lectures-Ste...</td>\n",
       "    </tr>\n",
       "    <tr>\n",
       "      <th>2</th>\n",
       "      <td>2</td>\n",
       "      <td>The Kite Runner</td>\n",
       "      <td>Khaled Hosseini</td>\n",
       "      <td>Arts, Film &amp; Photography</td>\n",
       "      <td>Cinema &amp; Broadcast</td>\n",
       "      <td>Kindle Edition</td>\n",
       "      <td>₹175.75</td>\n",
       "      <td>4.6</td>\n",
       "      <td>50016.0</td>\n",
       "      <td>https://www.amazon.in/Kite-Runner-Khaled-Hosse...</td>\n",
       "    </tr>\n",
       "    <tr>\n",
       "      <th>3</th>\n",
       "      <td>3</td>\n",
       "      <td>Greenlights: Raucous stories and outlaw wisdom...</td>\n",
       "      <td>Matthew McConaughey</td>\n",
       "      <td>Arts, Film &amp; Photography</td>\n",
       "      <td>Cinema &amp; Broadcast</td>\n",
       "      <td>Paperback</td>\n",
       "      <td>₹389.00</td>\n",
       "      <td>4.6</td>\n",
       "      <td>32040.0</td>\n",
       "      <td>https://www.amazon.in/Greenlights-Raucous-stor...</td>\n",
       "    </tr>\n",
       "    <tr>\n",
       "      <th>4</th>\n",
       "      <td>4</td>\n",
       "      <td>The Science of Storytelling: Why Stories Make ...</td>\n",
       "      <td>Will Storr</td>\n",
       "      <td>Arts, Film &amp; Photography</td>\n",
       "      <td>Cinema &amp; Broadcast</td>\n",
       "      <td>Paperback</td>\n",
       "      <td>₹348.16</td>\n",
       "      <td>4.5</td>\n",
       "      <td>1707.0</td>\n",
       "      <td>https://www.amazon.in/Science-Storytelling-Wil...</td>\n",
       "    </tr>\n",
       "    <tr>\n",
       "      <th>...</th>\n",
       "      <td>...</td>\n",
       "      <td>...</td>\n",
       "      <td>...</td>\n",
       "      <td>...</td>\n",
       "      <td>...</td>\n",
       "      <td>...</td>\n",
       "      <td>...</td>\n",
       "      <td>...</td>\n",
       "      <td>...</td>\n",
       "      <td>...</td>\n",
       "    </tr>\n",
       "    <tr>\n",
       "      <th>7923</th>\n",
       "      <td>7923</td>\n",
       "      <td>Insight Guides Poland (Travel Guide with Free ...</td>\n",
       "      <td>Insight Travel Guide</td>\n",
       "      <td>Travel</td>\n",
       "      <td>Travel &amp; Holiday Guides</td>\n",
       "      <td>Paperback</td>\n",
       "      <td>₹1,326.00</td>\n",
       "      <td>4.7</td>\n",
       "      <td>16.0</td>\n",
       "      <td>https://www.amazon.in/Insight-Guides-Poland-Tr...</td>\n",
       "    </tr>\n",
       "    <tr>\n",
       "      <th>7924</th>\n",
       "      <td>7924</td>\n",
       "      <td>Lonely Planet India 19 (Travel Guide)</td>\n",
       "      <td>Anirban Mahapatra</td>\n",
       "      <td>Travel</td>\n",
       "      <td>Travel &amp; Holiday Guides</td>\n",
       "      <td>Paperback</td>\n",
       "      <td>₹850.00</td>\n",
       "      <td>4.4</td>\n",
       "      <td>187.0</td>\n",
       "      <td>https://www.amazon.in/Lonely-Planet-India-Trav...</td>\n",
       "    </tr>\n",
       "    <tr>\n",
       "      <th>7925</th>\n",
       "      <td>7925</td>\n",
       "      <td>Eyewitness Travel Phrase Book French (EW Trave...</td>\n",
       "      <td>DK</td>\n",
       "      <td>Travel</td>\n",
       "      <td>Travel &amp; Holiday Guides</td>\n",
       "      <td>Paperback</td>\n",
       "      <td>₹307.00</td>\n",
       "      <td>4.5</td>\n",
       "      <td>168.0</td>\n",
       "      <td>https://www.amazon.in/Eyewitness-Travel-Phrase...</td>\n",
       "    </tr>\n",
       "    <tr>\n",
       "      <th>7926</th>\n",
       "      <td>7926</td>\n",
       "      <td>Lonely Planet Australia (Travel Guide)</td>\n",
       "      <td>Andrew Bain</td>\n",
       "      <td>Travel</td>\n",
       "      <td>Travel &amp; Holiday Guides</td>\n",
       "      <td>Kindle Edition</td>\n",
       "      <td>₹1,814.50</td>\n",
       "      <td>4.7</td>\n",
       "      <td>267.0</td>\n",
       "      <td>https://www.amazon.in/Lonely-Planet-Australia-...</td>\n",
       "    </tr>\n",
       "    <tr>\n",
       "      <th>7927</th>\n",
       "      <td>7927</td>\n",
       "      <td>Political Map of India Latest Map of India Wit...</td>\n",
       "      <td>Wonder House Books</td>\n",
       "      <td>Travel</td>\n",
       "      <td>Travel &amp; Holiday Guides</td>\n",
       "      <td>Poster</td>\n",
       "      <td>₹99.00</td>\n",
       "      <td>3.9</td>\n",
       "      <td>48.0</td>\n",
       "      <td>https://www.amazon.in/Political-Map-India-Terr...</td>\n",
       "    </tr>\n",
       "  </tbody>\n",
       "</table>\n",
       "<p>7928 rows × 10 columns</p>\n",
       "</div>"
      ],
      "text/plain": [
       "      Unnamed: 0                                              Title  \\\n",
       "0              0              The Complete Novel of Sherlock Holmes   \n",
       "1              1  Black Holes (L) : The Reith Lectures [Paperbac...   \n",
       "2              2                                    The Kite Runner   \n",
       "3              3  Greenlights: Raucous stories and outlaw wisdom...   \n",
       "4              4  The Science of Storytelling: Why Stories Make ...   \n",
       "...          ...                                                ...   \n",
       "7923        7923  Insight Guides Poland (Travel Guide with Free ...   \n",
       "7924        7924              Lonely Planet India 19 (Travel Guide)   \n",
       "7925        7925  Eyewitness Travel Phrase Book French (EW Trave...   \n",
       "7926        7926             Lonely Planet Australia (Travel Guide)   \n",
       "7927        7927  Political Map of India Latest Map of India Wit...   \n",
       "\n",
       "                    Author                Main Genre                Sub Genre  \\\n",
       "0       Arthur Conan Doyle  Arts, Film & Photography       Cinema & Broadcast   \n",
       "1          Stephen Hawking  Arts, Film & Photography       Cinema & Broadcast   \n",
       "2          Khaled Hosseini  Arts, Film & Photography       Cinema & Broadcast   \n",
       "3      Matthew McConaughey  Arts, Film & Photography       Cinema & Broadcast   \n",
       "4               Will Storr  Arts, Film & Photography       Cinema & Broadcast   \n",
       "...                    ...                       ...                      ...   \n",
       "7923  Insight Travel Guide                    Travel  Travel & Holiday Guides   \n",
       "7924     Anirban Mahapatra                    Travel  Travel & Holiday Guides   \n",
       "7925                    DK                    Travel  Travel & Holiday Guides   \n",
       "7926           Andrew Bain                    Travel  Travel & Holiday Guides   \n",
       "7927    Wonder House Books                    Travel  Travel & Holiday Guides   \n",
       "\n",
       "                Type      Price  Rating  No. of People rated  \\\n",
       "0          Paperback    ₹169.00     4.4              19923.0   \n",
       "1          Paperback     ₹99.00     4.5               7686.0   \n",
       "2     Kindle Edition    ₹175.75     4.6              50016.0   \n",
       "3          Paperback    ₹389.00     4.6              32040.0   \n",
       "4          Paperback    ₹348.16     4.5               1707.0   \n",
       "...              ...        ...     ...                  ...   \n",
       "7923       Paperback  ₹1,326.00     4.7                 16.0   \n",
       "7924       Paperback    ₹850.00     4.4                187.0   \n",
       "7925       Paperback    ₹307.00     4.5                168.0   \n",
       "7926  Kindle Edition  ₹1,814.50     4.7                267.0   \n",
       "7927          Poster     ₹99.00     3.9                 48.0   \n",
       "\n",
       "                                                   URLs  \n",
       "0     https://www.amazon.in/Complete-Novels-Sherlock...  \n",
       "1     https://www.amazon.in/Black-Holes-Lectures-Ste...  \n",
       "2     https://www.amazon.in/Kite-Runner-Khaled-Hosse...  \n",
       "3     https://www.amazon.in/Greenlights-Raucous-stor...  \n",
       "4     https://www.amazon.in/Science-Storytelling-Wil...  \n",
       "...                                                 ...  \n",
       "7923  https://www.amazon.in/Insight-Guides-Poland-Tr...  \n",
       "7924  https://www.amazon.in/Lonely-Planet-India-Trav...  \n",
       "7925  https://www.amazon.in/Eyewitness-Travel-Phrase...  \n",
       "7926  https://www.amazon.in/Lonely-Planet-Australia-...  \n",
       "7927  https://www.amazon.in/Political-Map-India-Terr...  \n",
       "\n",
       "[7928 rows x 10 columns]"
      ]
     },
     "execution_count": 3,
     "metadata": {},
     "output_type": "execute_result"
    }
   ],
   "source": [
    "df_books\n",
    "    "
   ]
  },
  {
   "cell_type": "code",
   "execution_count": 4,
   "id": "054fbbf1",
   "metadata": {
    "execution": {
     "iopub.execute_input": "2024-04-19T04:01:59.275396Z",
     "iopub.status.busy": "2024-04-19T04:01:59.274981Z",
     "iopub.status.idle": "2024-04-19T04:01:59.309561Z",
     "shell.execute_reply": "2024-04-19T04:01:59.308015Z"
    },
    "papermill": {
     "duration": 0.054367,
     "end_time": "2024-04-19T04:01:59.312655",
     "exception": false,
     "start_time": "2024-04-19T04:01:59.258288",
     "status": "completed"
    },
    "tags": []
   },
   "outputs": [
    {
     "name": "stdout",
     "output_type": "stream",
     "text": [
      "<class 'pandas.core.frame.DataFrame'>\n",
      "RangeIndex: 7928 entries, 0 to 7927\n",
      "Data columns (total 10 columns):\n",
      " #   Column               Non-Null Count  Dtype  \n",
      "---  ------               --------------  -----  \n",
      " 0   Unnamed: 0           7928 non-null   int64  \n",
      " 1   Title                7928 non-null   object \n",
      " 2   Author               7907 non-null   object \n",
      " 3   Main Genre           7928 non-null   object \n",
      " 4   Sub Genre            7928 non-null   object \n",
      " 5   Type                 7928 non-null   object \n",
      " 6   Price                7928 non-null   object \n",
      " 7   Rating               7928 non-null   float64\n",
      " 8   No. of People rated  7928 non-null   float64\n",
      " 9   URLs                 7928 non-null   object \n",
      "dtypes: float64(2), int64(1), object(7)\n",
      "memory usage: 619.5+ KB\n"
     ]
    }
   ],
   "source": [
    "df_books.info()"
   ]
  },
  {
   "cell_type": "code",
   "execution_count": 5,
   "id": "a84eabfa",
   "metadata": {
    "execution": {
     "iopub.execute_input": "2024-04-19T04:01:59.345909Z",
     "iopub.status.busy": "2024-04-19T04:01:59.345487Z",
     "iopub.status.idle": "2024-04-19T04:01:59.357175Z",
     "shell.execute_reply": "2024-04-19T04:01:59.356208Z"
    },
    "papermill": {
     "duration": 0.03194,
     "end_time": "2024-04-19T04:01:59.360272",
     "exception": false,
     "start_time": "2024-04-19T04:01:59.328332",
     "status": "completed"
    },
    "tags": []
   },
   "outputs": [
    {
     "name": "stdout",
     "output_type": "stream",
     "text": [
      "<class 'pandas.core.frame.DataFrame'>\n",
      "RangeIndex: 35 entries, 0 to 34\n",
      "Data columns (total 3 columns):\n",
      " #   Column                Non-Null Count  Dtype \n",
      "---  ------                --------------  ----- \n",
      " 0   Title                 35 non-null     object\n",
      " 1   Number of Sub-genres  35 non-null     int64 \n",
      " 2   URL                   35 non-null     object\n",
      "dtypes: int64(1), object(2)\n",
      "memory usage: 968.0+ bytes\n"
     ]
    }
   ],
   "source": [
    "df_genre.info()"
   ]
  },
  {
   "cell_type": "code",
   "execution_count": 6,
   "id": "35b3944b",
   "metadata": {
    "execution": {
     "iopub.execute_input": "2024-04-19T04:01:59.393385Z",
     "iopub.status.busy": "2024-04-19T04:01:59.392732Z",
     "iopub.status.idle": "2024-04-19T04:01:59.404921Z",
     "shell.execute_reply": "2024-04-19T04:01:59.403252Z"
    },
    "papermill": {
     "duration": 0.031607,
     "end_time": "2024-04-19T04:01:59.407426",
     "exception": false,
     "start_time": "2024-04-19T04:01:59.375819",
     "status": "completed"
    },
    "tags": []
   },
   "outputs": [
    {
     "name": "stdout",
     "output_type": "stream",
     "text": [
      "<class 'pandas.core.frame.DataFrame'>\n",
      "RangeIndex: 329 entries, 0 to 328\n",
      "Data columns (total 4 columns):\n",
      " #   Column        Non-Null Count  Dtype  \n",
      "---  ------        --------------  -----  \n",
      " 0   Title         329 non-null    object \n",
      " 1   Main Genre    329 non-null    object \n",
      " 2   No. of Books  329 non-null    float64\n",
      " 3   URLs          329 non-null    object \n",
      "dtypes: float64(1), object(3)\n",
      "memory usage: 10.4+ KB\n"
     ]
    }
   ],
   "source": [
    "df_sub_genre.info()"
   ]
  },
  {
   "cell_type": "code",
   "execution_count": 7,
   "id": "150b63a7",
   "metadata": {
    "execution": {
     "iopub.execute_input": "2024-04-19T04:01:59.441669Z",
     "iopub.status.busy": "2024-04-19T04:01:59.441279Z",
     "iopub.status.idle": "2024-04-19T04:01:59.453053Z",
     "shell.execute_reply": "2024-04-19T04:01:59.451768Z"
    },
    "papermill": {
     "duration": 0.031267,
     "end_time": "2024-04-19T04:01:59.455435",
     "exception": false,
     "start_time": "2024-04-19T04:01:59.424168",
     "status": "completed"
    },
    "tags": []
   },
   "outputs": [
    {
     "data": {
      "text/html": [
       "<div>\n",
       "<style scoped>\n",
       "    .dataframe tbody tr th:only-of-type {\n",
       "        vertical-align: middle;\n",
       "    }\n",
       "\n",
       "    .dataframe tbody tr th {\n",
       "        vertical-align: top;\n",
       "    }\n",
       "\n",
       "    .dataframe thead th {\n",
       "        text-align: right;\n",
       "    }\n",
       "</style>\n",
       "<table border=\"1\" class=\"dataframe\">\n",
       "  <thead>\n",
       "    <tr style=\"text-align: right;\">\n",
       "      <th></th>\n",
       "      <th>Title</th>\n",
       "      <th>Number of Sub-genres</th>\n",
       "      <th>URL</th>\n",
       "    </tr>\n",
       "  </thead>\n",
       "  <tbody>\n",
       "    <tr>\n",
       "      <th>0</th>\n",
       "      <td>Action &amp; Adventure</td>\n",
       "      <td>0</td>\n",
       "      <td>https://www.amazon.in/gp/bestsellers/books/131...</td>\n",
       "    </tr>\n",
       "    <tr>\n",
       "      <th>1</th>\n",
       "      <td>Arts, Film &amp; Photography</td>\n",
       "      <td>11</td>\n",
       "      <td>https://www.amazon.in/gp/bestsellers/books/131...</td>\n",
       "    </tr>\n",
       "    <tr>\n",
       "      <th>2</th>\n",
       "      <td>Biographies, Diaries &amp; True Accounts</td>\n",
       "      <td>3</td>\n",
       "      <td>https://www.amazon.in/gp/bestsellers/books/131...</td>\n",
       "    </tr>\n",
       "    <tr>\n",
       "      <th>3</th>\n",
       "      <td>Business &amp; Economics</td>\n",
       "      <td>4</td>\n",
       "      <td>https://www.amazon.in/gp/bestsellers/books/131...</td>\n",
       "    </tr>\n",
       "    <tr>\n",
       "      <th>4</th>\n",
       "      <td>Children's Books</td>\n",
       "      <td>34</td>\n",
       "      <td>https://www.amazon.in/gp/bestsellers/books/646...</td>\n",
       "    </tr>\n",
       "  </tbody>\n",
       "</table>\n",
       "</div>"
      ],
      "text/plain": [
       "                                  Title  Number of Sub-genres  \\\n",
       "0                    Action & Adventure                     0   \n",
       "1              Arts, Film & Photography                    11   \n",
       "2  Biographies, Diaries & True Accounts                     3   \n",
       "3                  Business & Economics                     4   \n",
       "4                      Children's Books                    34   \n",
       "\n",
       "                                                 URL  \n",
       "0  https://www.amazon.in/gp/bestsellers/books/131...  \n",
       "1  https://www.amazon.in/gp/bestsellers/books/131...  \n",
       "2  https://www.amazon.in/gp/bestsellers/books/131...  \n",
       "3  https://www.amazon.in/gp/bestsellers/books/131...  \n",
       "4  https://www.amazon.in/gp/bestsellers/books/646...  "
      ]
     },
     "execution_count": 7,
     "metadata": {},
     "output_type": "execute_result"
    }
   ],
   "source": [
    "df_genre.head()"
   ]
  },
  {
   "cell_type": "code",
   "execution_count": 8,
   "id": "d7722e28",
   "metadata": {
    "execution": {
     "iopub.execute_input": "2024-04-19T04:01:59.488869Z",
     "iopub.status.busy": "2024-04-19T04:01:59.488393Z",
     "iopub.status.idle": "2024-04-19T04:01:59.502593Z",
     "shell.execute_reply": "2024-04-19T04:01:59.501441Z"
    },
    "papermill": {
     "duration": 0.033742,
     "end_time": "2024-04-19T04:01:59.505033",
     "exception": false,
     "start_time": "2024-04-19T04:01:59.471291",
     "status": "completed"
    },
    "tags": []
   },
   "outputs": [
    {
     "data": {
      "text/html": [
       "<div>\n",
       "<style scoped>\n",
       "    .dataframe tbody tr th:only-of-type {\n",
       "        vertical-align: middle;\n",
       "    }\n",
       "\n",
       "    .dataframe tbody tr th {\n",
       "        vertical-align: top;\n",
       "    }\n",
       "\n",
       "    .dataframe thead th {\n",
       "        text-align: right;\n",
       "    }\n",
       "</style>\n",
       "<table border=\"1\" class=\"dataframe\">\n",
       "  <thead>\n",
       "    <tr style=\"text-align: right;\">\n",
       "      <th></th>\n",
       "      <th>Title</th>\n",
       "      <th>Main Genre</th>\n",
       "      <th>No. of Books</th>\n",
       "      <th>URLs</th>\n",
       "    </tr>\n",
       "  </thead>\n",
       "  <tbody>\n",
       "    <tr>\n",
       "      <th>0</th>\n",
       "      <td>Architecture</td>\n",
       "      <td>Arts, Film &amp; Photography</td>\n",
       "      <td>100.0</td>\n",
       "      <td>https://www.amazon.in/gp/bestsellers/books/131...</td>\n",
       "    </tr>\n",
       "    <tr>\n",
       "      <th>1</th>\n",
       "      <td>Cinema &amp; Broadcast</td>\n",
       "      <td>Arts, Film &amp; Photography</td>\n",
       "      <td>100.0</td>\n",
       "      <td>https://www.amazon.in/gp/bestsellers/books/131...</td>\n",
       "    </tr>\n",
       "    <tr>\n",
       "      <th>2</th>\n",
       "      <td>Dance</td>\n",
       "      <td>Arts, Film &amp; Photography</td>\n",
       "      <td>100.0</td>\n",
       "      <td>https://www.amazon.in/gp/bestsellers/books/131...</td>\n",
       "    </tr>\n",
       "    <tr>\n",
       "      <th>3</th>\n",
       "      <td>Design &amp; Fashion</td>\n",
       "      <td>Arts, Film &amp; Photography</td>\n",
       "      <td>100.0</td>\n",
       "      <td>https://www.amazon.in/gp/bestsellers/books/131...</td>\n",
       "    </tr>\n",
       "    <tr>\n",
       "      <th>4</th>\n",
       "      <td>Museums &amp; Museology</td>\n",
       "      <td>Arts, Film &amp; Photography</td>\n",
       "      <td>100.0</td>\n",
       "      <td>https://www.amazon.in/gp/bestsellers/books/131...</td>\n",
       "    </tr>\n",
       "  </tbody>\n",
       "</table>\n",
       "</div>"
      ],
      "text/plain": [
       "                 Title                Main Genre  No. of Books  \\\n",
       "0         Architecture  Arts, Film & Photography         100.0   \n",
       "1   Cinema & Broadcast  Arts, Film & Photography         100.0   \n",
       "2                Dance  Arts, Film & Photography         100.0   \n",
       "3     Design & Fashion  Arts, Film & Photography         100.0   \n",
       "4  Museums & Museology  Arts, Film & Photography         100.0   \n",
       "\n",
       "                                                URLs  \n",
       "0  https://www.amazon.in/gp/bestsellers/books/131...  \n",
       "1  https://www.amazon.in/gp/bestsellers/books/131...  \n",
       "2  https://www.amazon.in/gp/bestsellers/books/131...  \n",
       "3  https://www.amazon.in/gp/bestsellers/books/131...  \n",
       "4  https://www.amazon.in/gp/bestsellers/books/131...  "
      ]
     },
     "execution_count": 8,
     "metadata": {},
     "output_type": "execute_result"
    }
   ],
   "source": [
    "df_sub_genre.head()"
   ]
  },
  {
   "cell_type": "code",
   "execution_count": 9,
   "id": "8bbf2d08",
   "metadata": {
    "execution": {
     "iopub.execute_input": "2024-04-19T04:01:59.539483Z",
     "iopub.status.busy": "2024-04-19T04:01:59.539065Z",
     "iopub.status.idle": "2024-04-19T04:01:59.547046Z",
     "shell.execute_reply": "2024-04-19T04:01:59.545785Z"
    },
    "papermill": {
     "duration": 0.028317,
     "end_time": "2024-04-19T04:01:59.549603",
     "exception": false,
     "start_time": "2024-04-19T04:01:59.521286",
     "status": "completed"
    },
    "tags": []
   },
   "outputs": [
    {
     "data": {
      "text/plain": [
       "Index(['Unnamed: 0', 'Title', 'Author', 'Main Genre', 'Sub Genre', 'Type',\n",
       "       'Price', 'Rating', 'No. of People rated', 'URLs'],\n",
       "      dtype='object')"
      ]
     },
     "execution_count": 9,
     "metadata": {},
     "output_type": "execute_result"
    }
   ],
   "source": [
    "df_books.columns\n",
    "\n"
   ]
  },
  {
   "cell_type": "code",
   "execution_count": 10,
   "id": "cc9773c6",
   "metadata": {
    "execution": {
     "iopub.execute_input": "2024-04-19T04:01:59.583754Z",
     "iopub.status.busy": "2024-04-19T04:01:59.583356Z",
     "iopub.status.idle": "2024-04-19T04:01:59.591323Z",
     "shell.execute_reply": "2024-04-19T04:01:59.589917Z"
    },
    "papermill": {
     "duration": 0.028145,
     "end_time": "2024-04-19T04:01:59.594009",
     "exception": false,
     "start_time": "2024-04-19T04:01:59.565864",
     "status": "completed"
    },
    "tags": []
   },
   "outputs": [
    {
     "name": "stdout",
     "output_type": "stream",
     "text": [
      "['Arts, Film & Photography' 'Biographies, Diaries & True Accounts'\n",
      " 'Business & Economics' \"Children's Books\" 'Comics & Mangas'\n",
      " 'Computing, Internet & Digital Media' 'Crafts, Home & Lifestyle'\n",
      " 'Crime, Thriller & Mystery' 'Engineering' 'Exam Preparation'\n",
      " 'Fantasy, Horror & Science Fiction'\n",
      " 'Health, Family & Personal Development' 'Higher Education Textbooks'\n",
      " 'History' 'Language, Linguistics & Writing' 'Law' 'Literature & Fiction'\n",
      " 'Medicine & Health Sciences' 'Politics' 'Reference' 'Religion' 'Romance'\n",
      " 'School Books' 'Science & Mathematics' 'Sciences, Technology & Medicine'\n",
      " 'Society & Social Sciences' 'Sports' 'Teen & Young Adult'\n",
      " 'Textbooks & Study Guides' 'Travel']\n"
     ]
    }
   ],
   "source": [
    "unique_elements = df_books[\"Main Genre\"].unique()\n",
    "print(unique_elements)"
   ]
  },
  {
   "cell_type": "markdown",
   "id": "0c2fa326",
   "metadata": {
    "papermill": {
     "duration": 0.016123,
     "end_time": "2024-04-19T04:01:59.626393",
     "exception": false,
     "start_time": "2024-04-19T04:01:59.610270",
     "status": "completed"
    },
    "tags": []
   },
   "source": [
    "## Missing values\n"
   ]
  },
  {
   "cell_type": "code",
   "execution_count": 11,
   "id": "ae1c6e32",
   "metadata": {
    "execution": {
     "iopub.execute_input": "2024-04-19T04:01:59.661199Z",
     "iopub.status.busy": "2024-04-19T04:01:59.660828Z",
     "iopub.status.idle": "2024-04-19T04:01:59.676153Z",
     "shell.execute_reply": "2024-04-19T04:01:59.675211Z"
    },
    "papermill": {
     "duration": 0.036025,
     "end_time": "2024-04-19T04:01:59.678606",
     "exception": false,
     "start_time": "2024-04-19T04:01:59.642581",
     "status": "completed"
    },
    "tags": []
   },
   "outputs": [
    {
     "data": {
      "text/plain": [
       "Unnamed: 0             False\n",
       "Title                  False\n",
       "Author                  True\n",
       "Main Genre             False\n",
       "Sub Genre              False\n",
       "Type                   False\n",
       "Price                  False\n",
       "Rating                 False\n",
       "No. of People rated    False\n",
       "URLs                   False\n",
       "dtype: bool"
      ]
     },
     "execution_count": 11,
     "metadata": {},
     "output_type": "execute_result"
    }
   ],
   "source": [
    "df_books.isna().any()"
   ]
  },
  {
   "cell_type": "code",
   "execution_count": 12,
   "id": "5ff6a4a9",
   "metadata": {
    "execution": {
     "iopub.execute_input": "2024-04-19T04:01:59.713133Z",
     "iopub.status.busy": "2024-04-19T04:01:59.712724Z",
     "iopub.status.idle": "2024-04-19T04:01:59.728852Z",
     "shell.execute_reply": "2024-04-19T04:01:59.727675Z"
    },
    "papermill": {
     "duration": 0.036334,
     "end_time": "2024-04-19T04:01:59.731236",
     "exception": false,
     "start_time": "2024-04-19T04:01:59.694902",
     "status": "completed"
    },
    "tags": []
   },
   "outputs": [
    {
     "data": {
      "text/plain": [
       "Unnamed: 0              0\n",
       "Title                   0\n",
       "Author                 21\n",
       "Main Genre              0\n",
       "Sub Genre               0\n",
       "Type                    0\n",
       "Price                   0\n",
       "Rating                  0\n",
       "No. of People rated     0\n",
       "URLs                    0\n",
       "dtype: int64"
      ]
     },
     "execution_count": 12,
     "metadata": {},
     "output_type": "execute_result"
    }
   ],
   "source": [
    "df_books.isna().sum()"
   ]
  },
  {
   "cell_type": "code",
   "execution_count": 13,
   "id": "12b02e6d",
   "metadata": {
    "execution": {
     "iopub.execute_input": "2024-04-19T04:01:59.766107Z",
     "iopub.status.busy": "2024-04-19T04:01:59.765637Z",
     "iopub.status.idle": "2024-04-19T04:02:00.137161Z",
     "shell.execute_reply": "2024-04-19T04:02:00.135795Z"
    },
    "papermill": {
     "duration": 0.392496,
     "end_time": "2024-04-19T04:02:00.140143",
     "exception": false,
     "start_time": "2024-04-19T04:01:59.747647",
     "status": "completed"
    },
    "tags": []
   },
   "outputs": [
    {
     "data": {
      "image/png": "[encoded data removed]",
      "text/plain": [
       "<Figure size 640x480 with 1 Axes>"
      ]
     },
     "metadata": {},
     "output_type": "display_data"
    }
   ],
   "source": [
    "df_books.isna().sum().plot(kind=\"bar\")\n",
    "plt.show()"
   ]
  },
  {
   "cell_type": "code",
   "execution_count": 14,
   "id": "4c3ad803",
   "metadata": {
    "execution": {
     "iopub.execute_input": "2024-04-19T04:02:00.175966Z",
     "iopub.status.busy": "2024-04-19T04:02:00.175543Z",
     "iopub.status.idle": "2024-04-19T04:02:00.183609Z",
     "shell.execute_reply": "2024-04-19T04:02:00.182157Z"
    },
    "papermill": {
     "duration": 0.02911,
     "end_time": "2024-04-19T04:02:00.186296",
     "exception": false,
     "start_time": "2024-04-19T04:02:00.157186",
     "status": "completed"
    },
    "tags": []
   },
   "outputs": [
    {
     "data": {
      "text/plain": [
       "(7928, 10)"
      ]
     },
     "execution_count": 14,
     "metadata": {},
     "output_type": "execute_result"
    }
   ],
   "source": [
    "df_books.shape"
   ]
  },
  {
   "cell_type": "code",
   "execution_count": 15,
   "id": "dcd9886c",
   "metadata": {
    "execution": {
     "iopub.execute_input": "2024-04-19T04:02:00.222157Z",
     "iopub.status.busy": "2024-04-19T04:02:00.221685Z",
     "iopub.status.idle": "2024-04-19T04:02:00.236530Z",
     "shell.execute_reply": "2024-04-19T04:02:00.235515Z"
    },
    "papermill": {
     "duration": 0.035854,
     "end_time": "2024-04-19T04:02:00.239164",
     "exception": false,
     "start_time": "2024-04-19T04:02:00.203310",
     "status": "completed"
    },
    "tags": []
   },
   "outputs": [],
   "source": [
    "df_books_dropped = df_books.dropna()"
   ]
  },
  {
   "cell_type": "code",
   "execution_count": 16,
   "id": "343975b6",
   "metadata": {
    "execution": {
     "iopub.execute_input": "2024-04-19T04:02:00.275291Z",
     "iopub.status.busy": "2024-04-19T04:02:00.274900Z",
     "iopub.status.idle": "2024-04-19T04:02:00.283532Z",
     "shell.execute_reply": "2024-04-19T04:02:00.282132Z"
    },
    "papermill": {
     "duration": 0.029622,
     "end_time": "2024-04-19T04:02:00.285905",
     "exception": false,
     "start_time": "2024-04-19T04:02:00.256283",
     "status": "completed"
    },
    "tags": []
   },
   "outputs": [],
   "source": [
    "hot_encoded = pd.get_dummies(df_books_dropped['Main Genre'],dtype= int) "
   ]
  },
  {
   "cell_type": "code",
   "execution_count": 17,
   "id": "36bee0e0",
   "metadata": {
    "execution": {
     "iopub.execute_input": "2024-04-19T04:02:00.322417Z",
     "iopub.status.busy": "2024-04-19T04:02:00.322023Z",
     "iopub.status.idle": "2024-04-19T04:02:00.348035Z",
     "shell.execute_reply": "2024-04-19T04:02:00.346805Z"
    },
    "papermill": {
     "duration": 0.047268,
     "end_time": "2024-04-19T04:02:00.350586",
     "exception": false,
     "start_time": "2024-04-19T04:02:00.303318",
     "status": "completed"
    },
    "tags": []
   },
   "outputs": [
    {
     "data": {
      "text/html": [
       "<div>\n",
       "<style scoped>\n",
       "    .dataframe tbody tr th:only-of-type {\n",
       "        vertical-align: middle;\n",
       "    }\n",
       "\n",
       "    .dataframe tbody tr th {\n",
       "        vertical-align: top;\n",
       "    }\n",
       "\n",
       "    .dataframe thead th {\n",
       "        text-align: right;\n",
       "    }\n",
       "</style>\n",
       "<table border=\"1\" class=\"dataframe\">\n",
       "  <thead>\n",
       "    <tr style=\"text-align: right;\">\n",
       "      <th></th>\n",
       "      <th>Arts, Film &amp; Photography</th>\n",
       "      <th>Biographies, Diaries &amp; True Accounts</th>\n",
       "      <th>Business &amp; Economics</th>\n",
       "      <th>Children's Books</th>\n",
       "      <th>Comics &amp; Mangas</th>\n",
       "      <th>Computing, Internet &amp; Digital Media</th>\n",
       "      <th>Crafts, Home &amp; Lifestyle</th>\n",
       "      <th>Crime, Thriller &amp; Mystery</th>\n",
       "      <th>Engineering</th>\n",
       "      <th>Exam Preparation</th>\n",
       "      <th>...</th>\n",
       "      <th>Religion</th>\n",
       "      <th>Romance</th>\n",
       "      <th>School Books</th>\n",
       "      <th>Science &amp; Mathematics</th>\n",
       "      <th>Sciences, Technology &amp; Medicine</th>\n",
       "      <th>Society &amp; Social Sciences</th>\n",
       "      <th>Sports</th>\n",
       "      <th>Teen &amp; Young Adult</th>\n",
       "      <th>Textbooks &amp; Study Guides</th>\n",
       "      <th>Travel</th>\n",
       "    </tr>\n",
       "  </thead>\n",
       "  <tbody>\n",
       "    <tr>\n",
       "      <th>0</th>\n",
       "      <td>1</td>\n",
       "      <td>0</td>\n",
       "      <td>0</td>\n",
       "      <td>0</td>\n",
       "      <td>0</td>\n",
       "      <td>0</td>\n",
       "      <td>0</td>\n",
       "      <td>0</td>\n",
       "      <td>0</td>\n",
       "      <td>0</td>\n",
       "      <td>...</td>\n",
       "      <td>0</td>\n",
       "      <td>0</td>\n",
       "      <td>0</td>\n",
       "      <td>0</td>\n",
       "      <td>0</td>\n",
       "      <td>0</td>\n",
       "      <td>0</td>\n",
       "      <td>0</td>\n",
       "      <td>0</td>\n",
       "      <td>0</td>\n",
       "    </tr>\n",
       "    <tr>\n",
       "      <th>1</th>\n",
       "      <td>1</td>\n",
       "      <td>0</td>\n",
       "      <td>0</td>\n",
       "      <td>0</td>\n",
       "      <td>0</td>\n",
       "      <td>0</td>\n",
       "      <td>0</td>\n",
       "      <td>0</td>\n",
       "      <td>0</td>\n",
       "      <td>0</td>\n",
       "      <td>...</td>\n",
       "      <td>0</td>\n",
       "      <td>0</td>\n",
       "      <td>0</td>\n",
       "      <td>0</td>\n",
       "      <td>0</td>\n",
       "      <td>0</td>\n",
       "      <td>0</td>\n",
       "      <td>0</td>\n",
       "      <td>0</td>\n",
       "      <td>0</td>\n",
       "    </tr>\n",
       "    <tr>\n",
       "      <th>2</th>\n",
       "      <td>1</td>\n",
       "      <td>0</td>\n",
       "      <td>0</td>\n",
       "      <td>0</td>\n",
       "      <td>0</td>\n",
       "      <td>0</td>\n",
       "      <td>0</td>\n",
       "      <td>0</td>\n",
       "      <td>0</td>\n",
       "      <td>0</td>\n",
       "      <td>...</td>\n",
       "      <td>0</td>\n",
       "      <td>0</td>\n",
       "      <td>0</td>\n",
       "      <td>0</td>\n",
       "      <td>0</td>\n",
       "      <td>0</td>\n",
       "      <td>0</td>\n",
       "      <td>0</td>\n",
       "      <td>0</td>\n",
       "      <td>0</td>\n",
       "    </tr>\n",
       "    <tr>\n",
       "      <th>3</th>\n",
       "      <td>1</td>\n",
       "      <td>0</td>\n",
       "      <td>0</td>\n",
       "      <td>0</td>\n",
       "      <td>0</td>\n",
       "      <td>0</td>\n",
       "      <td>0</td>\n",
       "      <td>0</td>\n",
       "      <td>0</td>\n",
       "      <td>0</td>\n",
       "      <td>...</td>\n",
       "      <td>0</td>\n",
       "      <td>0</td>\n",
       "      <td>0</td>\n",
       "      <td>0</td>\n",
       "      <td>0</td>\n",
       "      <td>0</td>\n",
       "      <td>0</td>\n",
       "      <td>0</td>\n",
       "      <td>0</td>\n",
       "      <td>0</td>\n",
       "    </tr>\n",
       "    <tr>\n",
       "      <th>4</th>\n",
       "      <td>1</td>\n",
       "      <td>0</td>\n",
       "      <td>0</td>\n",
       "      <td>0</td>\n",
       "      <td>0</td>\n",
       "      <td>0</td>\n",
       "      <td>0</td>\n",
       "      <td>0</td>\n",
       "      <td>0</td>\n",
       "      <td>0</td>\n",
       "      <td>...</td>\n",
       "      <td>0</td>\n",
       "      <td>0</td>\n",
       "      <td>0</td>\n",
       "      <td>0</td>\n",
       "      <td>0</td>\n",
       "      <td>0</td>\n",
       "      <td>0</td>\n",
       "      <td>0</td>\n",
       "      <td>0</td>\n",
       "      <td>0</td>\n",
       "    </tr>\n",
       "    <tr>\n",
       "      <th>...</th>\n",
       "      <td>...</td>\n",
       "      <td>...</td>\n",
       "      <td>...</td>\n",
       "      <td>...</td>\n",
       "      <td>...</td>\n",
       "      <td>...</td>\n",
       "      <td>...</td>\n",
       "      <td>...</td>\n",
       "      <td>...</td>\n",
       "      <td>...</td>\n",
       "      <td>...</td>\n",
       "      <td>...</td>\n",
       "      <td>...</td>\n",
       "      <td>...</td>\n",
       "      <td>...</td>\n",
       "      <td>...</td>\n",
       "      <td>...</td>\n",
       "      <td>...</td>\n",
       "      <td>...</td>\n",
       "      <td>...</td>\n",
       "      <td>...</td>\n",
       "    </tr>\n",
       "    <tr>\n",
       "      <th>7923</th>\n",
       "      <td>0</td>\n",
       "      <td>0</td>\n",
       "      <td>0</td>\n",
       "      <td>0</td>\n",
       "      <td>0</td>\n",
       "      <td>0</td>\n",
       "      <td>0</td>\n",
       "      <td>0</td>\n",
       "      <td>0</td>\n",
       "      <td>0</td>\n",
       "      <td>...</td>\n",
       "      <td>0</td>\n",
       "      <td>0</td>\n",
       "      <td>0</td>\n",
       "      <td>0</td>\n",
       "      <td>0</td>\n",
       "      <td>0</td>\n",
       "      <td>0</td>\n",
       "      <td>0</td>\n",
       "      <td>0</td>\n",
       "      <td>1</td>\n",
       "    </tr>\n",
       "    <tr>\n",
       "      <th>7924</th>\n",
       "      <td>0</td>\n",
       "      <td>0</td>\n",
       "      <td>0</td>\n",
       "      <td>0</td>\n",
       "      <td>0</td>\n",
       "      <td>0</td>\n",
       "      <td>0</td>\n",
       "      <td>0</td>\n",
       "      <td>0</td>\n",
       "      <td>0</td>\n",
       "      <td>...</td>\n",
       "      <td>0</td>\n",
       "      <td>0</td>\n",
       "      <td>0</td>\n",
       "      <td>0</td>\n",
       "      <td>0</td>\n",
       "      <td>0</td>\n",
       "      <td>0</td>\n",
       "      <td>0</td>\n",
       "      <td>0</td>\n",
       "      <td>1</td>\n",
       "    </tr>\n",
       "    <tr>\n",
       "      <th>7925</th>\n",
       "      <td>0</td>\n",
       "      <td>0</td>\n",
       "      <td>0</td>\n",
       "      <td>0</td>\n",
       "      <td>0</td>\n",
       "      <td>0</td>\n",
       "      <td>0</td>\n",
       "      <td>0</td>\n",
       "      <td>0</td>\n",
       "      <td>0</td>\n",
       "      <td>...</td>\n",
       "      <td>0</td>\n",
       "      <td>0</td>\n",
       "      <td>0</td>\n",
       "      <td>0</td>\n",
       "      <td>0</td>\n",
       "      <td>0</td>\n",
       "      <td>0</td>\n",
       "      <td>0</td>\n",
       "      <td>0</td>\n",
       "      <td>1</td>\n",
       "    </tr>\n",
       "    <tr>\n",
       "      <th>7926</th>\n",
       "      <td>0</td>\n",
       "      <td>0</td>\n",
       "      <td>0</td>\n",
       "      <td>0</td>\n",
       "      <td>0</td>\n",
       "      <td>0</td>\n",
       "      <td>0</td>\n",
       "      <td>0</td>\n",
       "      <td>0</td>\n",
       "      <td>0</td>\n",
       "      <td>...</td>\n",
       "      <td>0</td>\n",
       "      <td>0</td>\n",
       "      <td>0</td>\n",
       "      <td>0</td>\n",
       "      <td>0</td>\n",
       "      <td>0</td>\n",
       "      <td>0</td>\n",
       "      <td>0</td>\n",
       "      <td>0</td>\n",
       "      <td>1</td>\n",
       "    </tr>\n",
       "    <tr>\n",
       "      <th>7927</th>\n",
       "      <td>0</td>\n",
       "      <td>0</td>\n",
       "      <td>0</td>\n",
       "      <td>0</td>\n",
       "      <td>0</td>\n",
       "      <td>0</td>\n",
       "      <td>0</td>\n",
       "      <td>0</td>\n",
       "      <td>0</td>\n",
       "      <td>0</td>\n",
       "      <td>...</td>\n",
       "      <td>0</td>\n",
       "      <td>0</td>\n",
       "      <td>0</td>\n",
       "      <td>0</td>\n",
       "      <td>0</td>\n",
       "      <td>0</td>\n",
       "      <td>0</td>\n",
       "      <td>0</td>\n",
       "      <td>0</td>\n",
       "      <td>1</td>\n",
       "    </tr>\n",
       "  </tbody>\n",
       "</table>\n",
       "<p>7907 rows × 30 columns</p>\n",
       "</div>"
      ],
      "text/plain": [
       "      Arts, Film & Photography  Biographies, Diaries & True Accounts  \\\n",
       "0                            1                                     0   \n",
       "1                            1                                     0   \n",
       "2                            1                                     0   \n",
       "3                            1                                     0   \n",
       "4                            1                                     0   \n",
       "...                        ...                                   ...   \n",
       "7923                         0                                     0   \n",
       "7924                         0                                     0   \n",
       "7925                         0                                     0   \n",
       "7926                         0                                     0   \n",
       "7927                         0                                     0   \n",
       "\n",
       "      Business & Economics  Children's Books  Comics & Mangas  \\\n",
       "0                        0                 0                0   \n",
       "1                        0                 0                0   \n",
       "2                        0                 0                0   \n",
       "3                        0                 0                0   \n",
       "4                        0                 0                0   \n",
       "...                    ...               ...              ...   \n",
       "7923                     0                 0                0   \n",
       "7924                     0                 0                0   \n",
       "7925                     0                 0                0   \n",
       "7926                     0                 0                0   \n",
       "7927                     0                 0                0   \n",
       "\n",
       "      Computing, Internet & Digital Media  Crafts, Home & Lifestyle  \\\n",
       "0                                       0                         0   \n",
       "1                                       0                         0   \n",
       "2                                       0                         0   \n",
       "3                                       0                         0   \n",
       "4                                       0                         0   \n",
       "...                                   ...                       ...   \n",
       "7923                                    0                         0   \n",
       "7924                                    0                         0   \n",
       "7925                                    0                         0   \n",
       "7926                                    0                         0   \n",
       "7927                                    0                         0   \n",
       "\n",
       "      Crime, Thriller & Mystery  Engineering  Exam Preparation  ...  Religion  \\\n",
       "0                             0            0                 0  ...         0   \n",
       "1                             0            0                 0  ...         0   \n",
       "2                             0            0                 0  ...         0   \n",
       "3                             0            0                 0  ...         0   \n",
       "4                             0            0                 0  ...         0   \n",
       "...                         ...          ...               ...  ...       ...   \n",
       "7923                          0            0                 0  ...         0   \n",
       "7924                          0            0                 0  ...         0   \n",
       "7925                          0            0                 0  ...         0   \n",
       "7926                          0            0                 0  ...         0   \n",
       "7927                          0            0                 0  ...         0   \n",
       "\n",
       "      Romance  School Books  Science & Mathematics  \\\n",
       "0           0             0                      0   \n",
       "1           0             0                      0   \n",
       "2           0             0                      0   \n",
       "3           0             0                      0   \n",
       "4           0             0                      0   \n",
       "...       ...           ...                    ...   \n",
       "7923        0             0                      0   \n",
       "7924        0             0                      0   \n",
       "7925        0             0                      0   \n",
       "7926        0             0                      0   \n",
       "7927        0             0                      0   \n",
       "\n",
       "      Sciences, Technology & Medicine  Society & Social Sciences  Sports  \\\n",
       "0                                   0                          0       0   \n",
       "1                                   0                          0       0   \n",
       "2                                   0                          0       0   \n",
       "3                                   0                          0       0   \n",
       "4                                   0                          0       0   \n",
       "...                               ...                        ...     ...   \n",
       "7923                                0                          0       0   \n",
       "7924                                0                          0       0   \n",
       "7925                                0                          0       0   \n",
       "7926                                0                          0       0   \n",
       "7927                                0                          0       0   \n",
       "\n",
       "      Teen & Young Adult  Textbooks & Study Guides  Travel  \n",
       "0                      0                         0       0  \n",
       "1                      0                         0       0  \n",
       "2                      0                         0       0  \n",
       "3                      0                         0       0  \n",
       "4                      0                         0       0  \n",
       "...                  ...                       ...     ...  \n",
       "7923                   0                         0       1  \n",
       "7924                   0                         0       1  \n",
       "7925                   0                         0       1  \n",
       "7926                   0                         0       1  \n",
       "7927                   0                         0       1  \n",
       "\n",
       "[7907 rows x 30 columns]"
      ]
     },
     "execution_count": 17,
     "metadata": {},
     "output_type": "execute_result"
    }
   ],
   "source": [
    "hot_encoded "
   ]
  },
  {
   "cell_type": "code",
   "execution_count": 18,
   "id": "85592901",
   "metadata": {
    "execution": {
     "iopub.execute_input": "2024-04-19T04:02:00.388287Z",
     "iopub.status.busy": "2024-04-19T04:02:00.387895Z",
     "iopub.status.idle": "2024-04-19T04:02:00.397289Z",
     "shell.execute_reply": "2024-04-19T04:02:00.396028Z"
    },
    "papermill": {
     "duration": 0.03185,
     "end_time": "2024-04-19T04:02:00.400188",
     "exception": false,
     "start_time": "2024-04-19T04:02:00.368338",
     "status": "completed"
    },
    "tags": []
   },
   "outputs": [
    {
     "data": {
      "text/plain": [
       "Index(['ID', 'Title', 'Author', 'Main Genre', 'Sub Genre', 'Type', 'Price',\n",
       "       'Rating', 'No. of People rated', 'URLs'],\n",
       "      dtype='object')"
      ]
     },
     "execution_count": 18,
     "metadata": {},
     "output_type": "execute_result"
    }
   ],
   "source": [
    "df_books_dropped = df_books_dropped.rename(columns={'Unnamed: 0': 'ID'})\n",
    "\n",
    "df_books_dropped.columns\n"
   ]
  },
  {
   "cell_type": "code",
   "execution_count": 19,
   "id": "9d479036",
   "metadata": {
    "execution": {
     "iopub.execute_input": "2024-04-19T04:02:00.439278Z",
     "iopub.status.busy": "2024-04-19T04:02:00.438860Z",
     "iopub.status.idle": "2024-04-19T04:02:00.471452Z",
     "shell.execute_reply": "2024-04-19T04:02:00.470088Z"
    },
    "papermill": {
     "duration": 0.055403,
     "end_time": "2024-04-19T04:02:00.474207",
     "exception": false,
     "start_time": "2024-04-19T04:02:00.418804",
     "status": "completed"
    },
    "tags": []
   },
   "outputs": [
    {
     "data": {
      "text/html": [
       "<div>\n",
       "<style scoped>\n",
       "    .dataframe tbody tr th:only-of-type {\n",
       "        vertical-align: middle;\n",
       "    }\n",
       "\n",
       "    .dataframe tbody tr th {\n",
       "        vertical-align: top;\n",
       "    }\n",
       "\n",
       "    .dataframe thead th {\n",
       "        text-align: right;\n",
       "    }\n",
       "</style>\n",
       "<table border=\"1\" class=\"dataframe\">\n",
       "  <thead>\n",
       "    <tr style=\"text-align: right;\">\n",
       "      <th></th>\n",
       "      <th>Rating</th>\n",
       "      <th>Arts, Film &amp; Photography</th>\n",
       "      <th>Biographies, Diaries &amp; True Accounts</th>\n",
       "      <th>Business &amp; Economics</th>\n",
       "      <th>Children's Books</th>\n",
       "      <th>Comics &amp; Mangas</th>\n",
       "      <th>Computing, Internet &amp; Digital Media</th>\n",
       "      <th>Crafts, Home &amp; Lifestyle</th>\n",
       "      <th>Crime, Thriller &amp; Mystery</th>\n",
       "      <th>Engineering</th>\n",
       "      <th>...</th>\n",
       "      <th>Religion</th>\n",
       "      <th>Romance</th>\n",
       "      <th>School Books</th>\n",
       "      <th>Science &amp; Mathematics</th>\n",
       "      <th>Sciences, Technology &amp; Medicine</th>\n",
       "      <th>Society &amp; Social Sciences</th>\n",
       "      <th>Sports</th>\n",
       "      <th>Teen &amp; Young Adult</th>\n",
       "      <th>Textbooks &amp; Study Guides</th>\n",
       "      <th>Travel</th>\n",
       "    </tr>\n",
       "  </thead>\n",
       "  <tbody>\n",
       "    <tr>\n",
       "      <th>0</th>\n",
       "      <td>4.4</td>\n",
       "      <td>1</td>\n",
       "      <td>0</td>\n",
       "      <td>0</td>\n",
       "      <td>0</td>\n",
       "      <td>0</td>\n",
       "      <td>0</td>\n",
       "      <td>0</td>\n",
       "      <td>0</td>\n",
       "      <td>0</td>\n",
       "      <td>...</td>\n",
       "      <td>0</td>\n",
       "      <td>0</td>\n",
       "      <td>0</td>\n",
       "      <td>0</td>\n",
       "      <td>0</td>\n",
       "      <td>0</td>\n",
       "      <td>0</td>\n",
       "      <td>0</td>\n",
       "      <td>0</td>\n",
       "      <td>0</td>\n",
       "    </tr>\n",
       "    <tr>\n",
       "      <th>1</th>\n",
       "      <td>4.5</td>\n",
       "      <td>1</td>\n",
       "      <td>0</td>\n",
       "      <td>0</td>\n",
       "      <td>0</td>\n",
       "      <td>0</td>\n",
       "      <td>0</td>\n",
       "      <td>0</td>\n",
       "      <td>0</td>\n",
       "      <td>0</td>\n",
       "      <td>...</td>\n",
       "      <td>0</td>\n",
       "      <td>0</td>\n",
       "      <td>0</td>\n",
       "      <td>0</td>\n",
       "      <td>0</td>\n",
       "      <td>0</td>\n",
       "      <td>0</td>\n",
       "      <td>0</td>\n",
       "      <td>0</td>\n",
       "      <td>0</td>\n",
       "    </tr>\n",
       "    <tr>\n",
       "      <th>2</th>\n",
       "      <td>4.6</td>\n",
       "      <td>1</td>\n",
       "      <td>0</td>\n",
       "      <td>0</td>\n",
       "      <td>0</td>\n",
       "      <td>0</td>\n",
       "      <td>0</td>\n",
       "      <td>0</td>\n",
       "      <td>0</td>\n",
       "      <td>0</td>\n",
       "      <td>...</td>\n",
       "      <td>0</td>\n",
       "      <td>0</td>\n",
       "      <td>0</td>\n",
       "      <td>0</td>\n",
       "      <td>0</td>\n",
       "      <td>0</td>\n",
       "      <td>0</td>\n",
       "      <td>0</td>\n",
       "      <td>0</td>\n",
       "      <td>0</td>\n",
       "    </tr>\n",
       "    <tr>\n",
       "      <th>3</th>\n",
       "      <td>4.6</td>\n",
       "      <td>1</td>\n",
       "      <td>0</td>\n",
       "      <td>0</td>\n",
       "      <td>0</td>\n",
       "      <td>0</td>\n",
       "      <td>0</td>\n",
       "      <td>0</td>\n",
       "      <td>0</td>\n",
       "      <td>0</td>\n",
       "      <td>...</td>\n",
       "      <td>0</td>\n",
       "      <td>0</td>\n",
       "      <td>0</td>\n",
       "      <td>0</td>\n",
       "      <td>0</td>\n",
       "      <td>0</td>\n",
       "      <td>0</td>\n",
       "      <td>0</td>\n",
       "      <td>0</td>\n",
       "      <td>0</td>\n",
       "    </tr>\n",
       "    <tr>\n",
       "      <th>4</th>\n",
       "      <td>4.5</td>\n",
       "      <td>1</td>\n",
       "      <td>0</td>\n",
       "      <td>0</td>\n",
       "      <td>0</td>\n",
       "      <td>0</td>\n",
       "      <td>0</td>\n",
       "      <td>0</td>\n",
       "      <td>0</td>\n",
       "      <td>0</td>\n",
       "      <td>...</td>\n",
       "      <td>0</td>\n",
       "      <td>0</td>\n",
       "      <td>0</td>\n",
       "      <td>0</td>\n",
       "      <td>0</td>\n",
       "      <td>0</td>\n",
       "      <td>0</td>\n",
       "      <td>0</td>\n",
       "      <td>0</td>\n",
       "      <td>0</td>\n",
       "    </tr>\n",
       "    <tr>\n",
       "      <th>...</th>\n",
       "      <td>...</td>\n",
       "      <td>...</td>\n",
       "      <td>...</td>\n",
       "      <td>...</td>\n",
       "      <td>...</td>\n",
       "      <td>...</td>\n",
       "      <td>...</td>\n",
       "      <td>...</td>\n",
       "      <td>...</td>\n",
       "      <td>...</td>\n",
       "      <td>...</td>\n",
       "      <td>...</td>\n",
       "      <td>...</td>\n",
       "      <td>...</td>\n",
       "      <td>...</td>\n",
       "      <td>...</td>\n",
       "      <td>...</td>\n",
       "      <td>...</td>\n",
       "      <td>...</td>\n",
       "      <td>...</td>\n",
       "      <td>...</td>\n",
       "    </tr>\n",
       "    <tr>\n",
       "      <th>7923</th>\n",
       "      <td>4.7</td>\n",
       "      <td>0</td>\n",
       "      <td>0</td>\n",
       "      <td>0</td>\n",
       "      <td>0</td>\n",
       "      <td>0</td>\n",
       "      <td>0</td>\n",
       "      <td>0</td>\n",
       "      <td>0</td>\n",
       "      <td>0</td>\n",
       "      <td>...</td>\n",
       "      <td>0</td>\n",
       "      <td>0</td>\n",
       "      <td>0</td>\n",
       "      <td>0</td>\n",
       "      <td>0</td>\n",
       "      <td>0</td>\n",
       "      <td>0</td>\n",
       "      <td>0</td>\n",
       "      <td>0</td>\n",
       "      <td>1</td>\n",
       "    </tr>\n",
       "    <tr>\n",
       "      <th>7924</th>\n",
       "      <td>4.4</td>\n",
       "      <td>0</td>\n",
       "      <td>0</td>\n",
       "      <td>0</td>\n",
       "      <td>0</td>\n",
       "      <td>0</td>\n",
       "      <td>0</td>\n",
       "      <td>0</td>\n",
       "      <td>0</td>\n",
       "      <td>0</td>\n",
       "      <td>...</td>\n",
       "      <td>0</td>\n",
       "      <td>0</td>\n",
       "      <td>0</td>\n",
       "      <td>0</td>\n",
       "      <td>0</td>\n",
       "      <td>0</td>\n",
       "      <td>0</td>\n",
       "      <td>0</td>\n",
       "      <td>0</td>\n",
       "      <td>1</td>\n",
       "    </tr>\n",
       "    <tr>\n",
       "      <th>7925</th>\n",
       "      <td>4.5</td>\n",
       "      <td>0</td>\n",
       "      <td>0</td>\n",
       "      <td>0</td>\n",
       "      <td>0</td>\n",
       "      <td>0</td>\n",
       "      <td>0</td>\n",
       "      <td>0</td>\n",
       "      <td>0</td>\n",
       "      <td>0</td>\n",
       "      <td>...</td>\n",
       "      <td>0</td>\n",
       "      <td>0</td>\n",
       "      <td>0</td>\n",
       "      <td>0</td>\n",
       "      <td>0</td>\n",
       "      <td>0</td>\n",
       "      <td>0</td>\n",
       "      <td>0</td>\n",
       "      <td>0</td>\n",
       "      <td>1</td>\n",
       "    </tr>\n",
       "    <tr>\n",
       "      <th>7926</th>\n",
       "      <td>4.7</td>\n",
       "      <td>0</td>\n",
       "      <td>0</td>\n",
       "      <td>0</td>\n",
       "      <td>0</td>\n",
       "      <td>0</td>\n",
       "      <td>0</td>\n",
       "      <td>0</td>\n",
       "      <td>0</td>\n",
       "      <td>0</td>\n",
       "      <td>...</td>\n",
       "      <td>0</td>\n",
       "      <td>0</td>\n",
       "      <td>0</td>\n",
       "      <td>0</td>\n",
       "      <td>0</td>\n",
       "      <td>0</td>\n",
       "      <td>0</td>\n",
       "      <td>0</td>\n",
       "      <td>0</td>\n",
       "      <td>1</td>\n",
       "    </tr>\n",
       "    <tr>\n",
       "      <th>7927</th>\n",
       "      <td>3.9</td>\n",
       "      <td>0</td>\n",
       "      <td>0</td>\n",
       "      <td>0</td>\n",
       "      <td>0</td>\n",
       "      <td>0</td>\n",
       "      <td>0</td>\n",
       "      <td>0</td>\n",
       "      <td>0</td>\n",
       "      <td>0</td>\n",
       "      <td>...</td>\n",
       "      <td>0</td>\n",
       "      <td>0</td>\n",
       "      <td>0</td>\n",
       "      <td>0</td>\n",
       "      <td>0</td>\n",
       "      <td>0</td>\n",
       "      <td>0</td>\n",
       "      <td>0</td>\n",
       "      <td>0</td>\n",
       "      <td>1</td>\n",
       "    </tr>\n",
       "  </tbody>\n",
       "</table>\n",
       "<p>7907 rows × 31 columns</p>\n",
       "</div>"
      ],
      "text/plain": [
       "      Rating  Arts, Film & Photography  Biographies, Diaries & True Accounts  \\\n",
       "0        4.4                         1                                     0   \n",
       "1        4.5                         1                                     0   \n",
       "2        4.6                         1                                     0   \n",
       "3        4.6                         1                                     0   \n",
       "4        4.5                         1                                     0   \n",
       "...      ...                       ...                                   ...   \n",
       "7923     4.7                         0                                     0   \n",
       "7924     4.4                         0                                     0   \n",
       "7925     4.5                         0                                     0   \n",
       "7926     4.7                         0                                     0   \n",
       "7927     3.9                         0                                     0   \n",
       "\n",
       "      Business & Economics  Children's Books  Comics & Mangas  \\\n",
       "0                        0                 0                0   \n",
       "1                        0                 0                0   \n",
       "2                        0                 0                0   \n",
       "3                        0                 0                0   \n",
       "4                        0                 0                0   \n",
       "...                    ...               ...              ...   \n",
       "7923                     0                 0                0   \n",
       "7924                     0                 0                0   \n",
       "7925                     0                 0                0   \n",
       "7926                     0                 0                0   \n",
       "7927                     0                 0                0   \n",
       "\n",
       "      Computing, Internet & Digital Media  Crafts, Home & Lifestyle  \\\n",
       "0                                       0                         0   \n",
       "1                                       0                         0   \n",
       "2                                       0                         0   \n",
       "3                                       0                         0   \n",
       "4                                       0                         0   \n",
       "...                                   ...                       ...   \n",
       "7923                                    0                         0   \n",
       "7924                                    0                         0   \n",
       "7925                                    0                         0   \n",
       "7926                                    0                         0   \n",
       "7927                                    0                         0   \n",
       "\n",
       "      Crime, Thriller & Mystery  Engineering  ...  Religion  Romance  \\\n",
       "0                             0            0  ...         0        0   \n",
       "1                             0            0  ...         0        0   \n",
       "2                             0            0  ...         0        0   \n",
       "3                             0            0  ...         0        0   \n",
       "4                             0            0  ...         0        0   \n",
       "...                         ...          ...  ...       ...      ...   \n",
       "7923                          0            0  ...         0        0   \n",
       "7924                          0            0  ...         0        0   \n",
       "7925                          0            0  ...         0        0   \n",
       "7926                          0            0  ...         0        0   \n",
       "7927                          0            0  ...         0        0   \n",
       "\n",
       "      School Books  Science & Mathematics  Sciences, Technology & Medicine  \\\n",
       "0                0                      0                                0   \n",
       "1                0                      0                                0   \n",
       "2                0                      0                                0   \n",
       "3                0                      0                                0   \n",
       "4                0                      0                                0   \n",
       "...            ...                    ...                              ...   \n",
       "7923             0                      0                                0   \n",
       "7924             0                      0                                0   \n",
       "7925             0                      0                                0   \n",
       "7926             0                      0                                0   \n",
       "7927             0                      0                                0   \n",
       "\n",
       "      Society & Social Sciences  Sports  Teen & Young Adult  \\\n",
       "0                             0       0                   0   \n",
       "1                             0       0                   0   \n",
       "2                             0       0                   0   \n",
       "3                             0       0                   0   \n",
       "4                             0       0                   0   \n",
       "...                         ...     ...                 ...   \n",
       "7923                          0       0                   0   \n",
       "7924                          0       0                   0   \n",
       "7925                          0       0                   0   \n",
       "7926                          0       0                   0   \n",
       "7927                          0       0                   0   \n",
       "\n",
       "      Textbooks & Study Guides  Travel  \n",
       "0                            0       0  \n",
       "1                            0       0  \n",
       "2                            0       0  \n",
       "3                            0       0  \n",
       "4                            0       0  \n",
       "...                        ...     ...  \n",
       "7923                         0       1  \n",
       "7924                         0       1  \n",
       "7925                         0       1  \n",
       "7926                         0       1  \n",
       "7927                         0       1  \n",
       "\n",
       "[7907 rows x 31 columns]"
      ]
     },
     "execution_count": 19,
     "metadata": {},
     "output_type": "execute_result"
    }
   ],
   "source": [
    "df =df_books_dropped.loc[:, ['Rating']] \n",
    "df= pd.concat([df, hot_encoded], axis=1)\n",
    "df"
   ]
  },
  {
   "cell_type": "code",
   "execution_count": null,
   "id": "5c0a1e45",
   "metadata": {
    "papermill": {
     "duration": 0.018375,
     "end_time": "2024-04-19T04:02:00.511402",
     "exception": false,
     "start_time": "2024-04-19T04:02:00.493027",
     "status": "completed"
    },
    "tags": []
   },
   "outputs": [],
   "source": [
    "\n"
   ]
  },
  {
   "cell_type": "markdown",
   "id": "8fcb6b6e",
   "metadata": {
    "papermill": {
     "duration": 0.079844,
     "end_time": "2024-04-19T04:02:00.610095",
     "exception": false,
     "start_time": "2024-04-19T04:02:00.530251",
     "status": "completed"
    },
    "tags": []
   },
   "source": [
    "### Scaling and Spliting"
   ]
  },
  {
   "cell_type": "code",
   "execution_count": 20,
   "id": "40d53939",
   "metadata": {
    "execution": {
     "iopub.execute_input": "2024-04-19T04:02:00.650551Z",
     "iopub.status.busy": "2024-04-19T04:02:00.650135Z",
     "iopub.status.idle": "2024-04-19T04:02:02.442356Z",
     "shell.execute_reply": "2024-04-19T04:02:02.440795Z"
    },
    "papermill": {
     "duration": 1.816636,
     "end_time": "2024-04-19T04:02:02.446024",
     "exception": false,
     "start_time": "2024-04-19T04:02:00.629388",
     "status": "completed"
    },
    "tags": []
   },
   "outputs": [],
   "source": [
    "from sklearn.preprocessing import StandardScaler, MinMaxScaler\n",
    "from sklearn.model_selection import train_test_split"
   ]
  },
  {
   "cell_type": "code",
   "execution_count": 21,
   "id": "13ea6313",
   "metadata": {
    "execution": {
     "iopub.execute_input": "2024-04-19T04:02:02.495655Z",
     "iopub.status.busy": "2024-04-19T04:02:02.490214Z",
     "iopub.status.idle": "2024-04-19T04:02:02.637578Z",
     "shell.execute_reply": "2024-04-19T04:02:02.636267Z"
    },
    "papermill": {
     "duration": 0.172397,
     "end_time": "2024-04-19T04:02:02.640905",
     "exception": false,
     "start_time": "2024-04-19T04:02:02.468508",
     "status": "completed"
    },
    "tags": []
   },
   "outputs": [
    {
     "data": {
      "text/html": [
       "<div>\n",
       "<style scoped>\n",
       "    .dataframe tbody tr th:only-of-type {\n",
       "        vertical-align: middle;\n",
       "    }\n",
       "\n",
       "    .dataframe tbody tr th {\n",
       "        vertical-align: top;\n",
       "    }\n",
       "\n",
       "    .dataframe thead th {\n",
       "        text-align: right;\n",
       "    }\n",
       "</style>\n",
       "<table border=\"1\" class=\"dataframe\">\n",
       "  <thead>\n",
       "    <tr style=\"text-align: right;\">\n",
       "      <th></th>\n",
       "      <th>Rating</th>\n",
       "      <th>Arts, Film &amp; Photography</th>\n",
       "      <th>Biographies, Diaries &amp; True Accounts</th>\n",
       "      <th>Business &amp; Economics</th>\n",
       "      <th>Children's Books</th>\n",
       "      <th>Comics &amp; Mangas</th>\n",
       "      <th>Computing, Internet &amp; Digital Media</th>\n",
       "      <th>Crafts, Home &amp; Lifestyle</th>\n",
       "      <th>Crime, Thriller &amp; Mystery</th>\n",
       "      <th>Engineering</th>\n",
       "      <th>...</th>\n",
       "      <th>Religion</th>\n",
       "      <th>Romance</th>\n",
       "      <th>School Books</th>\n",
       "      <th>Science &amp; Mathematics</th>\n",
       "      <th>Sciences, Technology &amp; Medicine</th>\n",
       "      <th>Society &amp; Social Sciences</th>\n",
       "      <th>Sports</th>\n",
       "      <th>Teen &amp; Young Adult</th>\n",
       "      <th>Textbooks &amp; Study Guides</th>\n",
       "      <th>Travel</th>\n",
       "    </tr>\n",
       "  </thead>\n",
       "  <tbody>\n",
       "    <tr>\n",
       "      <th>0</th>\n",
       "      <td>0.153511</td>\n",
       "      <td>6.207657</td>\n",
       "      <td>-0.113177</td>\n",
       "      <td>-0.139059</td>\n",
       "      <td>-0.470475</td>\n",
       "      <td>-0.113177</td>\n",
       "      <td>-0.215208</td>\n",
       "      <td>-0.198588</td>\n",
       "      <td>-0.079773</td>\n",
       "      <td>-0.079773</td>\n",
       "      <td>...</td>\n",
       "      <td>-0.198588</td>\n",
       "      <td>-0.407073</td>\n",
       "      <td>-0.113177</td>\n",
       "      <td>-0.139059</td>\n",
       "      <td>-0.161091</td>\n",
       "      <td>-0.161091</td>\n",
       "      <td>-0.34797</td>\n",
       "      <td>-0.214887</td>\n",
       "      <td>-0.079773</td>\n",
       "      <td>-0.079773</td>\n",
       "    </tr>\n",
       "    <tr>\n",
       "      <th>1</th>\n",
       "      <td>0.263199</td>\n",
       "      <td>6.207657</td>\n",
       "      <td>-0.113177</td>\n",
       "      <td>-0.139059</td>\n",
       "      <td>-0.470475</td>\n",
       "      <td>-0.113177</td>\n",
       "      <td>-0.215208</td>\n",
       "      <td>-0.198588</td>\n",
       "      <td>-0.079773</td>\n",
       "      <td>-0.079773</td>\n",
       "      <td>...</td>\n",
       "      <td>-0.198588</td>\n",
       "      <td>-0.407073</td>\n",
       "      <td>-0.113177</td>\n",
       "      <td>-0.139059</td>\n",
       "      <td>-0.161091</td>\n",
       "      <td>-0.161091</td>\n",
       "      <td>-0.34797</td>\n",
       "      <td>-0.214887</td>\n",
       "      <td>-0.079773</td>\n",
       "      <td>-0.079773</td>\n",
       "    </tr>\n",
       "    <tr>\n",
       "      <th>2</th>\n",
       "      <td>0.372887</td>\n",
       "      <td>6.207657</td>\n",
       "      <td>-0.113177</td>\n",
       "      <td>-0.139059</td>\n",
       "      <td>-0.470475</td>\n",
       "      <td>-0.113177</td>\n",
       "      <td>-0.215208</td>\n",
       "      <td>-0.198588</td>\n",
       "      <td>-0.079773</td>\n",
       "      <td>-0.079773</td>\n",
       "      <td>...</td>\n",
       "      <td>-0.198588</td>\n",
       "      <td>-0.407073</td>\n",
       "      <td>-0.113177</td>\n",
       "      <td>-0.139059</td>\n",
       "      <td>-0.161091</td>\n",
       "      <td>-0.161091</td>\n",
       "      <td>-0.34797</td>\n",
       "      <td>-0.214887</td>\n",
       "      <td>-0.079773</td>\n",
       "      <td>-0.079773</td>\n",
       "    </tr>\n",
       "    <tr>\n",
       "      <th>3</th>\n",
       "      <td>0.372887</td>\n",
       "      <td>6.207657</td>\n",
       "      <td>-0.113177</td>\n",
       "      <td>-0.139059</td>\n",
       "      <td>-0.470475</td>\n",
       "      <td>-0.113177</td>\n",
       "      <td>-0.215208</td>\n",
       "      <td>-0.198588</td>\n",
       "      <td>-0.079773</td>\n",
       "      <td>-0.079773</td>\n",
       "      <td>...</td>\n",
       "      <td>-0.198588</td>\n",
       "      <td>-0.407073</td>\n",
       "      <td>-0.113177</td>\n",
       "      <td>-0.139059</td>\n",
       "      <td>-0.161091</td>\n",
       "      <td>-0.161091</td>\n",
       "      <td>-0.34797</td>\n",
       "      <td>-0.214887</td>\n",
       "      <td>-0.079773</td>\n",
       "      <td>-0.079773</td>\n",
       "    </tr>\n",
       "    <tr>\n",
       "      <th>4</th>\n",
       "      <td>0.263199</td>\n",
       "      <td>6.207657</td>\n",
       "      <td>-0.113177</td>\n",
       "      <td>-0.139059</td>\n",
       "      <td>-0.470475</td>\n",
       "      <td>-0.113177</td>\n",
       "      <td>-0.215208</td>\n",
       "      <td>-0.198588</td>\n",
       "      <td>-0.079773</td>\n",
       "      <td>-0.079773</td>\n",
       "      <td>...</td>\n",
       "      <td>-0.198588</td>\n",
       "      <td>-0.407073</td>\n",
       "      <td>-0.113177</td>\n",
       "      <td>-0.139059</td>\n",
       "      <td>-0.161091</td>\n",
       "      <td>-0.161091</td>\n",
       "      <td>-0.34797</td>\n",
       "      <td>-0.214887</td>\n",
       "      <td>-0.079773</td>\n",
       "      <td>-0.079773</td>\n",
       "    </tr>\n",
       "    <tr>\n",
       "      <th>...</th>\n",
       "      <td>...</td>\n",
       "      <td>...</td>\n",
       "      <td>...</td>\n",
       "      <td>...</td>\n",
       "      <td>...</td>\n",
       "      <td>...</td>\n",
       "      <td>...</td>\n",
       "      <td>...</td>\n",
       "      <td>...</td>\n",
       "      <td>...</td>\n",
       "      <td>...</td>\n",
       "      <td>...</td>\n",
       "      <td>...</td>\n",
       "      <td>...</td>\n",
       "      <td>...</td>\n",
       "      <td>...</td>\n",
       "      <td>...</td>\n",
       "      <td>...</td>\n",
       "      <td>...</td>\n",
       "      <td>...</td>\n",
       "      <td>...</td>\n",
       "    </tr>\n",
       "    <tr>\n",
       "      <th>7902</th>\n",
       "      <td>0.482576</td>\n",
       "      <td>-0.161091</td>\n",
       "      <td>-0.113177</td>\n",
       "      <td>-0.139059</td>\n",
       "      <td>-0.470475</td>\n",
       "      <td>-0.113177</td>\n",
       "      <td>-0.215208</td>\n",
       "      <td>-0.198588</td>\n",
       "      <td>-0.079773</td>\n",
       "      <td>-0.079773</td>\n",
       "      <td>...</td>\n",
       "      <td>-0.198588</td>\n",
       "      <td>-0.407073</td>\n",
       "      <td>-0.113177</td>\n",
       "      <td>-0.139059</td>\n",
       "      <td>-0.161091</td>\n",
       "      <td>-0.161091</td>\n",
       "      <td>-0.34797</td>\n",
       "      <td>-0.214887</td>\n",
       "      <td>-0.079773</td>\n",
       "      <td>12.535549</td>\n",
       "    </tr>\n",
       "    <tr>\n",
       "      <th>7903</th>\n",
       "      <td>0.153511</td>\n",
       "      <td>-0.161091</td>\n",
       "      <td>-0.113177</td>\n",
       "      <td>-0.139059</td>\n",
       "      <td>-0.470475</td>\n",
       "      <td>-0.113177</td>\n",
       "      <td>-0.215208</td>\n",
       "      <td>-0.198588</td>\n",
       "      <td>-0.079773</td>\n",
       "      <td>-0.079773</td>\n",
       "      <td>...</td>\n",
       "      <td>-0.198588</td>\n",
       "      <td>-0.407073</td>\n",
       "      <td>-0.113177</td>\n",
       "      <td>-0.139059</td>\n",
       "      <td>-0.161091</td>\n",
       "      <td>-0.161091</td>\n",
       "      <td>-0.34797</td>\n",
       "      <td>-0.214887</td>\n",
       "      <td>-0.079773</td>\n",
       "      <td>12.535549</td>\n",
       "    </tr>\n",
       "    <tr>\n",
       "      <th>7904</th>\n",
       "      <td>0.263199</td>\n",
       "      <td>-0.161091</td>\n",
       "      <td>-0.113177</td>\n",
       "      <td>-0.139059</td>\n",
       "      <td>-0.470475</td>\n",
       "      <td>-0.113177</td>\n",
       "      <td>-0.215208</td>\n",
       "      <td>-0.198588</td>\n",
       "      <td>-0.079773</td>\n",
       "      <td>-0.079773</td>\n",
       "      <td>...</td>\n",
       "      <td>-0.198588</td>\n",
       "      <td>-0.407073</td>\n",
       "      <td>-0.113177</td>\n",
       "      <td>-0.139059</td>\n",
       "      <td>-0.161091</td>\n",
       "      <td>-0.161091</td>\n",
       "      <td>-0.34797</td>\n",
       "      <td>-0.214887</td>\n",
       "      <td>-0.079773</td>\n",
       "      <td>12.535549</td>\n",
       "    </tr>\n",
       "    <tr>\n",
       "      <th>7905</th>\n",
       "      <td>0.482576</td>\n",
       "      <td>-0.161091</td>\n",
       "      <td>-0.113177</td>\n",
       "      <td>-0.139059</td>\n",
       "      <td>-0.470475</td>\n",
       "      <td>-0.113177</td>\n",
       "      <td>-0.215208</td>\n",
       "      <td>-0.198588</td>\n",
       "      <td>-0.079773</td>\n",
       "      <td>-0.079773</td>\n",
       "      <td>...</td>\n",
       "      <td>-0.198588</td>\n",
       "      <td>-0.407073</td>\n",
       "      <td>-0.113177</td>\n",
       "      <td>-0.139059</td>\n",
       "      <td>-0.161091</td>\n",
       "      <td>-0.161091</td>\n",
       "      <td>-0.34797</td>\n",
       "      <td>-0.214887</td>\n",
       "      <td>-0.079773</td>\n",
       "      <td>12.535549</td>\n",
       "    </tr>\n",
       "    <tr>\n",
       "      <th>7906</th>\n",
       "      <td>-0.394930</td>\n",
       "      <td>-0.161091</td>\n",
       "      <td>-0.113177</td>\n",
       "      <td>-0.139059</td>\n",
       "      <td>-0.470475</td>\n",
       "      <td>-0.113177</td>\n",
       "      <td>-0.215208</td>\n",
       "      <td>-0.198588</td>\n",
       "      <td>-0.079773</td>\n",
       "      <td>-0.079773</td>\n",
       "      <td>...</td>\n",
       "      <td>-0.198588</td>\n",
       "      <td>-0.407073</td>\n",
       "      <td>-0.113177</td>\n",
       "      <td>-0.139059</td>\n",
       "      <td>-0.161091</td>\n",
       "      <td>-0.161091</td>\n",
       "      <td>-0.34797</td>\n",
       "      <td>-0.214887</td>\n",
       "      <td>-0.079773</td>\n",
       "      <td>12.535549</td>\n",
       "    </tr>\n",
       "  </tbody>\n",
       "</table>\n",
       "<p>7907 rows × 31 columns</p>\n",
       "</div>"
      ],
      "text/plain": [
       "        Rating  Arts, Film & Photography  \\\n",
       "0     0.153511                  6.207657   \n",
       "1     0.263199                  6.207657   \n",
       "2     0.372887                  6.207657   \n",
       "3     0.372887                  6.207657   \n",
       "4     0.263199                  6.207657   \n",
       "...        ...                       ...   \n",
       "7902  0.482576                 -0.161091   \n",
       "7903  0.153511                 -0.161091   \n",
       "7904  0.263199                 -0.161091   \n",
       "7905  0.482576                 -0.161091   \n",
       "7906 -0.394930                 -0.161091   \n",
       "\n",
       "      Biographies, Diaries & True Accounts  Business & Economics  \\\n",
       "0                                -0.113177             -0.139059   \n",
       "1                                -0.113177             -0.139059   \n",
       "2                                -0.113177             -0.139059   \n",
       "3                                -0.113177             -0.139059   \n",
       "4                                -0.113177             -0.139059   \n",
       "...                                    ...                   ...   \n",
       "7902                             -0.113177             -0.139059   \n",
       "7903                             -0.113177             -0.139059   \n",
       "7904                             -0.113177             -0.139059   \n",
       "7905                             -0.113177             -0.139059   \n",
       "7906                             -0.113177             -0.139059   \n",
       "\n",
       "      Children's Books  Comics & Mangas  Computing, Internet & Digital Media  \\\n",
       "0            -0.470475        -0.113177                            -0.215208   \n",
       "1            -0.470475        -0.113177                            -0.215208   \n",
       "2            -0.470475        -0.113177                            -0.215208   \n",
       "3            -0.470475        -0.113177                            -0.215208   \n",
       "4            -0.470475        -0.113177                            -0.215208   \n",
       "...                ...              ...                                  ...   \n",
       "7902         -0.470475        -0.113177                            -0.215208   \n",
       "7903         -0.470475        -0.113177                            -0.215208   \n",
       "7904         -0.470475        -0.113177                            -0.215208   \n",
       "7905         -0.470475        -0.113177                            -0.215208   \n",
       "7906         -0.470475        -0.113177                            -0.215208   \n",
       "\n",
       "      Crafts, Home & Lifestyle  Crime, Thriller & Mystery  Engineering  ...  \\\n",
       "0                    -0.198588                  -0.079773    -0.079773  ...   \n",
       "1                    -0.198588                  -0.079773    -0.079773  ...   \n",
       "2                    -0.198588                  -0.079773    -0.079773  ...   \n",
       "3                    -0.198588                  -0.079773    -0.079773  ...   \n",
       "4                    -0.198588                  -0.079773    -0.079773  ...   \n",
       "...                        ...                        ...          ...  ...   \n",
       "7902                 -0.198588                  -0.079773    -0.079773  ...   \n",
       "7903                 -0.198588                  -0.079773    -0.079773  ...   \n",
       "7904                 -0.198588                  -0.079773    -0.079773  ...   \n",
       "7905                 -0.198588                  -0.079773    -0.079773  ...   \n",
       "7906                 -0.198588                  -0.079773    -0.079773  ...   \n",
       "\n",
       "      Religion   Romance  School Books  Science & Mathematics  \\\n",
       "0    -0.198588 -0.407073     -0.113177              -0.139059   \n",
       "1    -0.198588 -0.407073     -0.113177              -0.139059   \n",
       "2    -0.198588 -0.407073     -0.113177              -0.139059   \n",
       "3    -0.198588 -0.407073     -0.113177              -0.139059   \n",
       "4    -0.198588 -0.407073     -0.113177              -0.139059   \n",
       "...        ...       ...           ...                    ...   \n",
       "7902 -0.198588 -0.407073     -0.113177              -0.139059   \n",
       "7903 -0.198588 -0.407073     -0.113177              -0.139059   \n",
       "7904 -0.198588 -0.407073     -0.113177              -0.139059   \n",
       "7905 -0.198588 -0.407073     -0.113177              -0.139059   \n",
       "7906 -0.198588 -0.407073     -0.113177              -0.139059   \n",
       "\n",
       "      Sciences, Technology & Medicine  Society & Social Sciences   Sports  \\\n",
       "0                           -0.161091                  -0.161091 -0.34797   \n",
       "1                           -0.161091                  -0.161091 -0.34797   \n",
       "2                           -0.161091                  -0.161091 -0.34797   \n",
       "3                           -0.161091                  -0.161091 -0.34797   \n",
       "4                           -0.161091                  -0.161091 -0.34797   \n",
       "...                               ...                        ...      ...   \n",
       "7902                        -0.161091                  -0.161091 -0.34797   \n",
       "7903                        -0.161091                  -0.161091 -0.34797   \n",
       "7904                        -0.161091                  -0.161091 -0.34797   \n",
       "7905                        -0.161091                  -0.161091 -0.34797   \n",
       "7906                        -0.161091                  -0.161091 -0.34797   \n",
       "\n",
       "      Teen & Young Adult  Textbooks & Study Guides     Travel  \n",
       "0              -0.214887                 -0.079773  -0.079773  \n",
       "1              -0.214887                 -0.079773  -0.079773  \n",
       "2              -0.214887                 -0.079773  -0.079773  \n",
       "3              -0.214887                 -0.079773  -0.079773  \n",
       "4              -0.214887                 -0.079773  -0.079773  \n",
       "...                  ...                       ...        ...  \n",
       "7902           -0.214887                 -0.079773  12.535549  \n",
       "7903           -0.214887                 -0.079773  12.535549  \n",
       "7904           -0.214887                 -0.079773  12.535549  \n",
       "7905           -0.214887                 -0.079773  12.535549  \n",
       "7906           -0.214887                 -0.079773  12.535549  \n",
       "\n",
       "[7907 rows x 31 columns]"
      ]
     },
     "execution_count": 21,
     "metadata": {},
     "output_type": "execute_result"
    }
   ],
   "source": [
    "scalerItem = StandardScaler()\n",
    "scalerItem.fit(df)\n",
    "df_scaled = scalerItem.transform(df)\n",
    "df_scaled = pd.DataFrame(df_scaled, columns=df.columns) # ndarry to dataframe\n",
    "df_scaled\n"
   ]
  },
  {
   "cell_type": "code",
   "execution_count": 22,
   "id": "b5776880",
   "metadata": {
    "execution": {
     "iopub.execute_input": "2024-04-19T04:02:02.682951Z",
     "iopub.status.busy": "2024-04-19T04:02:02.682487Z",
     "iopub.status.idle": "2024-04-19T04:02:02.693380Z",
     "shell.execute_reply": "2024-04-19T04:02:02.692227Z"
    },
    "papermill": {
     "duration": 0.034942,
     "end_time": "2024-04-19T04:02:02.696109",
     "exception": false,
     "start_time": "2024-04-19T04:02:02.661167",
     "status": "completed"
    },
    "tags": []
   },
   "outputs": [
    {
     "data": {
      "text/plain": [
       "0       0.153511\n",
       "1       0.263199\n",
       "2       0.372887\n",
       "3       0.372887\n",
       "4       0.263199\n",
       "          ...   \n",
       "7902    0.482576\n",
       "7903    0.153511\n",
       "7904    0.263199\n",
       "7905    0.482576\n",
       "7906   -0.394930\n",
       "Name: Rating, Length: 7907, dtype: float64"
      ]
     },
     "execution_count": 22,
     "metadata": {},
     "output_type": "execute_result"
    }
   ],
   "source": [
    "X = df_scaled.drop(columns=['Rating'])\n",
    "y = df_scaled['Rating']\n",
    "y"
   ]
  },
  {
   "cell_type": "code",
   "execution_count": 23,
   "id": "22b49323",
   "metadata": {
    "execution": {
     "iopub.execute_input": "2024-04-19T04:02:02.736907Z",
     "iopub.status.busy": "2024-04-19T04:02:02.736472Z",
     "iopub.status.idle": "2024-04-19T04:02:02.749487Z",
     "shell.execute_reply": "2024-04-19T04:02:02.748033Z"
    },
    "papermill": {
     "duration": 0.036382,
     "end_time": "2024-04-19T04:02:02.752018",
     "exception": false,
     "start_time": "2024-04-19T04:02:02.715636",
     "status": "completed"
    },
    "tags": []
   },
   "outputs": [
    {
     "name": "stdout",
     "output_type": "stream",
     "text": [
      "(6325, 30)\n",
      "(1582, 30)\n"
     ]
    }
   ],
   "source": [
    "# spliting \n",
    "\n",
    "X_train,X_test, y_train, y_test = train_test_split(X,y, train_size=0.80, shuffle=True, random_state=1)\n",
    "\n",
    "print(X_train.shape)\n",
    "print(X_test.shape)"
   ]
  },
  {
   "cell_type": "markdown",
   "id": "1065d652",
   "metadata": {
    "papermill": {
     "duration": 0.023233,
     "end_time": "2024-04-19T04:02:02.796045",
     "exception": false,
     "start_time": "2024-04-19T04:02:02.772812",
     "status": "completed"
    },
    "tags": []
   },
   "source": [
    "### Neural Network for content-based filtering"
   ]
  },
  {
   "cell_type": "code",
   "execution_count": 24,
   "id": "764e06d3",
   "metadata": {
    "execution": {
     "iopub.execute_input": "2024-04-19T04:02:02.841612Z",
     "iopub.status.busy": "2024-04-19T04:02:02.841201Z",
     "iopub.status.idle": "2024-04-19T04:02:19.201568Z",
     "shell.execute_reply": "2024-04-19T04:02:19.199935Z"
    },
    "papermill": {
     "duration": 16.3875,
     "end_time": "2024-04-19T04:02:19.204643",
     "exception": false,
     "start_time": "2024-04-19T04:02:02.817143",
     "status": "completed"
    },
    "tags": []
   },
   "outputs": [
    {
     "name": "stderr",
     "output_type": "stream",
     "text": [
      "2024-04-19 04:02:05.663176: E external/local_xla/xla/stream_executor/cuda/cuda_dnn.cc:9261] Unable to register cuDNN factory: Attempting to register factory for plugin cuDNN when one has already been registered\n",
      "2024-04-19 04:02:05.663431: E external/local_xla/xla/stream_executor/cuda/cuda_fft.cc:607] Unable to register cuFFT factory: Attempting to register factory for plugin cuFFT when one has already been registered\n",
      "2024-04-19 04:02:05.907642: E external/local_xla/xla/stream_executor/cuda/cuda_blas.cc:1515] Unable to register cuBLAS factory: Attempting to register factory for plugin cuBLAS when one has already been registered\n"
     ]
    }
   ],
   "source": [
    "import tensorflow as tf\n",
    "from tensorflow import keras"
   ]
  },
  {
   "cell_type": "code",
   "execution_count": 25,
   "id": "375346ea",
   "metadata": {
    "execution": {
     "iopub.execute_input": "2024-04-19T04:02:19.247190Z",
     "iopub.status.busy": "2024-04-19T04:02:19.246065Z",
     "iopub.status.idle": "2024-04-19T04:02:19.366857Z",
     "shell.execute_reply": "2024-04-19T04:02:19.365500Z"
    },
    "papermill": {
     "duration": 0.145755,
     "end_time": "2024-04-19T04:02:19.370539",
     "exception": false,
     "start_time": "2024-04-19T04:02:19.224784",
     "status": "completed"
    },
    "tags": []
   },
   "outputs": [
    {
     "name": "stderr",
     "output_type": "stream",
     "text": [
      "/opt/conda/lib/python3.10/site-packages/keras/src/layers/core/dense.py:88: UserWarning: Do not pass an `input_shape`/`input_dim` argument to a layer. When using Sequential models, prefer using an `Input(shape)` object as the first layer in the model instead.\n",
      "  super().__init__(activity_regularizer=activity_regularizer, **kwargs)\n"
     ]
    },
    {
     "data": {
      "text/html": [
       "<pre style=\"white-space:pre;overflow-x:auto;line-height:normal;font-family:Menlo,'DejaVu Sans Mono',consolas,'Courier New',monospace\"><span style=\"font-weight: bold\">Model: \"sequential\"</span>\n",
       "</pre>\n"
      ],
      "text/plain": [
       "\u001b[1mModel: \"sequential\"\u001b[0m\n"
      ]
     },
     "metadata": {},
     "output_type": "display_data"
    },
    {
     "data": {
      "text/html": [
       "<pre style=\"white-space:pre;overflow-x:auto;line-height:normal;font-family:Menlo,'DejaVu Sans Mono',consolas,'Courier New',monospace\">┏━━━━━━━━━━━━━━━━━━━━━━━━━━━━━━━━━┳━━━━━━━━━━━━━━━━━━━━━━━━┳━━━━━━━━━━━━━━━┓\n",
       "┃<span style=\"font-weight: bold\"> Layer (type)                    </span>┃<span style=\"font-weight: bold\"> Output Shape           </span>┃<span style=\"font-weight: bold\">       Param # </span>┃\n",
       "┡━━━━━━━━━━━━━━━━━━━━━━━━━━━━━━━━━╇━━━━━━━━━━━━━━━━━━━━━━━━╇━━━━━━━━━━━━━━━┩\n",
       "│ dense (<span style=\"color: #0087ff; text-decoration-color: #0087ff\">Dense</span>)                   │ (<span style=\"color: #00d7ff; text-decoration-color: #00d7ff\">None</span>, <span style=\"color: #00af00; text-decoration-color: #00af00\">256</span>)            │         <span style=\"color: #00af00; text-decoration-color: #00af00\">7,936</span> │\n",
       "├─────────────────────────────────┼────────────────────────┼───────────────┤\n",
       "│ dense_1 (<span style=\"color: #0087ff; text-decoration-color: #0087ff\">Dense</span>)                 │ (<span style=\"color: #00d7ff; text-decoration-color: #00d7ff\">None</span>, <span style=\"color: #00af00; text-decoration-color: #00af00\">128</span>)            │        <span style=\"color: #00af00; text-decoration-color: #00af00\">32,896</span> │\n",
       "├─────────────────────────────────┼────────────────────────┼───────────────┤\n",
       "│ dense_2 (<span style=\"color: #0087ff; text-decoration-color: #0087ff\">Dense</span>)                 │ (<span style=\"color: #00d7ff; text-decoration-color: #00d7ff\">None</span>, <span style=\"color: #00af00; text-decoration-color: #00af00\">32</span>)             │         <span style=\"color: #00af00; text-decoration-color: #00af00\">4,128</span> │\n",
       "└─────────────────────────────────┴────────────────────────┴───────────────┘\n",
       "</pre>\n"
      ],
      "text/plain": [
       "┏━━━━━━━━━━━━━━━━━━━━━━━━━━━━━━━━━┳━━━━━━━━━━━━━━━━━━━━━━━━┳━━━━━━━━━━━━━━━┓\n",
       "┃\u001b[1m \u001b[0m\u001b[1mLayer (type)                   \u001b[0m\u001b[1m \u001b[0m┃\u001b[1m \u001b[0m\u001b[1mOutput Shape          \u001b[0m\u001b[1m \u001b[0m┃\u001b[1m \u001b[0m\u001b[1m      Param #\u001b[0m\u001b[1m \u001b[0m┃\n",
       "┡━━━━━━━━━━━━━━━━━━━━━━━━━━━━━━━━━╇━━━━━━━━━━━━━━━━━━━━━━━━╇━━━━━━━━━━━━━━━┩\n",
       "│ dense (\u001b[38;5;33mDense\u001b[0m)                   │ (\u001b[38;5;45mNone\u001b[0m, \u001b[38;5;34m256\u001b[0m)            │         \u001b[38;5;34m7,936\u001b[0m │\n",
       "├─────────────────────────────────┼────────────────────────┼───────────────┤\n",
       "│ dense_1 (\u001b[38;5;33mDense\u001b[0m)                 │ (\u001b[38;5;45mNone\u001b[0m, \u001b[38;5;34m128\u001b[0m)            │        \u001b[38;5;34m32,896\u001b[0m │\n",
       "├─────────────────────────────────┼────────────────────────┼───────────────┤\n",
       "│ dense_2 (\u001b[38;5;33mDense\u001b[0m)                 │ (\u001b[38;5;45mNone\u001b[0m, \u001b[38;5;34m32\u001b[0m)             │         \u001b[38;5;34m4,128\u001b[0m │\n",
       "└─────────────────────────────────┴────────────────────────┴───────────────┘\n"
      ]
     },
     "metadata": {},
     "output_type": "display_data"
    },
    {
     "data": {
      "text/html": [
       "<pre style=\"white-space:pre;overflow-x:auto;line-height:normal;font-family:Menlo,'DejaVu Sans Mono',consolas,'Courier New',monospace\"><span style=\"font-weight: bold\"> Total params: </span><span style=\"color: #00af00; text-decoration-color: #00af00\">44,960</span> (175.62 KB)\n",
       "</pre>\n"
      ],
      "text/plain": [
       "\u001b[1m Total params: \u001b[0m\u001b[38;5;34m44,960\u001b[0m (175.62 KB)\n"
      ]
     },
     "metadata": {},
     "output_type": "display_data"
    },
    {
     "data": {
      "text/html": [
       "<pre style=\"white-space:pre;overflow-x:auto;line-height:normal;font-family:Menlo,'DejaVu Sans Mono',consolas,'Courier New',monospace\"><span style=\"font-weight: bold\"> Trainable params: </span><span style=\"color: #00af00; text-decoration-color: #00af00\">44,960</span> (175.62 KB)\n",
       "</pre>\n"
      ],
      "text/plain": [
       "\u001b[1m Trainable params: \u001b[0m\u001b[38;5;34m44,960\u001b[0m (175.62 KB)\n"
      ]
     },
     "metadata": {},
     "output_type": "display_data"
    },
    {
     "data": {
      "text/html": [
       "<pre style=\"white-space:pre;overflow-x:auto;line-height:normal;font-family:Menlo,'DejaVu Sans Mono',consolas,'Courier New',monospace\"><span style=\"font-weight: bold\"> Non-trainable params: </span><span style=\"color: #00af00; text-decoration-color: #00af00\">0</span> (0.00 B)\n",
       "</pre>\n"
      ],
      "text/plain": [
       "\u001b[1m Non-trainable params: \u001b[0m\u001b[38;5;34m0\u001b[0m (0.00 B)\n"
      ]
     },
     "metadata": {},
     "output_type": "display_data"
    },
    {
     "name": "stdout",
     "output_type": "stream",
     "text": [
      "None\n"
     ]
    }
   ],
   "source": [
    "num_outputs = 32\n",
    "\n",
    "# Assuming df_train is your training data\n",
    "input_shape = X_train.shape[1]\n",
    "\n",
    "NN = tf.keras.models.Sequential([\n",
    "    tf.keras.layers.Dense(units=256, activation=\"relu\", input_shape=(input_shape,)),\n",
    "    tf.keras.layers.Dense(units=128, activation=\"relu\"),\n",
    "    tf.keras.layers.Dense(units=num_outputs, activation=\"linear\")\n",
    "])\n",
    "\n",
    "print(NN.summary())"
   ]
  },
  {
   "cell_type": "code",
   "execution_count": 26,
   "id": "54469a32",
   "metadata": {
    "execution": {
     "iopub.execute_input": "2024-04-19T04:02:19.414568Z",
     "iopub.status.busy": "2024-04-19T04:02:19.414173Z",
     "iopub.status.idle": "2024-04-19T04:02:35.722548Z",
     "shell.execute_reply": "2024-04-19T04:02:35.721267Z"
    },
    "papermill": {
     "duration": 16.333928,
     "end_time": "2024-04-19T04:02:35.725550",
     "exception": false,
     "start_time": "2024-04-19T04:02:19.391622",
     "status": "completed"
    },
    "tags": []
   },
   "outputs": [
    {
     "name": "stdout",
     "output_type": "stream",
     "text": [
      "Epoch 1/20\n",
      "\u001b[1m253/253\u001b[0m \u001b[32m━━━━━━━━━━━━━━━━━━━━\u001b[0m\u001b[37m\u001b[0m \u001b[1m2s\u001b[0m 3ms/step - loss: 0.9631 - val_loss: 0.8577\n",
      "Epoch 2/20\n",
      "\u001b[1m253/253\u001b[0m \u001b[32m━━━━━━━━━━━━━━━━━━━━\u001b[0m\u001b[37m\u001b[0m \u001b[1m1s\u001b[0m 3ms/step - loss: 0.9736 - val_loss: 0.8240\n",
      "Epoch 3/20\n",
      "\u001b[1m253/253\u001b[0m \u001b[32m━━━━━━━━━━━━━━━━━━━━\u001b[0m\u001b[37m\u001b[0m \u001b[1m1s\u001b[0m 2ms/step - loss: 0.9191 - val_loss: 0.8198\n",
      "Epoch 4/20\n",
      "\u001b[1m253/253\u001b[0m \u001b[32m━━━━━━━━━━━━━━━━━━━━\u001b[0m\u001b[37m\u001b[0m \u001b[1m1s\u001b[0m 2ms/step - loss: 0.9076 - val_loss: 0.8243\n",
      "Epoch 5/20\n",
      "\u001b[1m253/253\u001b[0m \u001b[32m━━━━━━━━━━━━━━━━━━━━\u001b[0m\u001b[37m\u001b[0m \u001b[1m1s\u001b[0m 2ms/step - loss: 0.9798 - val_loss: 0.8216\n",
      "Epoch 6/20\n",
      "\u001b[1m253/253\u001b[0m \u001b[32m━━━━━━━━━━━━━━━━━━━━\u001b[0m\u001b[37m\u001b[0m \u001b[1m1s\u001b[0m 3ms/step - loss: 0.9600 - val_loss: 0.8188\n",
      "Epoch 7/20\n",
      "\u001b[1m253/253\u001b[0m \u001b[32m━━━━━━━━━━━━━━━━━━━━\u001b[0m\u001b[37m\u001b[0m \u001b[1m1s\u001b[0m 2ms/step - loss: 1.0568 - val_loss: 0.8185\n",
      "Epoch 8/20\n",
      "\u001b[1m253/253\u001b[0m \u001b[32m━━━━━━━━━━━━━━━━━━━━\u001b[0m\u001b[37m\u001b[0m \u001b[1m1s\u001b[0m 3ms/step - loss: 0.9408 - val_loss: 0.8226\n",
      "Epoch 9/20\n",
      "\u001b[1m253/253\u001b[0m \u001b[32m━━━━━━━━━━━━━━━━━━━━\u001b[0m\u001b[37m\u001b[0m \u001b[1m1s\u001b[0m 2ms/step - loss: 0.9721 - val_loss: 0.8187\n",
      "Epoch 10/20\n",
      "\u001b[1m253/253\u001b[0m \u001b[32m━━━━━━━━━━━━━━━━━━━━\u001b[0m\u001b[37m\u001b[0m \u001b[1m1s\u001b[0m 2ms/step - loss: 0.9732 - val_loss: 0.8249\n",
      "Epoch 11/20\n",
      "\u001b[1m253/253\u001b[0m \u001b[32m━━━━━━━━━━━━━━━━━━━━\u001b[0m\u001b[37m\u001b[0m \u001b[1m1s\u001b[0m 2ms/step - loss: 0.8599 - val_loss: 0.8312\n",
      "Epoch 12/20\n",
      "\u001b[1m253/253\u001b[0m \u001b[32m━━━━━━━━━━━━━━━━━━━━\u001b[0m\u001b[37m\u001b[0m \u001b[1m1s\u001b[0m 2ms/step - loss: 1.0172 - val_loss: 0.8173\n",
      "Epoch 13/20\n",
      "\u001b[1m253/253\u001b[0m \u001b[32m━━━━━━━━━━━━━━━━━━━━\u001b[0m\u001b[37m\u001b[0m \u001b[1m1s\u001b[0m 2ms/step - loss: 0.9279 - val_loss: 0.8197\n",
      "Epoch 14/20\n",
      "\u001b[1m253/253\u001b[0m \u001b[32m━━━━━━━━━━━━━━━━━━━━\u001b[0m\u001b[37m\u001b[0m \u001b[1m1s\u001b[0m 2ms/step - loss: 0.9323 - val_loss: 0.8207\n",
      "Epoch 15/20\n",
      "\u001b[1m253/253\u001b[0m \u001b[32m━━━━━━━━━━━━━━━━━━━━\u001b[0m\u001b[37m\u001b[0m \u001b[1m1s\u001b[0m 2ms/step - loss: 0.9415 - val_loss: 0.8198\n",
      "Epoch 16/20\n",
      "\u001b[1m253/253\u001b[0m \u001b[32m━━━━━━━━━━━━━━━━━━━━\u001b[0m\u001b[37m\u001b[0m \u001b[1m1s\u001b[0m 2ms/step - loss: 0.9122 - val_loss: 0.8257\n",
      "Epoch 17/20\n",
      "\u001b[1m253/253\u001b[0m \u001b[32m━━━━━━━━━━━━━━━━━━━━\u001b[0m\u001b[37m\u001b[0m \u001b[1m1s\u001b[0m 2ms/step - loss: 0.8880 - val_loss: 0.8175\n",
      "Epoch 18/20\n",
      "\u001b[1m253/253\u001b[0m \u001b[32m━━━━━━━━━━━━━━━━━━━━\u001b[0m\u001b[37m\u001b[0m \u001b[1m1s\u001b[0m 2ms/step - loss: 0.9860 - val_loss: 0.8185\n",
      "Epoch 19/20\n",
      "\u001b[1m253/253\u001b[0m \u001b[32m━━━━━━━━━━━━━━━━━━━━\u001b[0m\u001b[37m\u001b[0m \u001b[1m1s\u001b[0m 2ms/step - loss: 0.9056 - val_loss: 0.8189\n",
      "Epoch 20/20\n",
      "\u001b[1m253/253\u001b[0m \u001b[32m━━━━━━━━━━━━━━━━━━━━\u001b[0m\u001b[37m\u001b[0m \u001b[1m1s\u001b[0m 2ms/step - loss: 0.8709 - val_loss: 0.8220\n"
     ]
    }
   ],
   "source": [
    "NN.compile(loss= 'mean_squared_error', optimizer= 'adam')\n",
    "history = NN.fit(X_train,y_train, epochs = 20,batch_size= 20, validation_split= 0.2)"
   ]
  },
  {
   "cell_type": "code",
   "execution_count": 27,
   "id": "0685c2ad",
   "metadata": {
    "execution": {
     "iopub.execute_input": "2024-04-19T04:02:35.814562Z",
     "iopub.status.busy": "2024-04-19T04:02:35.814160Z",
     "iopub.status.idle": "2024-04-19T04:02:35.967565Z",
     "shell.execute_reply": "2024-04-19T04:02:35.966175Z"
    },
    "papermill": {
     "duration": 0.201014,
     "end_time": "2024-04-19T04:02:35.970189",
     "exception": false,
     "start_time": "2024-04-19T04:02:35.769175",
     "status": "completed"
    },
    "tags": []
   },
   "outputs": [
    {
     "name": "stdout",
     "output_type": "stream",
     "text": [
      "\u001b[1m50/50\u001b[0m \u001b[32m━━━━━━━━━━━━━━━━━━━━\u001b[0m\u001b[37m\u001b[0m \u001b[1m0s\u001b[0m 1ms/step - loss: 0.7445\n",
      "0.9442757964134216\n"
     ]
    }
   ],
   "source": [
    "test_loss = NN.evaluate(X_test, y_test)\n",
    "print(test_loss)"
   ]
  },
  {
   "cell_type": "code",
   "execution_count": null,
   "id": "2518fbbb",
   "metadata": {
    "papermill": {
     "duration": 0.04877,
     "end_time": "2024-04-19T04:02:36.068831",
     "exception": false,
     "start_time": "2024-04-19T04:02:36.020061",
     "status": "completed"
    },
    "tags": []
   },
   "outputs": [],
   "source": []
  },
  {
   "cell_type": "code",
   "execution_count": null,
   "id": "bbef4ef3",
   "metadata": {
    "papermill": {
     "duration": 0.043416,
     "end_time": "2024-04-19T04:02:36.156190",
     "exception": false,
     "start_time": "2024-04-19T04:02:36.112774",
     "status": "completed"
    },
    "tags": []
   },
   "outputs": [],
   "source": []
  },
  {
   "cell_type": "markdown",
   "id": "567b8e16",
   "metadata": {
    "papermill": {
     "duration": 0.043497,
     "end_time": "2024-04-19T04:02:36.245390",
     "exception": false,
     "start_time": "2024-04-19T04:02:36.201893",
     "status": "completed"
    },
    "tags": []
   },
   "source": [
    "### Similar Books"
   ]
  },
  {
   "cell_type": "code",
   "execution_count": 28,
   "id": "fe65e724",
   "metadata": {
    "execution": {
     "iopub.execute_input": "2024-04-19T04:02:36.335687Z",
     "iopub.status.busy": "2024-04-19T04:02:36.335235Z",
     "iopub.status.idle": "2024-04-19T04:02:36.373253Z",
     "shell.execute_reply": "2024-04-19T04:02:36.371811Z"
    },
    "papermill": {
     "duration": 0.087254,
     "end_time": "2024-04-19T04:02:36.376697",
     "exception": false,
     "start_time": "2024-04-19T04:02:36.289443",
     "status": "completed"
    },
    "tags": []
   },
   "outputs": [
    {
     "data": {
      "text/html": [
       "<pre style=\"white-space:pre;overflow-x:auto;line-height:normal;font-family:Menlo,'DejaVu Sans Mono',consolas,'Courier New',monospace\"><span style=\"font-weight: bold\">Model: \"functional_2\"</span>\n",
       "</pre>\n"
      ],
      "text/plain": [
       "\u001b[1mModel: \"functional_2\"\u001b[0m\n"
      ]
     },
     "metadata": {},
     "output_type": "display_data"
    },
    {
     "data": {
      "text/html": [
       "<pre style=\"white-space:pre;overflow-x:auto;line-height:normal;font-family:Menlo,'DejaVu Sans Mono',consolas,'Courier New',monospace\">┏━━━━━━━━━━━━━━━━━━━━━━━━━━━━━━━━━┳━━━━━━━━━━━━━━━━━━━━━━━━┳━━━━━━━━━━━━━━━┓\n",
       "┃<span style=\"font-weight: bold\"> Layer (type)                    </span>┃<span style=\"font-weight: bold\"> Output Shape           </span>┃<span style=\"font-weight: bold\">       Param # </span>┃\n",
       "┡━━━━━━━━━━━━━━━━━━━━━━━━━━━━━━━━━╇━━━━━━━━━━━━━━━━━━━━━━━━╇━━━━━━━━━━━━━━━┩\n",
       "│ input_layer_1 (<span style=\"color: #0087ff; text-decoration-color: #0087ff\">InputLayer</span>)      │ (<span style=\"color: #00d7ff; text-decoration-color: #00d7ff\">None</span>, <span style=\"color: #00af00; text-decoration-color: #00af00\">30</span>)             │             <span style=\"color: #00af00; text-decoration-color: #00af00\">0</span> │\n",
       "├─────────────────────────────────┼────────────────────────┼───────────────┤\n",
       "│ sequential (<span style=\"color: #0087ff; text-decoration-color: #0087ff\">Sequential</span>)         │ (<span style=\"color: #00d7ff; text-decoration-color: #00d7ff\">None</span>, <span style=\"color: #00af00; text-decoration-color: #00af00\">32</span>)             │        <span style=\"color: #00af00; text-decoration-color: #00af00\">44,960</span> │\n",
       "└─────────────────────────────────┴────────────────────────┴───────────────┘\n",
       "</pre>\n"
      ],
      "text/plain": [
       "┏━━━━━━━━━━━━━━━━━━━━━━━━━━━━━━━━━┳━━━━━━━━━━━━━━━━━━━━━━━━┳━━━━━━━━━━━━━━━┓\n",
       "┃\u001b[1m \u001b[0m\u001b[1mLayer (type)                   \u001b[0m\u001b[1m \u001b[0m┃\u001b[1m \u001b[0m\u001b[1mOutput Shape          \u001b[0m\u001b[1m \u001b[0m┃\u001b[1m \u001b[0m\u001b[1m      Param #\u001b[0m\u001b[1m \u001b[0m┃\n",
       "┡━━━━━━━━━━━━━━━━━━━━━━━━━━━━━━━━━╇━━━━━━━━━━━━━━━━━━━━━━━━╇━━━━━━━━━━━━━━━┩\n",
       "│ input_layer_1 (\u001b[38;5;33mInputLayer\u001b[0m)      │ (\u001b[38;5;45mNone\u001b[0m, \u001b[38;5;34m30\u001b[0m)             │             \u001b[38;5;34m0\u001b[0m │\n",
       "├─────────────────────────────────┼────────────────────────┼───────────────┤\n",
       "│ sequential (\u001b[38;5;33mSequential\u001b[0m)         │ (\u001b[38;5;45mNone\u001b[0m, \u001b[38;5;34m32\u001b[0m)             │        \u001b[38;5;34m44,960\u001b[0m │\n",
       "└─────────────────────────────────┴────────────────────────┴───────────────┘\n"
      ]
     },
     "metadata": {},
     "output_type": "display_data"
    },
    {
     "data": {
      "text/html": [
       "<pre style=\"white-space:pre;overflow-x:auto;line-height:normal;font-family:Menlo,'DejaVu Sans Mono',consolas,'Courier New',monospace\"><span style=\"font-weight: bold\"> Total params: </span><span style=\"color: #00af00; text-decoration-color: #00af00\">44,960</span> (175.62 KB)\n",
       "</pre>\n"
      ],
      "text/plain": [
       "\u001b[1m Total params: \u001b[0m\u001b[38;5;34m44,960\u001b[0m (175.62 KB)\n"
      ]
     },
     "metadata": {},
     "output_type": "display_data"
    },
    {
     "data": {
      "text/html": [
       "<pre style=\"white-space:pre;overflow-x:auto;line-height:normal;font-family:Menlo,'DejaVu Sans Mono',consolas,'Courier New',monospace\"><span style=\"font-weight: bold\"> Trainable params: </span><span style=\"color: #00af00; text-decoration-color: #00af00\">44,960</span> (175.62 KB)\n",
       "</pre>\n"
      ],
      "text/plain": [
       "\u001b[1m Trainable params: \u001b[0m\u001b[38;5;34m44,960\u001b[0m (175.62 KB)\n"
      ]
     },
     "metadata": {},
     "output_type": "display_data"
    },
    {
     "data": {
      "text/html": [
       "<pre style=\"white-space:pre;overflow-x:auto;line-height:normal;font-family:Menlo,'DejaVu Sans Mono',consolas,'Courier New',monospace\"><span style=\"font-weight: bold\"> Non-trainable params: </span><span style=\"color: #00af00; text-decoration-color: #00af00\">0</span> (0.00 B)\n",
       "</pre>\n"
      ],
      "text/plain": [
       "\u001b[1m Non-trainable params: \u001b[0m\u001b[38;5;34m0\u001b[0m (0.00 B)\n"
      ]
     },
     "metadata": {},
     "output_type": "display_data"
    },
    {
     "name": "stdout",
     "output_type": "stream",
     "text": [
      "None\n"
     ]
    }
   ],
   "source": [
    "# Define the input layer for the item_NN model\n",
    "input_item_b = tf.keras.layers.Input(shape=(input_shape,))\n",
    "\n",
    "# Use the initial NN model (item_NN) on the input_item_m\n",
    "vm_b = NN(input_item_b)\n",
    "\n",
    "# Define the final model_m combining input_item_m and vm_m\n",
    "model_b = tf.keras.Model(input_item_b, vm_b)\n",
    "\n",
    "# Print the summary of the final model_b\n",
    "print(model_b.summary())"
   ]
  },
  {
   "cell_type": "code",
   "execution_count": 29,
   "id": "b125ae63",
   "metadata": {
    "execution": {
     "iopub.execute_input": "2024-04-19T04:02:36.470486Z",
     "iopub.status.busy": "2024-04-19T04:02:36.470037Z",
     "iopub.status.idle": "2024-04-19T04:02:37.071493Z",
     "shell.execute_reply": "2024-04-19T04:02:37.070448Z"
    },
    "papermill": {
     "duration": 0.651647,
     "end_time": "2024-04-19T04:02:37.074072",
     "exception": false,
     "start_time": "2024-04-19T04:02:36.422425",
     "status": "completed"
    },
    "tags": []
   },
   "outputs": [
    {
     "name": "stdout",
     "output_type": "stream",
     "text": [
      "\u001b[1m248/248\u001b[0m \u001b[32m━━━━━━━━━━━━━━━━━━━━\u001b[0m\u001b[37m\u001b[0m \u001b[1m0s\u001b[0m 1ms/step\n",
      "(7907, 32)\n",
      "(7907, 30)\n"
     ]
    }
   ],
   "source": [
    "books_vector = model_b.predict(X)\n",
    "print(books_vector.shape)\n",
    "print(X.shape)"
   ]
  },
  {
   "cell_type": "markdown",
   "id": "cf1bb76c",
   "metadata": {
    "papermill": {
     "duration": 0.048024,
     "end_time": "2024-04-19T04:02:37.167945",
     "exception": false,
     "start_time": "2024-04-19T04:02:37.119921",
     "status": "completed"
    },
    "tags": []
   },
   "source": [
    "for finding similar movies we will calculate the distance between the movies , similar movies are nearer"
   ]
  },
  {
   "cell_type": "code",
   "execution_count": 30,
   "id": "ed019513",
   "metadata": {
    "execution": {
     "iopub.execute_input": "2024-04-19T04:02:37.265036Z",
     "iopub.status.busy": "2024-04-19T04:02:37.264589Z",
     "iopub.status.idle": "2024-04-19T04:02:37.271240Z",
     "shell.execute_reply": "2024-04-19T04:02:37.269929Z"
    },
    "papermill": {
     "duration": 0.05676,
     "end_time": "2024-04-19T04:02:37.274051",
     "exception": false,
     "start_time": "2024-04-19T04:02:37.217291",
     "status": "completed"
    },
    "tags": []
   },
   "outputs": [],
   "source": [
    "\n",
    "# funtion to caculte the distance between the vectors \n",
    "def sq_distance(a,b):\n",
    "    d = np.sum((a-b)**2)\n",
    "    return d\n",
    "\n",
    "#This didnot work took large comutation so we used vectorized computation instead of calling the function\n"
   ]
  },
  {
   "cell_type": "code",
   "execution_count": 31,
   "id": "98dd3dc5",
   "metadata": {
    "execution": {
     "iopub.execute_input": "2024-04-19T04:02:37.367940Z",
     "iopub.status.busy": "2024-04-19T04:02:37.367503Z",
     "iopub.status.idle": "2024-04-19T04:02:46.043067Z",
     "shell.execute_reply": "2024-04-19T04:02:46.041607Z"
    },
    "papermill": {
     "duration": 8.726357,
     "end_time": "2024-04-19T04:02:46.046409",
     "exception": false,
     "start_time": "2024-04-19T04:02:37.320052",
     "status": "completed"
    },
    "tags": []
   },
   "outputs": [],
   "source": [
    "num_books = len(books_vector)\n",
    "distance_matrix = np.zeros((num_books, num_books))\n",
    "# Vectorized computation of distance matrix\n",
    "distance_matrix = np.sum((books_vector[:, np.newaxis] - books_vector[np.newaxis, :]) ** 2, axis=-1)\n"
   ]
  },
  {
   "cell_type": "code",
   "execution_count": 32,
   "id": "8d2da356",
   "metadata": {
    "execution": {
     "iopub.execute_input": "2024-04-19T04:02:46.140272Z",
     "iopub.status.busy": "2024-04-19T04:02:46.139585Z",
     "iopub.status.idle": "2024-04-19T04:02:46.144549Z",
     "shell.execute_reply": "2024-04-19T04:02:46.143660Z"
    },
    "papermill": {
     "duration": 0.054871,
     "end_time": "2024-04-19T04:02:46.146843",
     "exception": false,
     "start_time": "2024-04-19T04:02:46.091972",
     "status": "completed"
    },
    "tags": []
   },
   "outputs": [],
   "source": [
    "import numpy.ma as ma"
   ]
  },
  {
   "cell_type": "code",
   "execution_count": 33,
   "id": "e51778ef",
   "metadata": {
    "execution": {
     "iopub.execute_input": "2024-04-19T04:02:46.240175Z",
     "iopub.status.busy": "2024-04-19T04:02:46.239810Z",
     "iopub.status.idle": "2024-04-19T04:02:46.517314Z",
     "shell.execute_reply": "2024-04-19T04:02:46.516060Z"
    },
    "papermill": {
     "duration": 0.327479,
     "end_time": "2024-04-19T04:02:46.520310",
     "exception": false,
     "start_time": "2024-04-19T04:02:46.192831",
     "status": "completed"
    },
    "tags": []
   },
   "outputs": [],
   "source": [
    "# now we need to mask the diagonal\n",
    "masked_dmat = ma.masked_array(distance_matrix, mask=np.identity(distance_matrix.shape[0]))  # mask the diagonal"
   ]
  },
  {
   "cell_type": "code",
   "execution_count": 34,
   "id": "09745d90",
   "metadata": {
    "execution": {
     "iopub.execute_input": "2024-04-19T04:02:46.615189Z",
     "iopub.status.busy": "2024-04-19T04:02:46.614791Z",
     "iopub.status.idle": "2024-04-19T04:02:49.397313Z",
     "shell.execute_reply": "2024-04-19T04:02:49.396028Z"
    },
    "papermill": {
     "duration": 2.832418,
     "end_time": "2024-04-19T04:02:49.399861",
     "exception": false,
     "start_time": "2024-04-19T04:02:46.567443",
     "status": "completed"
    },
    "tags": []
   },
   "outputs": [
    {
     "data": {
      "image/png": "[encoded data removed]",
      "text/plain": [
       "<Figure size 640x480 with 2 Axes>"
      ]
     },
     "metadata": {},
     "output_type": "display_data"
    }
   ],
   "source": [
    "# Plot the distance matrix\n",
    "plt.imshow(masked_dmat, cmap='viridis', interpolation='none', aspect='auto')\n",
    "plt.colorbar(label='Squared Distance')\n",
    "plt.title('Books Distance Matrix')\n",
    "plt.xlabel('Books Index')\n",
    "plt.ylabel('Books Index')\n",
    "plt.show()"
   ]
  },
  {
   "cell_type": "code",
   "execution_count": 35,
   "id": "9b70b594",
   "metadata": {
    "execution": {
     "iopub.execute_input": "2024-04-19T04:02:49.495981Z",
     "iopub.status.busy": "2024-04-19T04:02:49.495534Z",
     "iopub.status.idle": "2024-04-19T04:02:49.503389Z",
     "shell.execute_reply": "2024-04-19T04:02:49.501797Z"
    },
    "papermill": {
     "duration": 0.059299,
     "end_time": "2024-04-19T04:02:49.506312",
     "exception": false,
     "start_time": "2024-04-19T04:02:49.447013",
     "status": "completed"
    },
    "tags": []
   },
   "outputs": [],
   "source": [
    "def get_top_similar_books_names(book_name, book_names=df_books_dropped['Title'].tolist(), masked_distance_matrix=masked_dmat, top_n=10):\n",
    "    # Find index of the given book name\n",
    "    book_index = book_names.index(book_name)\n",
    "    \n",
    "    # Find indices of top similar books\n",
    "    top_similar_indices = np.argsort(masked_distance_matrix[book_index])[:top_n]\n",
    "    \n",
    "    # Get names of top similar books\n",
    "    similar_books = [book_names[idx] for idx in top_similar_indices]\n",
    "    \n",
    "    return  top_similar_indices ,similar_books\n"
   ]
  },
  {
   "cell_type": "code",
   "execution_count": 36,
   "id": "3617a886",
   "metadata": {
    "execution": {
     "iopub.execute_input": "2024-04-19T04:02:49.602868Z",
     "iopub.status.busy": "2024-04-19T04:02:49.601745Z",
     "iopub.status.idle": "2024-04-19T04:02:49.617853Z",
     "shell.execute_reply": "2024-04-19T04:02:49.616414Z"
    },
    "papermill": {
     "duration": 0.067044,
     "end_time": "2024-04-19T04:02:49.620687",
     "exception": false,
     "start_time": "2024-04-19T04:02:49.553643",
     "status": "completed"
    },
    "tags": []
   },
   "outputs": [
    {
     "data": {
      "text/html": [
       "<div>\n",
       "<style scoped>\n",
       "    .dataframe tbody tr th:only-of-type {\n",
       "        vertical-align: middle;\n",
       "    }\n",
       "\n",
       "    .dataframe tbody tr th {\n",
       "        vertical-align: top;\n",
       "    }\n",
       "\n",
       "    .dataframe thead th {\n",
       "        text-align: right;\n",
       "    }\n",
       "</style>\n",
       "<table border=\"1\" class=\"dataframe\">\n",
       "  <thead>\n",
       "    <tr style=\"text-align: right;\">\n",
       "      <th></th>\n",
       "      <th>Title</th>\n",
       "    </tr>\n",
       "  </thead>\n",
       "  <tbody>\n",
       "    <tr>\n",
       "      <th>0</th>\n",
       "      <td>The Complete Novel of Sherlock Holmes</td>\n",
       "    </tr>\n",
       "    <tr>\n",
       "      <th>1</th>\n",
       "      <td>Black Holes (L) : The Reith Lectures [Paperbac...</td>\n",
       "    </tr>\n",
       "    <tr>\n",
       "      <th>2</th>\n",
       "      <td>The Kite Runner</td>\n",
       "    </tr>\n",
       "    <tr>\n",
       "      <th>3</th>\n",
       "      <td>Greenlights: Raucous stories and outlaw wisdom...</td>\n",
       "    </tr>\n",
       "    <tr>\n",
       "      <th>4</th>\n",
       "      <td>The Science of Storytelling: Why Stories Make ...</td>\n",
       "    </tr>\n",
       "    <tr>\n",
       "      <th>...</th>\n",
       "      <td>...</td>\n",
       "    </tr>\n",
       "    <tr>\n",
       "      <th>7923</th>\n",
       "      <td>Insight Guides Poland (Travel Guide with Free ...</td>\n",
       "    </tr>\n",
       "    <tr>\n",
       "      <th>7924</th>\n",
       "      <td>Lonely Planet India 19 (Travel Guide)</td>\n",
       "    </tr>\n",
       "    <tr>\n",
       "      <th>7925</th>\n",
       "      <td>Eyewitness Travel Phrase Book French (EW Trave...</td>\n",
       "    </tr>\n",
       "    <tr>\n",
       "      <th>7926</th>\n",
       "      <td>Lonely Planet Australia (Travel Guide)</td>\n",
       "    </tr>\n",
       "    <tr>\n",
       "      <th>7927</th>\n",
       "      <td>Political Map of India Latest Map of India Wit...</td>\n",
       "    </tr>\n",
       "  </tbody>\n",
       "</table>\n",
       "<p>7907 rows × 1 columns</p>\n",
       "</div>"
      ],
      "text/plain": [
       "                                                  Title\n",
       "0                 The Complete Novel of Sherlock Holmes\n",
       "1     Black Holes (L) : The Reith Lectures [Paperbac...\n",
       "2                                       The Kite Runner\n",
       "3     Greenlights: Raucous stories and outlaw wisdom...\n",
       "4     The Science of Storytelling: Why Stories Make ...\n",
       "...                                                 ...\n",
       "7923  Insight Guides Poland (Travel Guide with Free ...\n",
       "7924              Lonely Planet India 19 (Travel Guide)\n",
       "7925  Eyewitness Travel Phrase Book French (EW Trave...\n",
       "7926             Lonely Planet Australia (Travel Guide)\n",
       "7927  Political Map of India Latest Map of India Wit...\n",
       "\n",
       "[7907 rows x 1 columns]"
      ]
     },
     "execution_count": 36,
     "metadata": {},
     "output_type": "execute_result"
    }
   ],
   "source": [
    "df_books_dropped.loc[:, ['Title']]"
   ]
  },
  {
   "cell_type": "code",
   "execution_count": 37,
   "id": "91c08da9",
   "metadata": {
    "execution": {
     "iopub.execute_input": "2024-04-19T04:02:49.717785Z",
     "iopub.status.busy": "2024-04-19T04:02:49.717368Z",
     "iopub.status.idle": "2024-04-19T04:02:49.724680Z",
     "shell.execute_reply": "2024-04-19T04:02:49.723463Z"
    },
    "papermill": {
     "duration": 0.058842,
     "end_time": "2024-04-19T04:02:49.727172",
     "exception": false,
     "start_time": "2024-04-19T04:02:49.668330",
     "status": "completed"
    },
    "tags": []
   },
   "outputs": [
    {
     "data": {
      "text/plain": [
       "(7907, 7907)"
      ]
     },
     "execution_count": 37,
     "metadata": {},
     "output_type": "execute_result"
    }
   ],
   "source": [
    "masked_dmat.shape"
   ]
  },
  {
   "cell_type": "code",
   "execution_count": 38,
   "id": "fd33963c",
   "metadata": {
    "execution": {
     "iopub.execute_input": "2024-04-19T04:02:49.824105Z",
     "iopub.status.busy": "2024-04-19T04:02:49.823178Z",
     "iopub.status.idle": "2024-04-19T04:02:49.831911Z",
     "shell.execute_reply": "2024-04-19T04:02:49.830662Z"
    },
    "papermill": {
     "duration": 0.060043,
     "end_time": "2024-04-19T04:02:49.834356",
     "exception": false,
     "start_time": "2024-04-19T04:02:49.774313",
     "status": "completed"
    },
    "tags": []
   },
   "outputs": [
    {
     "name": "stdout",
     "output_type": "stream",
     "text": [
      "Top 10 Similar Books to 'KING: Alliance Series Book Two':\n",
      "5098. The Checkmate (Political Romance Trilogy Book 3)\n",
      "5488. The Devil's Secret: A Dark Second Chance Mafia Romance (Jade's Story) (Cavaleri Brothers Book 3)\n",
      "5489. Sold to the Italian Mafia Boss: A Dark Mafia Arranged Romance (Possessive Mafia Kings Book 6)\n",
      "5490. Until I Get You: A Hockey Romance Novel\n",
      "5491. The Italian\n",
      "5492. Baby for the Italian Mafia Don : A Dark Mafia Arranged Marriage Romance (Possessive Mafia Kings Book 16)\n",
      "5493. Where Waves Break: A Nanny/Single Father Romance (The Seasons Change)\n",
      "5494. Beneath The Lies: A Billionaire Duke with amnesia second chance romance (Forgotten Trilogy Book 1)\n",
      "5495. The Greek Billionaire's Replacement Girlfriend (A Painful Kind of Love)\n",
      "5496. Contract of a Billionaire : A Mafia Billionaire Romance (Billionaire Kings Book 1)\n"
     ]
    }
   ],
   "source": [
    "book_name = 'KING: Alliance Series Book Two'  # Example book name\n",
    "top_similar_books_indices, top_similar_books_names = get_top_similar_books_names(book_name)\n",
    "\n",
    "print(f\"Top 10 Similar Books to '{book_name}':\")\n",
    "\n",
    "for i, similar_book in zip(top_similar_books_indices, top_similar_books_names):\n",
    "    print(f\"{i }. {similar_book}\")\n"
   ]
  },
  {
   "cell_type": "code",
   "execution_count": 39,
   "id": "cc80492c",
   "metadata": {
    "execution": {
     "iopub.execute_input": "2024-04-19T04:02:49.932889Z",
     "iopub.status.busy": "2024-04-19T04:02:49.931543Z",
     "iopub.status.idle": "2024-04-19T04:02:49.948866Z",
     "shell.execute_reply": "2024-04-19T04:02:49.947598Z"
    },
    "papermill": {
     "duration": 0.068747,
     "end_time": "2024-04-19T04:02:49.951402",
     "exception": false,
     "start_time": "2024-04-19T04:02:49.882655",
     "status": "completed"
    },
    "tags": []
   },
   "outputs": [
    {
     "data": {
      "text/plain": [
       "'KING: Alliance Series Book Two'"
      ]
     },
     "execution_count": 39,
     "metadata": {},
     "output_type": "execute_result"
    }
   ],
   "source": [
    "romance_books = df_books[(df_books['Main Genre'].str.contains('Romance', case=False, na=False))]\n",
    "romance_books['Title'].tolist()[5]"
   ]
  },
  {
   "cell_type": "code",
   "execution_count": null,
   "id": "4e9b01f8",
   "metadata": {
    "papermill": {
     "duration": 0.047272,
     "end_time": "2024-04-19T04:02:50.046546",
     "exception": false,
     "start_time": "2024-04-19T04:02:49.999274",
     "status": "completed"
    },
    "tags": []
   },
   "outputs": [],
   "source": []
  }
 ],
 "metadata": {
  "kaggle": {
   "accelerator": "none",
   "dataSources": [
    {
     "datasetId": 4454891,
     "sourceId": 7643170,
     "sourceType": "datasetVersion"
    }
   ],
   "dockerImageVersionId": 30684,
   "isGpuEnabled": false,
   "isInternetEnabled": true,
   "language": "python",
   "sourceType": "notebook"
  },
  "kernelspec": {
   "display_name": "Python 3",
   "language": "python",
   "name": "python3"
  },
  "language_info": {
   "codemirror_mode": {
    "name": "ipython",
    "version": 3
   },
   "file_extension": ".py",
   "mimetype": "text/x-python",
   "name": "python",
   "nbconvert_exporter": "python",
   "pygments_lexer": "ipython3",
   "version": "3.10.13"
  },
  "papermill": {
   "default_parameters": {},
   "duration": 58.322835,
   "end_time": "2024-04-19T04:02:52.700333",
   "environment_variables": {},
   "exception": null,
   "input_path": "__notebook__.ipynb",
   "output_path": "__notebook__.ipynb",
   "parameters": {},
   "start_time": "2024-04-19T04:01:54.377498",
   "version": "2.5.0"
  }
 },
 "nbformat": 4,
 "nbformat_minor": 5
}
